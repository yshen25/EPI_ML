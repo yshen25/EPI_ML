{
 "metadata": {
  "language_info": {
   "codemirror_mode": {
    "name": "ipython",
    "version": 3
   },
   "file_extension": ".py",
   "mimetype": "text/x-python",
   "name": "python",
   "nbconvert_exporter": "python",
   "pygments_lexer": "ipython3",
   "version": "3.8.8-final"
  },
  "orig_nbformat": 2,
  "kernelspec": {
   "name": "python3",
   "display_name": "Python 3",
   "language": "python"
  }
 },
 "nbformat": 4,
 "nbformat_minor": 2,
 "cells": [
  {
   "cell_type": "code",
   "execution_count": 1,
   "metadata": {},
   "outputs": [
    {
     "output_type": "stream",
     "name": "stdout",
     "text": [
      "missing values!\n"
     ]
    },
    {
     "output_type": "execute_result",
     "data": {
      "text/plain": [
       "                                                 mol Compound Number  mseq  \\\n",
       "0  S(=O)(=O)(OC1C2OCC([N+])C2OC1)c1ccc(-c2ccccc2)cc1             4-1     1   \n",
       "1  O(C)c1c(O)c2c(cc1)CC1[N+](C)CCC32C1CC(O)C([N+])C3             4-2     2   \n",
       "2          OC12C(=C)CC3(C(CC[N+])c4c(C)cccc4C3CC1)C2             4-3     3   \n",
       "3           O=C1C2(C)CC3(C(C[N+])c4c(C)cccc4C3CC2)C1            4-3a    64   \n",
       "4            OC12C(C)CC3(C(C[N+])c4c(C)cccc4C3CC1)C2             4-4     4   \n",
       "\n",
       "    Accum  Accum_SE Accum_class Excluded        ASA       ASA+        ASA-  \\\n",
       "0  1965.0     108.0        High        F  589.37537  375.03711  209.781050   \n",
       "1  1913.0     156.0        High        F  514.13593  450.86008   63.275837   \n",
       "2  1887.0     179.0        High        F  494.43210  349.70044  144.731660   \n",
       "3  1696.0     203.0        High        F  471.00363  323.49649  147.507140   \n",
       "4  1650.0      69.0        High        F  479.01715  346.60675  132.410400   \n",
       "\n",
       "   ...  vsurf_Wp2  vsurf_Wp3  vsurf_Wp4  vsurf_Wp5  vsurf_Wp6  vsurf_Wp7  \\\n",
       "0  ...  491.18533  131.98276  37.599136  12.189655   0.918103   0.000000   \n",
       "1  ...  493.00000  180.00000  51.000000  15.375000   2.375000   0.125000   \n",
       "2  ...  431.03571  140.42857  39.464287  12.125000   1.375000   0.053571   \n",
       "3  ...  362.12500  112.43750  32.125000   9.750000   0.812500   0.000000   \n",
       "4  ...  404.91666  133.16667  37.250000  10.958333   1.250000   0.041667   \n",
       "\n",
       "   vsurf_Wp8  weinerPath  weinerPol  zagreb  \n",
       "0        0.0        1607         39     138  \n",
       "1        0.0         976         50     134  \n",
       "2        0.0         753         44     126  \n",
       "3        0.0         650         43     122  \n",
       "4        0.0         650         43     122  \n",
       "\n",
       "[5 rows x 304 columns]"
      ],
      "text/html": "<div>\n<style scoped>\n    .dataframe tbody tr th:only-of-type {\n        vertical-align: middle;\n    }\n\n    .dataframe tbody tr th {\n        vertical-align: top;\n    }\n\n    .dataframe thead th {\n        text-align: right;\n    }\n</style>\n<table border=\"1\" class=\"dataframe\">\n  <thead>\n    <tr style=\"text-align: right;\">\n      <th></th>\n      <th>mol</th>\n      <th>Compound Number</th>\n      <th>mseq</th>\n      <th>Accum</th>\n      <th>Accum_SE</th>\n      <th>Accum_class</th>\n      <th>Excluded</th>\n      <th>ASA</th>\n      <th>ASA+</th>\n      <th>ASA-</th>\n      <th>...</th>\n      <th>vsurf_Wp2</th>\n      <th>vsurf_Wp3</th>\n      <th>vsurf_Wp4</th>\n      <th>vsurf_Wp5</th>\n      <th>vsurf_Wp6</th>\n      <th>vsurf_Wp7</th>\n      <th>vsurf_Wp8</th>\n      <th>weinerPath</th>\n      <th>weinerPol</th>\n      <th>zagreb</th>\n    </tr>\n  </thead>\n  <tbody>\n    <tr>\n      <th>0</th>\n      <td>S(=O)(=O)(OC1C2OCC([N+])C2OC1)c1ccc(-c2ccccc2)cc1</td>\n      <td>4-1</td>\n      <td>1</td>\n      <td>1965.0</td>\n      <td>108.0</td>\n      <td>High</td>\n      <td>F</td>\n      <td>589.37537</td>\n      <td>375.03711</td>\n      <td>209.781050</td>\n      <td>...</td>\n      <td>491.18533</td>\n      <td>131.98276</td>\n      <td>37.599136</td>\n      <td>12.189655</td>\n      <td>0.918103</td>\n      <td>0.000000</td>\n      <td>0.0</td>\n      <td>1607</td>\n      <td>39</td>\n      <td>138</td>\n    </tr>\n    <tr>\n      <th>1</th>\n      <td>O(C)c1c(O)c2c(cc1)CC1[N+](C)CCC32C1CC(O)C([N+])C3</td>\n      <td>4-2</td>\n      <td>2</td>\n      <td>1913.0</td>\n      <td>156.0</td>\n      <td>High</td>\n      <td>F</td>\n      <td>514.13593</td>\n      <td>450.86008</td>\n      <td>63.275837</td>\n      <td>...</td>\n      <td>493.00000</td>\n      <td>180.00000</td>\n      <td>51.000000</td>\n      <td>15.375000</td>\n      <td>2.375000</td>\n      <td>0.125000</td>\n      <td>0.0</td>\n      <td>976</td>\n      <td>50</td>\n      <td>134</td>\n    </tr>\n    <tr>\n      <th>2</th>\n      <td>OC12C(=C)CC3(C(CC[N+])c4c(C)cccc4C3CC1)C2</td>\n      <td>4-3</td>\n      <td>3</td>\n      <td>1887.0</td>\n      <td>179.0</td>\n      <td>High</td>\n      <td>F</td>\n      <td>494.43210</td>\n      <td>349.70044</td>\n      <td>144.731660</td>\n      <td>...</td>\n      <td>431.03571</td>\n      <td>140.42857</td>\n      <td>39.464287</td>\n      <td>12.125000</td>\n      <td>1.375000</td>\n      <td>0.053571</td>\n      <td>0.0</td>\n      <td>753</td>\n      <td>44</td>\n      <td>126</td>\n    </tr>\n    <tr>\n      <th>3</th>\n      <td>O=C1C2(C)CC3(C(C[N+])c4c(C)cccc4C3CC2)C1</td>\n      <td>4-3a</td>\n      <td>64</td>\n      <td>1696.0</td>\n      <td>203.0</td>\n      <td>High</td>\n      <td>F</td>\n      <td>471.00363</td>\n      <td>323.49649</td>\n      <td>147.507140</td>\n      <td>...</td>\n      <td>362.12500</td>\n      <td>112.43750</td>\n      <td>32.125000</td>\n      <td>9.750000</td>\n      <td>0.812500</td>\n      <td>0.000000</td>\n      <td>0.0</td>\n      <td>650</td>\n      <td>43</td>\n      <td>122</td>\n    </tr>\n    <tr>\n      <th>4</th>\n      <td>OC12C(C)CC3(C(C[N+])c4c(C)cccc4C3CC1)C2</td>\n      <td>4-4</td>\n      <td>4</td>\n      <td>1650.0</td>\n      <td>69.0</td>\n      <td>High</td>\n      <td>F</td>\n      <td>479.01715</td>\n      <td>346.60675</td>\n      <td>132.410400</td>\n      <td>...</td>\n      <td>404.91666</td>\n      <td>133.16667</td>\n      <td>37.250000</td>\n      <td>10.958333</td>\n      <td>1.250000</td>\n      <td>0.041667</td>\n      <td>0.0</td>\n      <td>650</td>\n      <td>43</td>\n      <td>122</td>\n    </tr>\n  </tbody>\n</table>\n<p>5 rows × 304 columns</p>\n</div>"
     },
     "metadata": {},
     "execution_count": 1
    }
   ],
   "source": [
    "#load pandas and numpy modules\n",
    "import os \n",
    "import pandas as pd\n",
    "import numpy as np\n",
    "import matplotlib.pyplot as plt\n",
    " \n",
    "#read raw data\n",
    "df = pd.read_csv('merged_data.csv')\n",
    "\n",
    "if df.isnull().values.any():\n",
    "    print ('missing values!')\n",
    "    #raise ValueError\n",
    "else:\n",
    "    print('pass')\n",
    "\n",
    "# removed_mol = [\"ASD007\", \"ASD012\", \"ASD019\", \"ASD021\", \"D372-0163\"]\n",
    "# df = df[~df['MolID'].isin(removed_mol)]\n",
    "\n",
    "df.head()"
   ]
  },
  {
   "cell_type": "code",
   "execution_count": 2,
   "metadata": {},
   "outputs": [
    {
     "output_type": "execute_result",
     "data": {
      "text/plain": [
       "0     1\n",
       "1     1\n",
       "2     1\n",
       "3     1\n",
       "4     1\n",
       "     ..\n",
       "63    0\n",
       "64    0\n",
       "65    0\n",
       "66    0\n",
       "67    0\n",
       "Name: Accum_class, Length: 68, dtype: int64"
      ]
     },
     "metadata": {},
     "execution_count": 2
    }
   ],
   "source": [
    "Y = df.iloc[:,5]\n",
    "Y = Y.dropna() # drop row if NaN in Y\n",
    "b_class = {'Low': 0, 'High': 1}\n",
    "Yb = Y.map(b_class)\n",
    "#Yb = (Y > np.median(Y)).astype(int) # binary classification split by median\n",
    "Yb#.sum()"
   ]
  },
  {
   "cell_type": "code",
   "execution_count": 3,
   "metadata": {},
   "outputs": [
    {
     "output_type": "execute_result",
     "data": {
      "text/plain": [
       "         ASA       ASA+        ASA-      ASA_H      ASA_P  BCUT_PEOE_0  \\\n",
       "0  589.37537  375.03711  209.781050  444.04636  145.32903    -2.525216   \n",
       "1  514.13593  450.86008   63.275837  371.82449  142.31142    -2.933136   \n",
       "2  494.43210  349.70044  144.731660  367.01440  127.41769    -2.786666   \n",
       "3  471.00363  323.49649  147.507140  364.81686  106.18677    -2.798107   \n",
       "4  479.01715  346.60675  132.410400  367.38467  111.63245    -2.785383   \n",
       "\n",
       "   BCUT_PEOE_1  BCUT_PEOE_2  BCUT_PEOE_3  BCUT_SLOGP_0  ...  vsurf_Wp2  \\\n",
       "0    -0.572012     0.639683     2.857105     -3.317452  ...  491.18533   \n",
       "1    -0.446061     0.582079     2.956264     -3.514344  ...  493.00000   \n",
       "2    -0.401922     0.504723     2.929054     -3.286977  ...  431.03571   \n",
       "3    -0.311067     0.448598     2.949188     -3.289287  ...  362.12500   \n",
       "4    -0.409369     0.503576     2.968379     -3.289323  ...  404.91666   \n",
       "\n",
       "   vsurf_Wp3  vsurf_Wp4  vsurf_Wp5  vsurf_Wp6  vsurf_Wp7  vsurf_Wp8  \\\n",
       "0  131.98276  37.599136  12.189655   0.918103   0.000000        0.0   \n",
       "1  180.00000  51.000000  15.375000   2.375000   0.125000        0.0   \n",
       "2  140.42857  39.464287  12.125000   1.375000   0.053571        0.0   \n",
       "3  112.43750  32.125000   9.750000   0.812500   0.000000        0.0   \n",
       "4  133.16667  37.250000  10.958333   1.250000   0.041667        0.0   \n",
       "\n",
       "   weinerPath  weinerPol  zagreb  \n",
       "0        1607         39     138  \n",
       "1         976         50     134  \n",
       "2         753         44     126  \n",
       "3         650         43     122  \n",
       "4         650         43     122  \n",
       "\n",
       "[5 rows x 297 columns]"
      ],
      "text/html": "<div>\n<style scoped>\n    .dataframe tbody tr th:only-of-type {\n        vertical-align: middle;\n    }\n\n    .dataframe tbody tr th {\n        vertical-align: top;\n    }\n\n    .dataframe thead th {\n        text-align: right;\n    }\n</style>\n<table border=\"1\" class=\"dataframe\">\n  <thead>\n    <tr style=\"text-align: right;\">\n      <th></th>\n      <th>ASA</th>\n      <th>ASA+</th>\n      <th>ASA-</th>\n      <th>ASA_H</th>\n      <th>ASA_P</th>\n      <th>BCUT_PEOE_0</th>\n      <th>BCUT_PEOE_1</th>\n      <th>BCUT_PEOE_2</th>\n      <th>BCUT_PEOE_3</th>\n      <th>BCUT_SLOGP_0</th>\n      <th>...</th>\n      <th>vsurf_Wp2</th>\n      <th>vsurf_Wp3</th>\n      <th>vsurf_Wp4</th>\n      <th>vsurf_Wp5</th>\n      <th>vsurf_Wp6</th>\n      <th>vsurf_Wp7</th>\n      <th>vsurf_Wp8</th>\n      <th>weinerPath</th>\n      <th>weinerPol</th>\n      <th>zagreb</th>\n    </tr>\n  </thead>\n  <tbody>\n    <tr>\n      <th>0</th>\n      <td>589.37537</td>\n      <td>375.03711</td>\n      <td>209.781050</td>\n      <td>444.04636</td>\n      <td>145.32903</td>\n      <td>-2.525216</td>\n      <td>-0.572012</td>\n      <td>0.639683</td>\n      <td>2.857105</td>\n      <td>-3.317452</td>\n      <td>...</td>\n      <td>491.18533</td>\n      <td>131.98276</td>\n      <td>37.599136</td>\n      <td>12.189655</td>\n      <td>0.918103</td>\n      <td>0.000000</td>\n      <td>0.0</td>\n      <td>1607</td>\n      <td>39</td>\n      <td>138</td>\n    </tr>\n    <tr>\n      <th>1</th>\n      <td>514.13593</td>\n      <td>450.86008</td>\n      <td>63.275837</td>\n      <td>371.82449</td>\n      <td>142.31142</td>\n      <td>-2.933136</td>\n      <td>-0.446061</td>\n      <td>0.582079</td>\n      <td>2.956264</td>\n      <td>-3.514344</td>\n      <td>...</td>\n      <td>493.00000</td>\n      <td>180.00000</td>\n      <td>51.000000</td>\n      <td>15.375000</td>\n      <td>2.375000</td>\n      <td>0.125000</td>\n      <td>0.0</td>\n      <td>976</td>\n      <td>50</td>\n      <td>134</td>\n    </tr>\n    <tr>\n      <th>2</th>\n      <td>494.43210</td>\n      <td>349.70044</td>\n      <td>144.731660</td>\n      <td>367.01440</td>\n      <td>127.41769</td>\n      <td>-2.786666</td>\n      <td>-0.401922</td>\n      <td>0.504723</td>\n      <td>2.929054</td>\n      <td>-3.286977</td>\n      <td>...</td>\n      <td>431.03571</td>\n      <td>140.42857</td>\n      <td>39.464287</td>\n      <td>12.125000</td>\n      <td>1.375000</td>\n      <td>0.053571</td>\n      <td>0.0</td>\n      <td>753</td>\n      <td>44</td>\n      <td>126</td>\n    </tr>\n    <tr>\n      <th>3</th>\n      <td>471.00363</td>\n      <td>323.49649</td>\n      <td>147.507140</td>\n      <td>364.81686</td>\n      <td>106.18677</td>\n      <td>-2.798107</td>\n      <td>-0.311067</td>\n      <td>0.448598</td>\n      <td>2.949188</td>\n      <td>-3.289287</td>\n      <td>...</td>\n      <td>362.12500</td>\n      <td>112.43750</td>\n      <td>32.125000</td>\n      <td>9.750000</td>\n      <td>0.812500</td>\n      <td>0.000000</td>\n      <td>0.0</td>\n      <td>650</td>\n      <td>43</td>\n      <td>122</td>\n    </tr>\n    <tr>\n      <th>4</th>\n      <td>479.01715</td>\n      <td>346.60675</td>\n      <td>132.410400</td>\n      <td>367.38467</td>\n      <td>111.63245</td>\n      <td>-2.785383</td>\n      <td>-0.409369</td>\n      <td>0.503576</td>\n      <td>2.968379</td>\n      <td>-3.289323</td>\n      <td>...</td>\n      <td>404.91666</td>\n      <td>133.16667</td>\n      <td>37.250000</td>\n      <td>10.958333</td>\n      <td>1.250000</td>\n      <td>0.041667</td>\n      <td>0.0</td>\n      <td>650</td>\n      <td>43</td>\n      <td>122</td>\n    </tr>\n  </tbody>\n</table>\n<p>5 rows × 297 columns</p>\n</div>"
     },
     "metadata": {},
     "execution_count": 3
    }
   ],
   "source": [
    "X_raw = df.iloc[:,7:]\n",
    "#X_raw = X_raw.drop(index=NANrow)\n",
    "X_raw.head()"
   ]
  },
  {
   "cell_type": "code",
   "execution_count": 4,
   "metadata": {},
   "outputs": [
    {
     "output_type": "execute_result",
     "data": {
      "text/plain": [
       "        ASA      ASA+      ASA-     ASA_H     ASA_P  BCUT_PEOE_0  BCUT_PEOE_1  \\\n",
       "0  0.790739  0.174851  1.392767  1.098846  0.118088     0.774540    -0.548485   \n",
       "1  0.101503  0.822732 -1.453412  0.083103  0.064896    -0.570121    -0.008753   \n",
       "2 -0.078995 -0.041643  0.129042  0.015453 -0.197641    -0.087301     0.180394   \n",
       "3 -0.293613 -0.265547  0.182962 -0.015453 -0.571886    -0.125014     0.569728   \n",
       "4 -0.220205 -0.068077 -0.110325  0.020661 -0.475893    -0.083072     0.148481   \n",
       "\n",
       "   BCUT_PEOE_2  BCUT_PEOE_3  BCUT_SLOGP_0  ...  vsurf_Wp2  vsurf_Wp3  \\\n",
       "0     0.676175    -0.026038     -0.368674  ...   1.090637   0.101928   \n",
       "1     0.385990     0.415770     -3.755058  ...   1.113449   1.435427   \n",
       "2    -0.003697     0.294532      0.155464  ...   0.334497   0.336479   \n",
       "3    -0.286431     0.384240      0.115737  ...  -0.531779  -0.440869   \n",
       "4    -0.009476     0.469748      0.115109  ...   0.006155   0.134806   \n",
       "\n",
       "   vsurf_Wp4  vsurf_Wp5  vsurf_Wp6  vsurf_Wp7  vsurf_Wp8  weinerPath  \\\n",
       "0   0.030120  -0.008310  -0.457853   0.000000        0.0    1.012771   \n",
       "1   1.322267   0.701028   0.542637   3.720280        0.0    0.206897   \n",
       "2   0.209963  -0.022708  -0.144090   1.594406        0.0   -0.077905   \n",
       "3  -0.497711  -0.551593  -0.530374   0.000000        0.0   -0.209451   \n",
       "4  -0.003545  -0.282511  -0.229931   1.240093        0.0   -0.209451   \n",
       "\n",
       "   weinerPol  zagreb  \n",
       "0   0.021277    0.38  \n",
       "1   0.489362    0.30  \n",
       "2   0.234043    0.14  \n",
       "3   0.191489    0.06  \n",
       "4   0.191489    0.06  \n",
       "\n",
       "[5 rows x 297 columns]"
      ],
      "text/html": "<div>\n<style scoped>\n    .dataframe tbody tr th:only-of-type {\n        vertical-align: middle;\n    }\n\n    .dataframe tbody tr th {\n        vertical-align: top;\n    }\n\n    .dataframe thead th {\n        text-align: right;\n    }\n</style>\n<table border=\"1\" class=\"dataframe\">\n  <thead>\n    <tr style=\"text-align: right;\">\n      <th></th>\n      <th>ASA</th>\n      <th>ASA+</th>\n      <th>ASA-</th>\n      <th>ASA_H</th>\n      <th>ASA_P</th>\n      <th>BCUT_PEOE_0</th>\n      <th>BCUT_PEOE_1</th>\n      <th>BCUT_PEOE_2</th>\n      <th>BCUT_PEOE_3</th>\n      <th>BCUT_SLOGP_0</th>\n      <th>...</th>\n      <th>vsurf_Wp2</th>\n      <th>vsurf_Wp3</th>\n      <th>vsurf_Wp4</th>\n      <th>vsurf_Wp5</th>\n      <th>vsurf_Wp6</th>\n      <th>vsurf_Wp7</th>\n      <th>vsurf_Wp8</th>\n      <th>weinerPath</th>\n      <th>weinerPol</th>\n      <th>zagreb</th>\n    </tr>\n  </thead>\n  <tbody>\n    <tr>\n      <th>0</th>\n      <td>0.790739</td>\n      <td>0.174851</td>\n      <td>1.392767</td>\n      <td>1.098846</td>\n      <td>0.118088</td>\n      <td>0.774540</td>\n      <td>-0.548485</td>\n      <td>0.676175</td>\n      <td>-0.026038</td>\n      <td>-0.368674</td>\n      <td>...</td>\n      <td>1.090637</td>\n      <td>0.101928</td>\n      <td>0.030120</td>\n      <td>-0.008310</td>\n      <td>-0.457853</td>\n      <td>0.000000</td>\n      <td>0.0</td>\n      <td>1.012771</td>\n      <td>0.021277</td>\n      <td>0.38</td>\n    </tr>\n    <tr>\n      <th>1</th>\n      <td>0.101503</td>\n      <td>0.822732</td>\n      <td>-1.453412</td>\n      <td>0.083103</td>\n      <td>0.064896</td>\n      <td>-0.570121</td>\n      <td>-0.008753</td>\n      <td>0.385990</td>\n      <td>0.415770</td>\n      <td>-3.755058</td>\n      <td>...</td>\n      <td>1.113449</td>\n      <td>1.435427</td>\n      <td>1.322267</td>\n      <td>0.701028</td>\n      <td>0.542637</td>\n      <td>3.720280</td>\n      <td>0.0</td>\n      <td>0.206897</td>\n      <td>0.489362</td>\n      <td>0.30</td>\n    </tr>\n    <tr>\n      <th>2</th>\n      <td>-0.078995</td>\n      <td>-0.041643</td>\n      <td>0.129042</td>\n      <td>0.015453</td>\n      <td>-0.197641</td>\n      <td>-0.087301</td>\n      <td>0.180394</td>\n      <td>-0.003697</td>\n      <td>0.294532</td>\n      <td>0.155464</td>\n      <td>...</td>\n      <td>0.334497</td>\n      <td>0.336479</td>\n      <td>0.209963</td>\n      <td>-0.022708</td>\n      <td>-0.144090</td>\n      <td>1.594406</td>\n      <td>0.0</td>\n      <td>-0.077905</td>\n      <td>0.234043</td>\n      <td>0.14</td>\n    </tr>\n    <tr>\n      <th>3</th>\n      <td>-0.293613</td>\n      <td>-0.265547</td>\n      <td>0.182962</td>\n      <td>-0.015453</td>\n      <td>-0.571886</td>\n      <td>-0.125014</td>\n      <td>0.569728</td>\n      <td>-0.286431</td>\n      <td>0.384240</td>\n      <td>0.115737</td>\n      <td>...</td>\n      <td>-0.531779</td>\n      <td>-0.440869</td>\n      <td>-0.497711</td>\n      <td>-0.551593</td>\n      <td>-0.530374</td>\n      <td>0.000000</td>\n      <td>0.0</td>\n      <td>-0.209451</td>\n      <td>0.191489</td>\n      <td>0.06</td>\n    </tr>\n    <tr>\n      <th>4</th>\n      <td>-0.220205</td>\n      <td>-0.068077</td>\n      <td>-0.110325</td>\n      <td>0.020661</td>\n      <td>-0.475893</td>\n      <td>-0.083072</td>\n      <td>0.148481</td>\n      <td>-0.009476</td>\n      <td>0.469748</td>\n      <td>0.115109</td>\n      <td>...</td>\n      <td>0.006155</td>\n      <td>0.134806</td>\n      <td>-0.003545</td>\n      <td>-0.282511</td>\n      <td>-0.229931</td>\n      <td>1.240093</td>\n      <td>0.0</td>\n      <td>-0.209451</td>\n      <td>0.191489</td>\n      <td>0.06</td>\n    </tr>\n  </tbody>\n</table>\n<p>5 rows × 297 columns</p>\n</div>"
     },
     "metadata": {},
     "execution_count": 4
    }
   ],
   "source": [
    "# scale data using robust scaler\n",
    "from sklearn.preprocessing import RobustScaler, StandardScaler\n",
    "\n",
    "#scaler = StandardScaler()\n",
    "scaler = RobustScaler()\n",
    "X_scaled = pd.DataFrame(scaler.fit_transform(X_raw), columns=X_raw.columns)\n",
    "\n",
    "X_scaled.head()"
   ]
  },
  {
   "cell_type": "code",
   "execution_count": 10,
   "metadata": {},
   "outputs": [
    {
     "output_type": "stream",
     "name": "stdout",
     "text": [
      "# of features before drop: 297\n# of features after drop: 149\n# of features dropped: 148\nDropped features:\n['BCUT_SLOGP_1', 'BCUT_SLOGP_2', 'BCUT_SMR_0', 'BCUT_SMR_1', 'BCUT_SMR_2', 'BCUT_SMR_3', 'CASA+', 'DCASA', 'FASA-', 'FASA_P', 'FCASA+', 'FCASA-', 'GCUT_PEOE_3', 'GCUT_SLOGP_3', 'GCUT_SMR_0', 'GCUT_SMR_1', 'GCUT_SMR_2', 'GCUT_SMR_3', 'Kier1', 'Kier3', 'KierA1', 'KierA2', 'KierA3', 'KierFlex', 'MolWt', 'PEOE_RPC+', 'PEOE_RPC-', 'PEOE_VSA_FPOL', 'PEOE_VSA_FPOS', 'PEOE_VSA_HYD', 'PEOE_VSA_PNEG', 'RB', 'SMR', 'SlogP_VSA1', 'SlogP_VSA3', 'TPSA', 'VAdjEq', 'VAdjMa', 'VDistMa', 'VSA', 'a_IC', 'a_base', 'a_count', 'a_donacc', 'a_heavy', 'a_nC', 'a_nF', 'a_nH', 'apol', 'b_1rotN', 'b_1rotR', 'b_ar', 'b_count', 'b_heavy', 'b_rotN', 'b_rotR', 'b_single', 'bpol', 'chi0', 'chi0_C', 'chi0v', 'chi0v_C', 'chi1', 'chi1_C', 'chi1v', 'chi1v_C', 'dens', 'density', 'diameter', 'h_ema', 'h_logS', 'h_mr', 'h_pavgQ', 'lip_acc', 'logP(o/w)', 'mr', 'opr_nring', 'opr_nrot', 'petitjeanSC', 'pmi', 'pmi1', 'pmi1_MW', 'pmi2', 'pmi3', 'radius', 'rgyr', 'rings', 'std_dim2', 'std_dim3', 'vdw_area', 'vdw_vol', 'vol', 'vsa_acc', 'vsa_base', 'vsa_hyd', 'vsa_pol', 'vsurf_CW4', 'vsurf_CW5', 'vsurf_CW6', 'vsurf_CW7', 'vsurf_CW8', 'vsurf_D2', 'vsurf_D3', 'vsurf_D4', 'vsurf_D5', 'vsurf_D6', 'vsurf_D7', 'vsurf_D8', 'vsurf_EDmin2', 'vsurf_EDmin3', 'vsurf_EWmin1', 'vsurf_EWmin2', 'vsurf_EWmin3', 'vsurf_HB2', 'vsurf_HB3', 'vsurf_HB4', 'vsurf_HB5', 'vsurf_HB6', 'vsurf_HB7', 'vsurf_HB8', 'vsurf_HL1', 'vsurf_HL2', 'vsurf_ID2', 'vsurf_ID3', 'vsurf_ID4', 'vsurf_ID5', 'vsurf_ID6', 'vsurf_IW3', 'vsurf_IW4', 'vsurf_IW5', 'vsurf_R', 'vsurf_S', 'vsurf_V', 'vsurf_W1', 'vsurf_W2', 'vsurf_W3', 'vsurf_W4', 'vsurf_W5', 'vsurf_W6', 'vsurf_W7', 'vsurf_W8', 'vsurf_Wp1', 'vsurf_Wp4', 'vsurf_Wp5', 'vsurf_Wp8', 'weinerPath', 'weinerPol', 'zagreb']\n"
     ]
    }
   ],
   "source": [
    "print('# of features before drop:', X_scaled.shape[1])\n",
    "#create correlation matrix\n",
    "corr_matrix_before = X_scaled.corr().abs() # absolute value of corralation matrix\n",
    "\n",
    "#set a cutoff threshold (usually 0.9 or 0.85)\n",
    "cut_th = 0.9\n",
    "\n",
    "#select upper triangle of correlation matrix\n",
    "upper = corr_matrix_before.where(np.triu(np.ones(corr_matrix_before.shape), k=1).astype(bool)) # first build a boolean upper triangle, then use where() to extract upper triangle from correlation matrix\n",
    "\n",
    "#drop highly correlated features based on set threshold\n",
    "to_drop = [column for column in upper.columns if any(upper[column] > cut_th)] # remove columns that has correlation with any value larger than threshold\n",
    "'''two problems: 1. if multiple features are correlated, only the first one is kept; 2. may remove too many features, since the removal of \"bridge\" feature makes the rest features non-correlated'''\n",
    "#to_drop.extend([\"Ipc\", \"EState_VSA5\"]) # brings to much variation\n",
    "X_cor = X_scaled.drop(columns = to_drop)\n",
    "\n",
    "print('# of features after drop:', X_cor.shape[1])\n",
    "print('# of features dropped:', len(to_drop))\n",
    "print(\"Dropped features:\")\n",
    "print(to_drop)"
   ]
  },
  {
   "cell_type": "code",
   "execution_count": 12,
   "metadata": {},
   "outputs": [],
   "source": [
    "from sklearn.model_selection import train_test_split\n",
    "from sklearn.discriminant_analysis import LinearDiscriminantAnalysis as LDA\n",
    "\n",
    "def data_split(X, Y, test_size):\n",
    "    if not (type(X) is np.ndarray):\n",
    "        X = X.to_numpy()\n",
    "    if not (type(Y) is np.ndarray):\n",
    "        Y = Y.to_numpy()\n",
    "    X_train, X_test, Y_train, Y_test = train_test_split(X,Y,test_size = test_size)\n",
    "\n",
    "    return X_train, X_test, Y_train, Y_test\n",
    "\n",
    "X_train, X_test, Y_train, Y_test = data_split(X_cor, Yb, 0.2)\n",
    "#X_train, X_test, Y_train, Y_test = data_split(X_given, Yb, 0.2)"
   ]
  },
  {
   "cell_type": "code",
   "execution_count": 13,
   "metadata": {},
   "outputs": [],
   "source": [
    "from sklearn.model_selection import KFold\n",
    "from sklearn.metrics import (recall_score,accuracy_score,confusion_matrix, f1_score, precision_score, \n",
    "                             auc,roc_auc_score,roc_curve, precision_recall_curve,classification_report)\n",
    "\n",
    "from sklearn.ensemble import RandomForestClassifier\n",
    "from sklearn.linear_model import LogisticRegression\n",
    "from sklearn.svm import SVC\n",
    "from sklearn.model_selection import train_test_split\n",
    "\n",
    "\n",
    "#K-fold validation function will take six arguments: \n",
    "#1. model, 2. train set, 3.test set, 4.# of fold, 5.shuffle boolean, 6.random_state.\n",
    "def kf_cv(clf, X, y, folds = 10, shuf = True, random_state=0):\n",
    "    cv = KFold(n_splits=folds, random_state=42, shuffle=shuf)\n",
    "    f1,prec,recall,acc,ROC_AUC,conf = ([],[],[],[],[],[])\n",
    "    metric_cols=['F1','precision','recall','accuracy','ROC_AUC','confusion_matrix']\n",
    "    print('Classifier ##{0}## will be used with {1} folds, and shuffle mode is {2}'.format(clf.__class__.__name__,\n",
    "                                                                                       folds,\n",
    "                                                                                       'on' if shuf else 'off')\n",
    "         )\n",
    "    i = 0\n",
    "    for train_index, test_index in cv.split(X):\n",
    "        #turn on the below code will print train_index/test_index and may help understand the details and debug.\n",
    "        #print(\"Train Index: \", type(train_index), \"\\n\")\n",
    "        #print(\"Test Index: \", test_index)\n",
    "        \n",
    "        X_train, X_test, y_train, y_test = X[train_index], X[test_index], y[train_index], y[test_index]\n",
    "        #if sampling method is used, use this to avoid warnings: clf.fit(X_train.values, y_train.values.ravel())\n",
    "        clf.fit(X_train, y_train.ravel())\n",
    "        \n",
    "        pred_test = clf.predict(X_test)\n",
    "        pred_test_probs = clf.predict_proba(X_test)\n",
    "        #print(pred_test_probs)\n",
    "        fpr, tpr, _ = roc_curve(y_test,pred_test_probs[:,1]) # use pred_test_probs instead of pred_test\n",
    "        \n",
    "        f1.append(f1_score(y_test,pred_test))\n",
    "        prec.append(precision_score(y_test,pred_test))\n",
    "        recall.append(recall_score(y_test,pred_test))\n",
    "        acc.append(accuracy_score(y_test,pred_test))\n",
    "        ROC_AUC.append(roc_auc_score(y_test, pred_test_probs[:,1]))       \n",
    "        conf.append(confusion_matrix(y_test,pred_test))\n",
    "\n",
    "        plt.plot(fpr, tpr, label=str(i))\n",
    "        i += 1 # plot ROC curve\n",
    "    \n",
    "    plt.axline([0, 0], [1, 1], linewidth=1, color='k', linestyle='--')\n",
    "    plt.xlabel('False positive rate')\n",
    "    plt.ylabel('True positive rate')\n",
    "    plt.legend()\n",
    "    plt.show()\n",
    "    #return a dataframe consisting five metrics and confusion matrix.\n",
    "    return pd.DataFrame(zip(f1,prec,recall,acc,ROC_AUC,conf), columns = metric_cols)"
   ]
  },
  {
   "cell_type": "code",
   "execution_count": 14,
   "metadata": {},
   "outputs": [],
   "source": [
    "#dataset from other paper\n",
    "# RandomForest\n",
    "RF_tuned_params = {'max_depth': None,\n",
    "                   'max_features': 20,\n",
    "                   'min_samples_leaf': 8,\n",
    "                   'n_estimators': 160,\n",
    "                  }\n",
    "\n",
    "#Best score: 0.8366666666666667\n",
    "# LogisticRegression\n",
    "LR_tuned_params = {'C': 1, \n",
    "                   'penalty': 'l2', \n",
    "                   'solver': 'sag'\n",
    "                  }\n",
    "#Best score: 0.8033333333333333\n"
   ]
  },
  {
   "cell_type": "code",
   "execution_count": 15,
   "metadata": {},
   "outputs": [
    {
     "output_type": "stream",
     "name": "stdout",
     "text": [
      "Classifier ##RandomForestClassifier## will be used with 5 folds, and shuffle mode is on\n"
     ]
    },
    {
     "output_type": "display_data",
     "data": {
      "text/plain": "<Figure size 432x288 with 1 Axes>",
      "image/svg+xml": "<?xml version=\"1.0\" encoding=\"utf-8\" standalone=\"no\"?>\r\n<!DOCTYPE svg PUBLIC \"-//W3C//DTD SVG 1.1//EN\"\r\n  \"http://www.w3.org/Graphics/SVG/1.1/DTD/svg11.dtd\">\r\n<!-- Created with matplotlib (https://matplotlib.org/) -->\r\n<svg height=\"262.19625pt\" version=\"1.1\" viewBox=\"0 0 385.78125 262.19625\" width=\"385.78125pt\" xmlns=\"http://www.w3.org/2000/svg\" xmlns:xlink=\"http://www.w3.org/1999/xlink\">\r\n <metadata>\r\n  <rdf:RDF xmlns:cc=\"http://creativecommons.org/ns#\" xmlns:dc=\"http://purl.org/dc/elements/1.1/\" xmlns:rdf=\"http://www.w3.org/1999/02/22-rdf-syntax-ns#\">\r\n   <cc:Work>\r\n    <dc:type rdf:resource=\"http://purl.org/dc/dcmitype/StillImage\"/>\r\n    <dc:date>2021-03-17T22:21:06.577617</dc:date>\r\n    <dc:format>image/svg+xml</dc:format>\r\n    <dc:creator>\r\n     <cc:Agent>\r\n      <dc:title>Matplotlib v3.3.4, https://matplotlib.org/</dc:title>\r\n     </cc:Agent>\r\n    </dc:creator>\r\n   </cc:Work>\r\n  </rdf:RDF>\r\n </metadata>\r\n <defs>\r\n  <style type=\"text/css\">*{stroke-linecap:butt;stroke-linejoin:round;}</style>\r\n </defs>\r\n <g id=\"figure_1\">\r\n  <g id=\"patch_1\">\r\n   <path d=\"M 0 262.19625 \r\nL 385.78125 262.19625 \r\nL 385.78125 0 \r\nL 0 0 \r\nz\r\n\" style=\"fill:none;\"/>\r\n  </g>\r\n  <g id=\"axes_1\">\r\n   <g id=\"patch_2\">\r\n    <path d=\"M 43.78125 224.64 \r\nL 378.58125 224.64 \r\nL 378.58125 7.2 \r\nL 43.78125 7.2 \r\nz\r\n\" style=\"fill:#ffffff;\"/>\r\n   </g>\r\n   <g id=\"matplotlib.axis_1\">\r\n    <g id=\"xtick_1\">\r\n     <g id=\"line2d_1\">\r\n      <defs>\r\n       <path d=\"M 0 0 \r\nL 0 3.5 \r\n\" id=\"m8d4e86652e\" style=\"stroke:#000000;stroke-width:0.8;\"/>\r\n      </defs>\r\n      <g>\r\n       <use style=\"stroke:#000000;stroke-width:0.8;\" x=\"58.999432\" xlink:href=\"#m8d4e86652e\" y=\"224.64\"/>\r\n      </g>\r\n     </g>\r\n     <g id=\"text_1\">\r\n      <!-- 0.0 -->\r\n      <g transform=\"translate(51.047869 239.238437)scale(0.1 -0.1)\">\r\n       <defs>\r\n        <path d=\"M 31.78125 66.40625 \r\nQ 24.171875 66.40625 20.328125 58.90625 \r\nQ 16.5 51.421875 16.5 36.375 \r\nQ 16.5 21.390625 20.328125 13.890625 \r\nQ 24.171875 6.390625 31.78125 6.390625 \r\nQ 39.453125 6.390625 43.28125 13.890625 \r\nQ 47.125 21.390625 47.125 36.375 \r\nQ 47.125 51.421875 43.28125 58.90625 \r\nQ 39.453125 66.40625 31.78125 66.40625 \r\nz\r\nM 31.78125 74.21875 \r\nQ 44.046875 74.21875 50.515625 64.515625 \r\nQ 56.984375 54.828125 56.984375 36.375 \r\nQ 56.984375 17.96875 50.515625 8.265625 \r\nQ 44.046875 -1.421875 31.78125 -1.421875 \r\nQ 19.53125 -1.421875 13.0625 8.265625 \r\nQ 6.59375 17.96875 6.59375 36.375 \r\nQ 6.59375 54.828125 13.0625 64.515625 \r\nQ 19.53125 74.21875 31.78125 74.21875 \r\nz\r\n\" id=\"DejaVuSans-48\"/>\r\n        <path d=\"M 10.6875 12.40625 \r\nL 21 12.40625 \r\nL 21 0 \r\nL 10.6875 0 \r\nz\r\n\" id=\"DejaVuSans-46\"/>\r\n       </defs>\r\n       <use xlink:href=\"#DejaVuSans-48\"/>\r\n       <use x=\"63.623047\" xlink:href=\"#DejaVuSans-46\"/>\r\n       <use x=\"95.410156\" xlink:href=\"#DejaVuSans-48\"/>\r\n      </g>\r\n     </g>\r\n    </g>\r\n    <g id=\"xtick_2\">\r\n     <g id=\"line2d_2\">\r\n      <g>\r\n       <use style=\"stroke:#000000;stroke-width:0.8;\" x=\"119.872159\" xlink:href=\"#m8d4e86652e\" y=\"224.64\"/>\r\n      </g>\r\n     </g>\r\n     <g id=\"text_2\">\r\n      <!-- 0.2 -->\r\n      <g transform=\"translate(111.920597 239.238437)scale(0.1 -0.1)\">\r\n       <defs>\r\n        <path d=\"M 19.1875 8.296875 \r\nL 53.609375 8.296875 \r\nL 53.609375 0 \r\nL 7.328125 0 \r\nL 7.328125 8.296875 \r\nQ 12.9375 14.109375 22.625 23.890625 \r\nQ 32.328125 33.6875 34.8125 36.53125 \r\nQ 39.546875 41.84375 41.421875 45.53125 \r\nQ 43.3125 49.21875 43.3125 52.78125 \r\nQ 43.3125 58.59375 39.234375 62.25 \r\nQ 35.15625 65.921875 28.609375 65.921875 \r\nQ 23.96875 65.921875 18.8125 64.3125 \r\nQ 13.671875 62.703125 7.8125 59.421875 \r\nL 7.8125 69.390625 \r\nQ 13.765625 71.78125 18.9375 73 \r\nQ 24.125 74.21875 28.421875 74.21875 \r\nQ 39.75 74.21875 46.484375 68.546875 \r\nQ 53.21875 62.890625 53.21875 53.421875 \r\nQ 53.21875 48.921875 51.53125 44.890625 \r\nQ 49.859375 40.875 45.40625 35.40625 \r\nQ 44.1875 33.984375 37.640625 27.21875 \r\nQ 31.109375 20.453125 19.1875 8.296875 \r\nz\r\n\" id=\"DejaVuSans-50\"/>\r\n       </defs>\r\n       <use xlink:href=\"#DejaVuSans-48\"/>\r\n       <use x=\"63.623047\" xlink:href=\"#DejaVuSans-46\"/>\r\n       <use x=\"95.410156\" xlink:href=\"#DejaVuSans-50\"/>\r\n      </g>\r\n     </g>\r\n    </g>\r\n    <g id=\"xtick_3\">\r\n     <g id=\"line2d_3\">\r\n      <g>\r\n       <use style=\"stroke:#000000;stroke-width:0.8;\" x=\"180.744886\" xlink:href=\"#m8d4e86652e\" y=\"224.64\"/>\r\n      </g>\r\n     </g>\r\n     <g id=\"text_3\">\r\n      <!-- 0.4 -->\r\n      <g transform=\"translate(172.793324 239.238437)scale(0.1 -0.1)\">\r\n       <defs>\r\n        <path d=\"M 37.796875 64.3125 \r\nL 12.890625 25.390625 \r\nL 37.796875 25.390625 \r\nz\r\nM 35.203125 72.90625 \r\nL 47.609375 72.90625 \r\nL 47.609375 25.390625 \r\nL 58.015625 25.390625 \r\nL 58.015625 17.1875 \r\nL 47.609375 17.1875 \r\nL 47.609375 0 \r\nL 37.796875 0 \r\nL 37.796875 17.1875 \r\nL 4.890625 17.1875 \r\nL 4.890625 26.703125 \r\nz\r\n\" id=\"DejaVuSans-52\"/>\r\n       </defs>\r\n       <use xlink:href=\"#DejaVuSans-48\"/>\r\n       <use x=\"63.623047\" xlink:href=\"#DejaVuSans-46\"/>\r\n       <use x=\"95.410156\" xlink:href=\"#DejaVuSans-52\"/>\r\n      </g>\r\n     </g>\r\n    </g>\r\n    <g id=\"xtick_4\">\r\n     <g id=\"line2d_4\">\r\n      <g>\r\n       <use style=\"stroke:#000000;stroke-width:0.8;\" x=\"241.617614\" xlink:href=\"#m8d4e86652e\" y=\"224.64\"/>\r\n      </g>\r\n     </g>\r\n     <g id=\"text_4\">\r\n      <!-- 0.6 -->\r\n      <g transform=\"translate(233.666051 239.238437)scale(0.1 -0.1)\">\r\n       <defs>\r\n        <path d=\"M 33.015625 40.375 \r\nQ 26.375 40.375 22.484375 35.828125 \r\nQ 18.609375 31.296875 18.609375 23.390625 \r\nQ 18.609375 15.53125 22.484375 10.953125 \r\nQ 26.375 6.390625 33.015625 6.390625 \r\nQ 39.65625 6.390625 43.53125 10.953125 \r\nQ 47.40625 15.53125 47.40625 23.390625 \r\nQ 47.40625 31.296875 43.53125 35.828125 \r\nQ 39.65625 40.375 33.015625 40.375 \r\nz\r\nM 52.59375 71.296875 \r\nL 52.59375 62.3125 \r\nQ 48.875 64.0625 45.09375 64.984375 \r\nQ 41.3125 65.921875 37.59375 65.921875 \r\nQ 27.828125 65.921875 22.671875 59.328125 \r\nQ 17.53125 52.734375 16.796875 39.40625 \r\nQ 19.671875 43.65625 24.015625 45.921875 \r\nQ 28.375 48.1875 33.59375 48.1875 \r\nQ 44.578125 48.1875 50.953125 41.515625 \r\nQ 57.328125 34.859375 57.328125 23.390625 \r\nQ 57.328125 12.15625 50.6875 5.359375 \r\nQ 44.046875 -1.421875 33.015625 -1.421875 \r\nQ 20.359375 -1.421875 13.671875 8.265625 \r\nQ 6.984375 17.96875 6.984375 36.375 \r\nQ 6.984375 53.65625 15.1875 63.9375 \r\nQ 23.390625 74.21875 37.203125 74.21875 \r\nQ 40.921875 74.21875 44.703125 73.484375 \r\nQ 48.484375 72.75 52.59375 71.296875 \r\nz\r\n\" id=\"DejaVuSans-54\"/>\r\n       </defs>\r\n       <use xlink:href=\"#DejaVuSans-48\"/>\r\n       <use x=\"63.623047\" xlink:href=\"#DejaVuSans-46\"/>\r\n       <use x=\"95.410156\" xlink:href=\"#DejaVuSans-54\"/>\r\n      </g>\r\n     </g>\r\n    </g>\r\n    <g id=\"xtick_5\">\r\n     <g id=\"line2d_5\">\r\n      <g>\r\n       <use style=\"stroke:#000000;stroke-width:0.8;\" x=\"302.490341\" xlink:href=\"#m8d4e86652e\" y=\"224.64\"/>\r\n      </g>\r\n     </g>\r\n     <g id=\"text_5\">\r\n      <!-- 0.8 -->\r\n      <g transform=\"translate(294.538778 239.238437)scale(0.1 -0.1)\">\r\n       <defs>\r\n        <path d=\"M 31.78125 34.625 \r\nQ 24.75 34.625 20.71875 30.859375 \r\nQ 16.703125 27.09375 16.703125 20.515625 \r\nQ 16.703125 13.921875 20.71875 10.15625 \r\nQ 24.75 6.390625 31.78125 6.390625 \r\nQ 38.8125 6.390625 42.859375 10.171875 \r\nQ 46.921875 13.96875 46.921875 20.515625 \r\nQ 46.921875 27.09375 42.890625 30.859375 \r\nQ 38.875 34.625 31.78125 34.625 \r\nz\r\nM 21.921875 38.8125 \r\nQ 15.578125 40.375 12.03125 44.71875 \r\nQ 8.5 49.078125 8.5 55.328125 \r\nQ 8.5 64.0625 14.71875 69.140625 \r\nQ 20.953125 74.21875 31.78125 74.21875 \r\nQ 42.671875 74.21875 48.875 69.140625 \r\nQ 55.078125 64.0625 55.078125 55.328125 \r\nQ 55.078125 49.078125 51.53125 44.71875 \r\nQ 48 40.375 41.703125 38.8125 \r\nQ 48.828125 37.15625 52.796875 32.3125 \r\nQ 56.78125 27.484375 56.78125 20.515625 \r\nQ 56.78125 9.90625 50.3125 4.234375 \r\nQ 43.84375 -1.421875 31.78125 -1.421875 \r\nQ 19.734375 -1.421875 13.25 4.234375 \r\nQ 6.78125 9.90625 6.78125 20.515625 \r\nQ 6.78125 27.484375 10.78125 32.3125 \r\nQ 14.796875 37.15625 21.921875 38.8125 \r\nz\r\nM 18.3125 54.390625 \r\nQ 18.3125 48.734375 21.84375 45.5625 \r\nQ 25.390625 42.390625 31.78125 42.390625 \r\nQ 38.140625 42.390625 41.71875 45.5625 \r\nQ 45.3125 48.734375 45.3125 54.390625 \r\nQ 45.3125 60.0625 41.71875 63.234375 \r\nQ 38.140625 66.40625 31.78125 66.40625 \r\nQ 25.390625 66.40625 21.84375 63.234375 \r\nQ 18.3125 60.0625 18.3125 54.390625 \r\nz\r\n\" id=\"DejaVuSans-56\"/>\r\n       </defs>\r\n       <use xlink:href=\"#DejaVuSans-48\"/>\r\n       <use x=\"63.623047\" xlink:href=\"#DejaVuSans-46\"/>\r\n       <use x=\"95.410156\" xlink:href=\"#DejaVuSans-56\"/>\r\n      </g>\r\n     </g>\r\n    </g>\r\n    <g id=\"xtick_6\">\r\n     <g id=\"line2d_6\">\r\n      <g>\r\n       <use style=\"stroke:#000000;stroke-width:0.8;\" x=\"363.363068\" xlink:href=\"#m8d4e86652e\" y=\"224.64\"/>\r\n      </g>\r\n     </g>\r\n     <g id=\"text_6\">\r\n      <!-- 1.0 -->\r\n      <g transform=\"translate(355.411506 239.238437)scale(0.1 -0.1)\">\r\n       <defs>\r\n        <path d=\"M 12.40625 8.296875 \r\nL 28.515625 8.296875 \r\nL 28.515625 63.921875 \r\nL 10.984375 60.40625 \r\nL 10.984375 69.390625 \r\nL 28.421875 72.90625 \r\nL 38.28125 72.90625 \r\nL 38.28125 8.296875 \r\nL 54.390625 8.296875 \r\nL 54.390625 0 \r\nL 12.40625 0 \r\nz\r\n\" id=\"DejaVuSans-49\"/>\r\n       </defs>\r\n       <use xlink:href=\"#DejaVuSans-49\"/>\r\n       <use x=\"63.623047\" xlink:href=\"#DejaVuSans-46\"/>\r\n       <use x=\"95.410156\" xlink:href=\"#DejaVuSans-48\"/>\r\n      </g>\r\n     </g>\r\n    </g>\r\n    <g id=\"text_7\">\r\n     <!-- False positive rate -->\r\n     <g transform=\"translate(165.680469 252.916562)scale(0.1 -0.1)\">\r\n      <defs>\r\n       <path d=\"M 9.8125 72.90625 \r\nL 51.703125 72.90625 \r\nL 51.703125 64.59375 \r\nL 19.671875 64.59375 \r\nL 19.671875 43.109375 \r\nL 48.578125 43.109375 \r\nL 48.578125 34.8125 \r\nL 19.671875 34.8125 \r\nL 19.671875 0 \r\nL 9.8125 0 \r\nz\r\n\" id=\"DejaVuSans-70\"/>\r\n       <path d=\"M 34.28125 27.484375 \r\nQ 23.390625 27.484375 19.1875 25 \r\nQ 14.984375 22.515625 14.984375 16.5 \r\nQ 14.984375 11.71875 18.140625 8.90625 \r\nQ 21.296875 6.109375 26.703125 6.109375 \r\nQ 34.1875 6.109375 38.703125 11.40625 \r\nQ 43.21875 16.703125 43.21875 25.484375 \r\nL 43.21875 27.484375 \r\nz\r\nM 52.203125 31.203125 \r\nL 52.203125 0 \r\nL 43.21875 0 \r\nL 43.21875 8.296875 \r\nQ 40.140625 3.328125 35.546875 0.953125 \r\nQ 30.953125 -1.421875 24.3125 -1.421875 \r\nQ 15.921875 -1.421875 10.953125 3.296875 \r\nQ 6 8.015625 6 15.921875 \r\nQ 6 25.140625 12.171875 29.828125 \r\nQ 18.359375 34.515625 30.609375 34.515625 \r\nL 43.21875 34.515625 \r\nL 43.21875 35.40625 \r\nQ 43.21875 41.609375 39.140625 45 \r\nQ 35.0625 48.390625 27.6875 48.390625 \r\nQ 23 48.390625 18.546875 47.265625 \r\nQ 14.109375 46.140625 10.015625 43.890625 \r\nL 10.015625 52.203125 \r\nQ 14.9375 54.109375 19.578125 55.046875 \r\nQ 24.21875 56 28.609375 56 \r\nQ 40.484375 56 46.34375 49.84375 \r\nQ 52.203125 43.703125 52.203125 31.203125 \r\nz\r\n\" id=\"DejaVuSans-97\"/>\r\n       <path d=\"M 9.421875 75.984375 \r\nL 18.40625 75.984375 \r\nL 18.40625 0 \r\nL 9.421875 0 \r\nz\r\n\" id=\"DejaVuSans-108\"/>\r\n       <path d=\"M 44.28125 53.078125 \r\nL 44.28125 44.578125 \r\nQ 40.484375 46.53125 36.375 47.5 \r\nQ 32.28125 48.484375 27.875 48.484375 \r\nQ 21.1875 48.484375 17.84375 46.4375 \r\nQ 14.5 44.390625 14.5 40.28125 \r\nQ 14.5 37.15625 16.890625 35.375 \r\nQ 19.28125 33.59375 26.515625 31.984375 \r\nL 29.59375 31.296875 \r\nQ 39.15625 29.25 43.1875 25.515625 \r\nQ 47.21875 21.78125 47.21875 15.09375 \r\nQ 47.21875 7.46875 41.1875 3.015625 \r\nQ 35.15625 -1.421875 24.609375 -1.421875 \r\nQ 20.21875 -1.421875 15.453125 -0.5625 \r\nQ 10.6875 0.296875 5.421875 2 \r\nL 5.421875 11.28125 \r\nQ 10.40625 8.6875 15.234375 7.390625 \r\nQ 20.0625 6.109375 24.8125 6.109375 \r\nQ 31.15625 6.109375 34.5625 8.28125 \r\nQ 37.984375 10.453125 37.984375 14.40625 \r\nQ 37.984375 18.0625 35.515625 20.015625 \r\nQ 33.0625 21.96875 24.703125 23.78125 \r\nL 21.578125 24.515625 \r\nQ 13.234375 26.265625 9.515625 29.90625 \r\nQ 5.8125 33.546875 5.8125 39.890625 \r\nQ 5.8125 47.609375 11.28125 51.796875 \r\nQ 16.75 56 26.8125 56 \r\nQ 31.78125 56 36.171875 55.265625 \r\nQ 40.578125 54.546875 44.28125 53.078125 \r\nz\r\n\" id=\"DejaVuSans-115\"/>\r\n       <path d=\"M 56.203125 29.59375 \r\nL 56.203125 25.203125 \r\nL 14.890625 25.203125 \r\nQ 15.484375 15.921875 20.484375 11.0625 \r\nQ 25.484375 6.203125 34.421875 6.203125 \r\nQ 39.59375 6.203125 44.453125 7.46875 \r\nQ 49.3125 8.734375 54.109375 11.28125 \r\nL 54.109375 2.78125 \r\nQ 49.265625 0.734375 44.1875 -0.34375 \r\nQ 39.109375 -1.421875 33.890625 -1.421875 \r\nQ 20.796875 -1.421875 13.15625 6.1875 \r\nQ 5.515625 13.8125 5.515625 26.8125 \r\nQ 5.515625 40.234375 12.765625 48.109375 \r\nQ 20.015625 56 32.328125 56 \r\nQ 43.359375 56 49.78125 48.890625 \r\nQ 56.203125 41.796875 56.203125 29.59375 \r\nz\r\nM 47.21875 32.234375 \r\nQ 47.125 39.59375 43.09375 43.984375 \r\nQ 39.0625 48.390625 32.421875 48.390625 \r\nQ 24.90625 48.390625 20.390625 44.140625 \r\nQ 15.875 39.890625 15.1875 32.171875 \r\nz\r\n\" id=\"DejaVuSans-101\"/>\r\n       <path id=\"DejaVuSans-32\"/>\r\n       <path d=\"M 18.109375 8.203125 \r\nL 18.109375 -20.796875 \r\nL 9.078125 -20.796875 \r\nL 9.078125 54.6875 \r\nL 18.109375 54.6875 \r\nL 18.109375 46.390625 \r\nQ 20.953125 51.265625 25.265625 53.625 \r\nQ 29.59375 56 35.59375 56 \r\nQ 45.5625 56 51.78125 48.09375 \r\nQ 58.015625 40.1875 58.015625 27.296875 \r\nQ 58.015625 14.40625 51.78125 6.484375 \r\nQ 45.5625 -1.421875 35.59375 -1.421875 \r\nQ 29.59375 -1.421875 25.265625 0.953125 \r\nQ 20.953125 3.328125 18.109375 8.203125 \r\nz\r\nM 48.6875 27.296875 \r\nQ 48.6875 37.203125 44.609375 42.84375 \r\nQ 40.53125 48.484375 33.40625 48.484375 \r\nQ 26.265625 48.484375 22.1875 42.84375 \r\nQ 18.109375 37.203125 18.109375 27.296875 \r\nQ 18.109375 17.390625 22.1875 11.75 \r\nQ 26.265625 6.109375 33.40625 6.109375 \r\nQ 40.53125 6.109375 44.609375 11.75 \r\nQ 48.6875 17.390625 48.6875 27.296875 \r\nz\r\n\" id=\"DejaVuSans-112\"/>\r\n       <path d=\"M 30.609375 48.390625 \r\nQ 23.390625 48.390625 19.1875 42.75 \r\nQ 14.984375 37.109375 14.984375 27.296875 \r\nQ 14.984375 17.484375 19.15625 11.84375 \r\nQ 23.34375 6.203125 30.609375 6.203125 \r\nQ 37.796875 6.203125 41.984375 11.859375 \r\nQ 46.1875 17.53125 46.1875 27.296875 \r\nQ 46.1875 37.015625 41.984375 42.703125 \r\nQ 37.796875 48.390625 30.609375 48.390625 \r\nz\r\nM 30.609375 56 \r\nQ 42.328125 56 49.015625 48.375 \r\nQ 55.71875 40.765625 55.71875 27.296875 \r\nQ 55.71875 13.875 49.015625 6.21875 \r\nQ 42.328125 -1.421875 30.609375 -1.421875 \r\nQ 18.84375 -1.421875 12.171875 6.21875 \r\nQ 5.515625 13.875 5.515625 27.296875 \r\nQ 5.515625 40.765625 12.171875 48.375 \r\nQ 18.84375 56 30.609375 56 \r\nz\r\n\" id=\"DejaVuSans-111\"/>\r\n       <path d=\"M 9.421875 54.6875 \r\nL 18.40625 54.6875 \r\nL 18.40625 0 \r\nL 9.421875 0 \r\nz\r\nM 9.421875 75.984375 \r\nL 18.40625 75.984375 \r\nL 18.40625 64.59375 \r\nL 9.421875 64.59375 \r\nz\r\n\" id=\"DejaVuSans-105\"/>\r\n       <path d=\"M 18.3125 70.21875 \r\nL 18.3125 54.6875 \r\nL 36.8125 54.6875 \r\nL 36.8125 47.703125 \r\nL 18.3125 47.703125 \r\nL 18.3125 18.015625 \r\nQ 18.3125 11.328125 20.140625 9.421875 \r\nQ 21.96875 7.515625 27.59375 7.515625 \r\nL 36.8125 7.515625 \r\nL 36.8125 0 \r\nL 27.59375 0 \r\nQ 17.1875 0 13.234375 3.875 \r\nQ 9.28125 7.765625 9.28125 18.015625 \r\nL 9.28125 47.703125 \r\nL 2.6875 47.703125 \r\nL 2.6875 54.6875 \r\nL 9.28125 54.6875 \r\nL 9.28125 70.21875 \r\nz\r\n\" id=\"DejaVuSans-116\"/>\r\n       <path d=\"M 2.984375 54.6875 \r\nL 12.5 54.6875 \r\nL 29.59375 8.796875 \r\nL 46.6875 54.6875 \r\nL 56.203125 54.6875 \r\nL 35.6875 0 \r\nL 23.484375 0 \r\nz\r\n\" id=\"DejaVuSans-118\"/>\r\n       <path d=\"M 41.109375 46.296875 \r\nQ 39.59375 47.171875 37.8125 47.578125 \r\nQ 36.03125 48 33.890625 48 \r\nQ 26.265625 48 22.1875 43.046875 \r\nQ 18.109375 38.09375 18.109375 28.8125 \r\nL 18.109375 0 \r\nL 9.078125 0 \r\nL 9.078125 54.6875 \r\nL 18.109375 54.6875 \r\nL 18.109375 46.1875 \r\nQ 20.953125 51.171875 25.484375 53.578125 \r\nQ 30.03125 56 36.53125 56 \r\nQ 37.453125 56 38.578125 55.875 \r\nQ 39.703125 55.765625 41.0625 55.515625 \r\nz\r\n\" id=\"DejaVuSans-114\"/>\r\n      </defs>\r\n      <use xlink:href=\"#DejaVuSans-70\"/>\r\n      <use x=\"48.394531\" xlink:href=\"#DejaVuSans-97\"/>\r\n      <use x=\"109.673828\" xlink:href=\"#DejaVuSans-108\"/>\r\n      <use x=\"137.457031\" xlink:href=\"#DejaVuSans-115\"/>\r\n      <use x=\"189.556641\" xlink:href=\"#DejaVuSans-101\"/>\r\n      <use x=\"251.080078\" xlink:href=\"#DejaVuSans-32\"/>\r\n      <use x=\"282.867188\" xlink:href=\"#DejaVuSans-112\"/>\r\n      <use x=\"346.34375\" xlink:href=\"#DejaVuSans-111\"/>\r\n      <use x=\"407.525391\" xlink:href=\"#DejaVuSans-115\"/>\r\n      <use x=\"459.625\" xlink:href=\"#DejaVuSans-105\"/>\r\n      <use x=\"487.408203\" xlink:href=\"#DejaVuSans-116\"/>\r\n      <use x=\"526.617188\" xlink:href=\"#DejaVuSans-105\"/>\r\n      <use x=\"554.400391\" xlink:href=\"#DejaVuSans-118\"/>\r\n      <use x=\"613.580078\" xlink:href=\"#DejaVuSans-101\"/>\r\n      <use x=\"675.103516\" xlink:href=\"#DejaVuSans-32\"/>\r\n      <use x=\"706.890625\" xlink:href=\"#DejaVuSans-114\"/>\r\n      <use x=\"748.003906\" xlink:href=\"#DejaVuSans-97\"/>\r\n      <use x=\"809.283203\" xlink:href=\"#DejaVuSans-116\"/>\r\n      <use x=\"848.492188\" xlink:href=\"#DejaVuSans-101\"/>\r\n     </g>\r\n    </g>\r\n   </g>\r\n   <g id=\"matplotlib.axis_2\">\r\n    <g id=\"ytick_1\">\r\n     <g id=\"line2d_7\">\r\n      <defs>\r\n       <path d=\"M 0 0 \r\nL -3.5 0 \r\n\" id=\"mb732aad452\" style=\"stroke:#000000;stroke-width:0.8;\"/>\r\n      </defs>\r\n      <g>\r\n       <use style=\"stroke:#000000;stroke-width:0.8;\" x=\"43.78125\" xlink:href=\"#mb732aad452\" y=\"214.756364\"/>\r\n      </g>\r\n     </g>\r\n     <g id=\"text_8\">\r\n      <!-- 0.0 -->\r\n      <g transform=\"translate(20.878125 218.555582)scale(0.1 -0.1)\">\r\n       <use xlink:href=\"#DejaVuSans-48\"/>\r\n       <use x=\"63.623047\" xlink:href=\"#DejaVuSans-46\"/>\r\n       <use x=\"95.410156\" xlink:href=\"#DejaVuSans-48\"/>\r\n      </g>\r\n     </g>\r\n    </g>\r\n    <g id=\"ytick_2\">\r\n     <g id=\"line2d_8\">\r\n      <g>\r\n       <use style=\"stroke:#000000;stroke-width:0.8;\" x=\"43.78125\" xlink:href=\"#mb732aad452\" y=\"175.221818\"/>\r\n      </g>\r\n     </g>\r\n     <g id=\"text_9\">\r\n      <!-- 0.2 -->\r\n      <g transform=\"translate(20.878125 179.021037)scale(0.1 -0.1)\">\r\n       <use xlink:href=\"#DejaVuSans-48\"/>\r\n       <use x=\"63.623047\" xlink:href=\"#DejaVuSans-46\"/>\r\n       <use x=\"95.410156\" xlink:href=\"#DejaVuSans-50\"/>\r\n      </g>\r\n     </g>\r\n    </g>\r\n    <g id=\"ytick_3\">\r\n     <g id=\"line2d_9\">\r\n      <g>\r\n       <use style=\"stroke:#000000;stroke-width:0.8;\" x=\"43.78125\" xlink:href=\"#mb732aad452\" y=\"135.687273\"/>\r\n      </g>\r\n     </g>\r\n     <g id=\"text_10\">\r\n      <!-- 0.4 -->\r\n      <g transform=\"translate(20.878125 139.486491)scale(0.1 -0.1)\">\r\n       <use xlink:href=\"#DejaVuSans-48\"/>\r\n       <use x=\"63.623047\" xlink:href=\"#DejaVuSans-46\"/>\r\n       <use x=\"95.410156\" xlink:href=\"#DejaVuSans-52\"/>\r\n      </g>\r\n     </g>\r\n    </g>\r\n    <g id=\"ytick_4\">\r\n     <g id=\"line2d_10\">\r\n      <g>\r\n       <use style=\"stroke:#000000;stroke-width:0.8;\" x=\"43.78125\" xlink:href=\"#mb732aad452\" y=\"96.152727\"/>\r\n      </g>\r\n     </g>\r\n     <g id=\"text_11\">\r\n      <!-- 0.6 -->\r\n      <g transform=\"translate(20.878125 99.951946)scale(0.1 -0.1)\">\r\n       <use xlink:href=\"#DejaVuSans-48\"/>\r\n       <use x=\"63.623047\" xlink:href=\"#DejaVuSans-46\"/>\r\n       <use x=\"95.410156\" xlink:href=\"#DejaVuSans-54\"/>\r\n      </g>\r\n     </g>\r\n    </g>\r\n    <g id=\"ytick_5\">\r\n     <g id=\"line2d_11\">\r\n      <g>\r\n       <use style=\"stroke:#000000;stroke-width:0.8;\" x=\"43.78125\" xlink:href=\"#mb732aad452\" y=\"56.618182\"/>\r\n      </g>\r\n     </g>\r\n     <g id=\"text_12\">\r\n      <!-- 0.8 -->\r\n      <g transform=\"translate(20.878125 60.417401)scale(0.1 -0.1)\">\r\n       <use xlink:href=\"#DejaVuSans-48\"/>\r\n       <use x=\"63.623047\" xlink:href=\"#DejaVuSans-46\"/>\r\n       <use x=\"95.410156\" xlink:href=\"#DejaVuSans-56\"/>\r\n      </g>\r\n     </g>\r\n    </g>\r\n    <g id=\"ytick_6\">\r\n     <g id=\"line2d_12\">\r\n      <g>\r\n       <use style=\"stroke:#000000;stroke-width:0.8;\" x=\"43.78125\" xlink:href=\"#mb732aad452\" y=\"17.083636\"/>\r\n      </g>\r\n     </g>\r\n     <g id=\"text_13\">\r\n      <!-- 1.0 -->\r\n      <g transform=\"translate(20.878125 20.882855)scale(0.1 -0.1)\">\r\n       <use xlink:href=\"#DejaVuSans-49\"/>\r\n       <use x=\"63.623047\" xlink:href=\"#DejaVuSans-46\"/>\r\n       <use x=\"95.410156\" xlink:href=\"#DejaVuSans-48\"/>\r\n      </g>\r\n     </g>\r\n    </g>\r\n    <g id=\"text_14\">\r\n     <!-- True positive rate -->\r\n     <g transform=\"translate(14.798438 159.484062)rotate(-90)scale(0.1 -0.1)\">\r\n      <defs>\r\n       <path d=\"M -0.296875 72.90625 \r\nL 61.375 72.90625 \r\nL 61.375 64.59375 \r\nL 35.5 64.59375 \r\nL 35.5 0 \r\nL 25.59375 0 \r\nL 25.59375 64.59375 \r\nL -0.296875 64.59375 \r\nz\r\n\" id=\"DejaVuSans-84\"/>\r\n       <path d=\"M 8.5 21.578125 \r\nL 8.5 54.6875 \r\nL 17.484375 54.6875 \r\nL 17.484375 21.921875 \r\nQ 17.484375 14.15625 20.5 10.265625 \r\nQ 23.53125 6.390625 29.59375 6.390625 \r\nQ 36.859375 6.390625 41.078125 11.03125 \r\nQ 45.3125 15.671875 45.3125 23.6875 \r\nL 45.3125 54.6875 \r\nL 54.296875 54.6875 \r\nL 54.296875 0 \r\nL 45.3125 0 \r\nL 45.3125 8.40625 \r\nQ 42.046875 3.421875 37.71875 1 \r\nQ 33.40625 -1.421875 27.6875 -1.421875 \r\nQ 18.265625 -1.421875 13.375 4.4375 \r\nQ 8.5 10.296875 8.5 21.578125 \r\nz\r\nM 31.109375 56 \r\nz\r\n\" id=\"DejaVuSans-117\"/>\r\n      </defs>\r\n      <use xlink:href=\"#DejaVuSans-84\"/>\r\n      <use x=\"46.333984\" xlink:href=\"#DejaVuSans-114\"/>\r\n      <use x=\"87.447266\" xlink:href=\"#DejaVuSans-117\"/>\r\n      <use x=\"150.826172\" xlink:href=\"#DejaVuSans-101\"/>\r\n      <use x=\"212.349609\" xlink:href=\"#DejaVuSans-32\"/>\r\n      <use x=\"244.136719\" xlink:href=\"#DejaVuSans-112\"/>\r\n      <use x=\"307.613281\" xlink:href=\"#DejaVuSans-111\"/>\r\n      <use x=\"368.794922\" xlink:href=\"#DejaVuSans-115\"/>\r\n      <use x=\"420.894531\" xlink:href=\"#DejaVuSans-105\"/>\r\n      <use x=\"448.677734\" xlink:href=\"#DejaVuSans-116\"/>\r\n      <use x=\"487.886719\" xlink:href=\"#DejaVuSans-105\"/>\r\n      <use x=\"515.669922\" xlink:href=\"#DejaVuSans-118\"/>\r\n      <use x=\"574.849609\" xlink:href=\"#DejaVuSans-101\"/>\r\n      <use x=\"636.373047\" xlink:href=\"#DejaVuSans-32\"/>\r\n      <use x=\"668.160156\" xlink:href=\"#DejaVuSans-114\"/>\r\n      <use x=\"709.273438\" xlink:href=\"#DejaVuSans-97\"/>\r\n      <use x=\"770.552734\" xlink:href=\"#DejaVuSans-116\"/>\r\n      <use x=\"809.761719\" xlink:href=\"#DejaVuSans-101\"/>\r\n     </g>\r\n    </g>\r\n   </g>\r\n   <g id=\"line2d_13\">\r\n    <path clip-path=\"url(#p48102e9cc6)\" d=\"M 58.999432 214.756364 \r\nL 58.999432 175.221818 \r\nL 58.999432 96.152727 \r\nL 160.453977 96.152727 \r\nL 160.453977 56.618182 \r\nL 211.18125 56.618182 \r\nL 211.18125 17.083636 \r\nL 363.363068 17.083636 \r\n\" style=\"fill:none;stroke:#1f77b4;stroke-linecap:square;stroke-width:1.5;\"/>\r\n   </g>\r\n   <g id=\"line2d_14\">\r\n    <path clip-path=\"url(#p48102e9cc6)\" d=\"M 58.999432 214.756364 \r\nL 109.726705 214.756364 \r\nL 109.726705 175.221818 \r\nL 160.453977 175.221818 \r\nL 160.453977 56.618182 \r\nL 211.18125 56.618182 \r\nL 211.18125 17.083636 \r\nL 363.363068 17.083636 \r\n\" style=\"fill:none;stroke:#ff7f0e;stroke-linecap:square;stroke-width:1.5;\"/>\r\n   </g>\r\n   <g id=\"line2d_15\">\r\n    <path clip-path=\"url(#p48102e9cc6)\" d=\"M 58.999432 214.756364 \r\nL 58.999432 181.810909 \r\nL 58.999432 50.029091 \r\nL 363.363068 50.029091 \r\nL 363.363068 17.083636 \r\n\" style=\"fill:none;stroke:#2ca02c;stroke-linecap:square;stroke-width:1.5;\"/>\r\n   </g>\r\n   <g id=\"line2d_16\">\r\n    <path clip-path=\"url(#p48102e9cc6)\" d=\"M 58.999432 214.756364 \r\nL 58.999432 181.810909 \r\nL 58.999432 82.974545 \r\nL 180.744886 82.974545 \r\nL 180.744886 50.029091 \r\nL 363.363068 50.029091 \r\nL 363.363068 17.083636 \r\n\" style=\"fill:none;stroke:#d62728;stroke-linecap:square;stroke-width:1.5;\"/>\r\n   </g>\r\n   <g id=\"line2d_17\">\r\n    <path clip-path=\"url(#p48102e9cc6)\" d=\"M 58.999432 214.756364 \r\nL 58.999432 186.517403 \r\nL 58.999432 130.039481 \r\nL 160.453977 130.039481 \r\nL 160.453977 101.800519 \r\nL 261.908523 101.800519 \r\nL 261.908523 73.561558 \r\nL 363.363068 73.561558 \r\nL 363.363068 17.083636 \r\n\" style=\"fill:none;stroke:#9467bd;stroke-linecap:square;stroke-width:1.5;\"/>\r\n   </g>\r\n   <g id=\"line2d_18\">\r\n    <path clip-path=\"url(#p48102e9cc6)\" d=\"M 43.78125 224.64 \r\nL 378.58125 7.2 \r\n\" style=\"fill:none;stroke:#000000;stroke-dasharray:3.7,1.6;stroke-dashoffset:0;\"/>\r\n   </g>\r\n   <g id=\"patch_3\">\r\n    <path d=\"M 43.78125 224.64 \r\nL 43.78125 7.2 \r\n\" style=\"fill:none;stroke:#000000;stroke-linecap:square;stroke-linejoin:miter;stroke-width:0.8;\"/>\r\n   </g>\r\n   <g id=\"patch_4\">\r\n    <path d=\"M 378.58125 224.64 \r\nL 378.58125 7.2 \r\n\" style=\"fill:none;stroke:#000000;stroke-linecap:square;stroke-linejoin:miter;stroke-width:0.8;\"/>\r\n   </g>\r\n   <g id=\"patch_5\">\r\n    <path d=\"M 43.78125 224.64 \r\nL 378.58125 224.64 \r\n\" style=\"fill:none;stroke:#000000;stroke-linecap:square;stroke-linejoin:miter;stroke-width:0.8;\"/>\r\n   </g>\r\n   <g id=\"patch_6\">\r\n    <path d=\"M 43.78125 7.2 \r\nL 378.58125 7.2 \r\n\" style=\"fill:none;stroke:#000000;stroke-linecap:square;stroke-linejoin:miter;stroke-width:0.8;\"/>\r\n   </g>\r\n   <g id=\"legend_1\">\r\n    <g id=\"patch_7\">\r\n     <path d=\"M 333.21875 219.64 \r\nL 371.58125 219.64 \r\nQ 373.58125 219.64 373.58125 217.64 \r\nL 373.58125 145.249375 \r\nQ 373.58125 143.249375 371.58125 143.249375 \r\nL 333.21875 143.249375 \r\nQ 331.21875 143.249375 331.21875 145.249375 \r\nL 331.21875 217.64 \r\nQ 331.21875 219.64 333.21875 219.64 \r\nz\r\n\" style=\"fill:#ffffff;opacity:0.8;stroke:#cccccc;stroke-linejoin:miter;\"/>\r\n    </g>\r\n    <g id=\"line2d_19\">\r\n     <path d=\"M 335.21875 151.347812 \r\nL 355.21875 151.347812 \r\n\" style=\"fill:none;stroke:#1f77b4;stroke-linecap:square;stroke-width:1.5;\"/>\r\n    </g>\r\n    <g id=\"line2d_20\"/>\r\n    <g id=\"text_15\">\r\n     <!-- 0 -->\r\n     <g transform=\"translate(363.21875 154.847812)scale(0.1 -0.1)\">\r\n      <use xlink:href=\"#DejaVuSans-48\"/>\r\n     </g>\r\n    </g>\r\n    <g id=\"line2d_21\">\r\n     <path d=\"M 335.21875 166.025937 \r\nL 355.21875 166.025937 \r\n\" style=\"fill:none;stroke:#ff7f0e;stroke-linecap:square;stroke-width:1.5;\"/>\r\n    </g>\r\n    <g id=\"line2d_22\"/>\r\n    <g id=\"text_16\">\r\n     <!-- 1 -->\r\n     <g transform=\"translate(363.21875 169.525937)scale(0.1 -0.1)\">\r\n      <use xlink:href=\"#DejaVuSans-49\"/>\r\n     </g>\r\n    </g>\r\n    <g id=\"line2d_23\">\r\n     <path d=\"M 335.21875 180.704062 \r\nL 355.21875 180.704062 \r\n\" style=\"fill:none;stroke:#2ca02c;stroke-linecap:square;stroke-width:1.5;\"/>\r\n    </g>\r\n    <g id=\"line2d_24\"/>\r\n    <g id=\"text_17\">\r\n     <!-- 2 -->\r\n     <g transform=\"translate(363.21875 184.204062)scale(0.1 -0.1)\">\r\n      <use xlink:href=\"#DejaVuSans-50\"/>\r\n     </g>\r\n    </g>\r\n    <g id=\"line2d_25\">\r\n     <path d=\"M 335.21875 195.382187 \r\nL 355.21875 195.382187 \r\n\" style=\"fill:none;stroke:#d62728;stroke-linecap:square;stroke-width:1.5;\"/>\r\n    </g>\r\n    <g id=\"line2d_26\"/>\r\n    <g id=\"text_18\">\r\n     <!-- 3 -->\r\n     <g transform=\"translate(363.21875 198.882187)scale(0.1 -0.1)\">\r\n      <defs>\r\n       <path d=\"M 40.578125 39.3125 \r\nQ 47.65625 37.796875 51.625 33 \r\nQ 55.609375 28.21875 55.609375 21.1875 \r\nQ 55.609375 10.40625 48.1875 4.484375 \r\nQ 40.765625 -1.421875 27.09375 -1.421875 \r\nQ 22.515625 -1.421875 17.65625 -0.515625 \r\nQ 12.796875 0.390625 7.625 2.203125 \r\nL 7.625 11.71875 \r\nQ 11.71875 9.328125 16.59375 8.109375 \r\nQ 21.484375 6.890625 26.8125 6.890625 \r\nQ 36.078125 6.890625 40.9375 10.546875 \r\nQ 45.796875 14.203125 45.796875 21.1875 \r\nQ 45.796875 27.640625 41.28125 31.265625 \r\nQ 36.765625 34.90625 28.71875 34.90625 \r\nL 20.21875 34.90625 \r\nL 20.21875 43.015625 \r\nL 29.109375 43.015625 \r\nQ 36.375 43.015625 40.234375 45.921875 \r\nQ 44.09375 48.828125 44.09375 54.296875 \r\nQ 44.09375 59.90625 40.109375 62.90625 \r\nQ 36.140625 65.921875 28.71875 65.921875 \r\nQ 24.65625 65.921875 20.015625 65.03125 \r\nQ 15.375 64.15625 9.8125 62.3125 \r\nL 9.8125 71.09375 \r\nQ 15.4375 72.65625 20.34375 73.4375 \r\nQ 25.25 74.21875 29.59375 74.21875 \r\nQ 40.828125 74.21875 47.359375 69.109375 \r\nQ 53.90625 64.015625 53.90625 55.328125 \r\nQ 53.90625 49.265625 50.4375 45.09375 \r\nQ 46.96875 40.921875 40.578125 39.3125 \r\nz\r\n\" id=\"DejaVuSans-51\"/>\r\n      </defs>\r\n      <use xlink:href=\"#DejaVuSans-51\"/>\r\n     </g>\r\n    </g>\r\n    <g id=\"line2d_27\">\r\n     <path d=\"M 335.21875 210.060312 \r\nL 355.21875 210.060312 \r\n\" style=\"fill:none;stroke:#9467bd;stroke-linecap:square;stroke-width:1.5;\"/>\r\n    </g>\r\n    <g id=\"line2d_28\"/>\r\n    <g id=\"text_19\">\r\n     <!-- 4 -->\r\n     <g transform=\"translate(363.21875 213.560312)scale(0.1 -0.1)\">\r\n      <use xlink:href=\"#DejaVuSans-52\"/>\r\n     </g>\r\n    </g>\r\n   </g>\r\n  </g>\r\n </g>\r\n <defs>\r\n  <clipPath id=\"p48102e9cc6\">\r\n   <rect height=\"217.44\" width=\"334.8\" x=\"43.78125\" y=\"7.2\"/>\r\n  </clipPath>\r\n </defs>\r\n</svg>\r\n",
      "image/png": "[encoded data removed]"
     },
     "metadata": {
      "needs_background": "light"
     }
    },
    {
     "output_type": "stream",
     "name": "stdout",
     "text": [
      "\n\ndetail results in dictionary \"cv_score_dict\" using model_name as key\nPerformance summary in df \"cv_score_mean\" and \"cv_score_sem\"\n"
     ]
    },
    {
     "output_type": "execute_result",
     "data": {
      "text/plain": [
       "      F1  precision  recall  accuracy\n",
       "RF  0.76       0.73     0.8      0.72"
      ],
      "text/html": "<div>\n<style scoped>\n    .dataframe tbody tr th:only-of-type {\n        vertical-align: middle;\n    }\n\n    .dataframe tbody tr th {\n        vertical-align: top;\n    }\n\n    .dataframe thead th {\n        text-align: right;\n    }\n</style>\n<table border=\"1\" class=\"dataframe\">\n  <thead>\n    <tr style=\"text-align: right;\">\n      <th></th>\n      <th>F1</th>\n      <th>precision</th>\n      <th>recall</th>\n      <th>accuracy</th>\n    </tr>\n  </thead>\n  <tbody>\n    <tr>\n      <th>RF</th>\n      <td>0.76</td>\n      <td>0.73</td>\n      <td>0.8</td>\n      <td>0.72</td>\n    </tr>\n  </tbody>\n</table>\n</div>"
     },
     "metadata": {},
     "execution_count": 15
    }
   ],
   "source": [
    "\n",
    "#make sure datasets are converted from pandas DataFrame into numpy ndarray avoid errors in machine learning.\n",
    "  \n",
    "#X_train, X_test, y_train, y_test = train_test_split(X,y,test_size = 0.20, random_state=0) #same random_state as previous GS\n",
    "\n",
    "#setting up models using tuned hyperparameters from Grid Search.\n",
    "#GBDT = GradientBoostingClassifier(random_state=42).set_params(**GBDT_tuned_params)\n",
    "RF = RandomForestClassifier(random_state=0).set_params(**RF_tuned_params)\n",
    "LR = LogisticRegression(random_state=0).set_params(**LR_tuned_params)\n",
    "#SVM = SVC(random_state=42).set_params(**SVM_tuned_params)\n",
    "\n",
    "#create dictionary to store k-fold CV results\n",
    "cv_score_dict = {}\n",
    "#create a dataframe to store the mean and standard error of the mean (SEM) from k-fold CV\n",
    "cv_score_mean = pd.DataFrame()\n",
    "cv_score_sem = pd.DataFrame()\n",
    "\n",
    "#run k-fold CV\n",
    "for clf, model_name in zip([RF], ['RF']):#'RF','GBDT','LR','SVM'\n",
    "    #clf = eval(model_name)\n",
    "    cv_score_dict[model_name] = kf_cv(clf,X_train,Y_train,5,True)\n",
    "    cv_score_mean[model_name] = cv_score_dict[model_name].mean()[:-1]\n",
    "    cv_score_sem[model_name] = cv_score_dict[model_name].sem()\n",
    "    \n",
    "cv_score_mean = cv_score_mean.transpose().astype(float).round(2)\n",
    "cv_score_sem = cv_score_sem.transpose().round(2)\n",
    "\n",
    "print('\\n\\ndetail results in dictionary \"cv_score_dict\" using model_name as key')\n",
    "print('Performance summary in df \"cv_score_mean\" and \"cv_score_sem\"')\n",
    "\n",
    "# check mean performance of each model.\n",
    "cv_score_mean"
   ]
  },
  {
   "cell_type": "code",
   "execution_count": 16,
   "metadata": {},
   "outputs": [
    {
     "output_type": "execute_result",
     "data": {
      "text/plain": [
       "         F1  precision    recall  accuracy   ROC_AUC  confusion_matrix\n",
       "0  0.727273   0.666667  0.800000  0.727273  0.833333  [[4, 2], [1, 4]]\n",
       "1  0.727273   0.666667  0.800000  0.727273  0.666667  [[4, 2], [1, 4]]\n",
       "2  0.909091   1.000000  0.833333  0.909091  0.833333  [[5, 0], [1, 5]]\n",
       "3  0.714286   0.625000  0.833333  0.636364  0.766667  [[2, 3], [1, 5]]\n",
       "4  0.714286   0.714286  0.714286  0.600000  0.571429  [[1, 2], [2, 5]]"
      ],
      "text/html": "<div>\n<style scoped>\n    .dataframe tbody tr th:only-of-type {\n        vertical-align: middle;\n    }\n\n    .dataframe tbody tr th {\n        vertical-align: top;\n    }\n\n    .dataframe thead th {\n        text-align: right;\n    }\n</style>\n<table border=\"1\" class=\"dataframe\">\n  <thead>\n    <tr style=\"text-align: right;\">\n      <th></th>\n      <th>F1</th>\n      <th>precision</th>\n      <th>recall</th>\n      <th>accuracy</th>\n      <th>ROC_AUC</th>\n      <th>confusion_matrix</th>\n    </tr>\n  </thead>\n  <tbody>\n    <tr>\n      <th>0</th>\n      <td>0.727273</td>\n      <td>0.666667</td>\n      <td>0.800000</td>\n      <td>0.727273</td>\n      <td>0.833333</td>\n      <td>[[4, 2], [1, 4]]</td>\n    </tr>\n    <tr>\n      <th>1</th>\n      <td>0.727273</td>\n      <td>0.666667</td>\n      <td>0.800000</td>\n      <td>0.727273</td>\n      <td>0.666667</td>\n      <td>[[4, 2], [1, 4]]</td>\n    </tr>\n    <tr>\n      <th>2</th>\n      <td>0.909091</td>\n      <td>1.000000</td>\n      <td>0.833333</td>\n      <td>0.909091</td>\n      <td>0.833333</td>\n      <td>[[5, 0], [1, 5]]</td>\n    </tr>\n    <tr>\n      <th>3</th>\n      <td>0.714286</td>\n      <td>0.625000</td>\n      <td>0.833333</td>\n      <td>0.636364</td>\n      <td>0.766667</td>\n      <td>[[2, 3], [1, 5]]</td>\n    </tr>\n    <tr>\n      <th>4</th>\n      <td>0.714286</td>\n      <td>0.714286</td>\n      <td>0.714286</td>\n      <td>0.600000</td>\n      <td>0.571429</td>\n      <td>[[1, 2], [2, 5]]</td>\n    </tr>\n  </tbody>\n</table>\n</div>"
     },
     "metadata": {},
     "execution_count": 16
    }
   ],
   "source": [
    "cv_score_dict['RF']"
   ]
  },
  {
   "cell_type": "code",
   "execution_count": 17,
   "metadata": {},
   "outputs": [
    {
     "output_type": "execute_result",
     "data": {
      "text/plain": [
       "      F1  precision  recall  accuracy  ROC_AUC  confusion_matrix\n",
       "RF  0.63       0.56    0.71      0.57     0.78  [[3, 4], [2, 5]]"
      ],
      "text/html": "<div>\n<style scoped>\n    .dataframe tbody tr th:only-of-type {\n        vertical-align: middle;\n    }\n\n    .dataframe tbody tr th {\n        vertical-align: top;\n    }\n\n    .dataframe thead th {\n        text-align: right;\n    }\n</style>\n<table border=\"1\" class=\"dataframe\">\n  <thead>\n    <tr style=\"text-align: right;\">\n      <th></th>\n      <th>F1</th>\n      <th>precision</th>\n      <th>recall</th>\n      <th>accuracy</th>\n      <th>ROC_AUC</th>\n      <th>confusion_matrix</th>\n    </tr>\n  </thead>\n  <tbody>\n    <tr>\n      <th>RF</th>\n      <td>0.63</td>\n      <td>0.56</td>\n      <td>0.71</td>\n      <td>0.57</td>\n      <td>0.78</td>\n      <td>[[3, 4], [2, 5]]</td>\n    </tr>\n  </tbody>\n</table>\n</div>"
     },
     "metadata": {},
     "execution_count": 17
    }
   ],
   "source": [
    "#create a dataframe to store test set performance\n",
    "test_set_result = pd.DataFrame()\n",
    "f1,prec,recall,acc,ROC_AUC,conf = ([],[],[],[],[],[])\n",
    "\n",
    "#evaluate the performance of the different classifiers\n",
    "for model_name in ['RF']:#'RF','GBDT','LR','SVM'\n",
    "    clf = eval(model_name)\n",
    "\n",
    "    clf.fit(X_train, Y_train)\n",
    "\n",
    "    pred_test = clf.predict(X_test)\n",
    "    pred_test_probs = clf.predict_proba(X_test)\n",
    "    fpr, tpr, _ = roc_curve(Y_test,pred_test)\n",
    "\n",
    "    f1.append(f1_score(Y_test,pred_test))\n",
    "    prec.append(precision_score(Y_test,pred_test))\n",
    "    recall.append(recall_score(Y_test,pred_test))\n",
    "    acc.append(accuracy_score(Y_test,pred_test))\n",
    "    ROC_AUC.append(roc_auc_score(Y_test, pred_test_probs[:,1]))       \n",
    "    conf.append(confusion_matrix(Y_test,pred_test))\n",
    "    \n",
    "test_set_scores = zip(f1,prec,recall,acc,ROC_AUC,conf)   \n",
    "\n",
    "test_set_result = pd.DataFrame(test_set_scores, \n",
    "                               columns=['F1','precision','recall',\n",
    "                                        'accuracy','ROC_AUC','confusion_matrix'], \n",
    "                               index = ['RF'])#'RF','GBDT','LR','SVM'\n",
    "test_set_result.round(2)"
   ]
  }
 ]
}