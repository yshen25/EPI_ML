{
 "metadata": {
  "language_info": {
   "codemirror_mode": {
    "name": "ipython",
    "version": 3
   },
   "file_extension": ".py",
   "mimetype": "text/x-python",
   "name": "python",
   "nbconvert_exporter": "python",
   "pygments_lexer": "ipython3",
   "version": "3.8.8-final"
  },
  "orig_nbformat": 2,
  "kernelspec": {
   "name": "python3",
   "display_name": "Python 3.8.8 64-bit (conda)",
   "metadata": {
    "interpreter": {
     "hash": "a8f61be024eba58adef938c9aa1e29e02cb3dece83a5348b1a2dafd16a070453"
    }
   }
  }
 },
 "nbformat": 4,
 "nbformat_minor": 2,
 "cells": [
  {
   "cell_type": "code",
   "execution_count": 71,
   "metadata": {},
   "outputs": [
    {
     "output_type": "stream",
     "name": "stdout",
     "text": [
      "missing values!\n"
     ]
    },
    {
     "output_type": "execute_result",
     "data": {
      "text/plain": [
       "     MolID  A2_pore/wt  A2_pd3/wt  A2_pd3-pore/wt   A2_10   A2_20   A2_40  \\\n",
       "0  1500272    1.374142   1.147597        1.818078   13.25   29.46   34.31   \n",
       "1  1501007    1.653595   1.740196        1.830065   14.31   23.01   62.53   \n",
       "2  1501150    1.263575   1.094268        1.288084   40.09   79.97  118.30   \n",
       "3  1503100    1.068571   0.819113        0.906404  124.53  232.97  412.39   \n",
       "4  1503243    1.429834   1.441308        1.796096  106.38  200.59  336.07   \n",
       "\n",
       "    A2_80  BalabanJ   BertzCT  ...     PMI3  RadiusOfGyration  \\\n",
       "0   66.71     1.429  1053.463  ...  8960.40              4.71   \n",
       "1   91.25     1.868   592.306  ...  5322.33              4.43   \n",
       "2  197.67     2.143   675.300  ...  4454.32              3.82   \n",
       "3  798.47     1.453   912.788  ...  6975.32              4.50   \n",
       "4  574.06     1.847   673.567  ...  6455.60              4.67   \n",
       "\n",
       "   SpherocityIndex  avg_asphericity  avg_acylindricity  avg_kappa2    avg_rg  \\\n",
       "0             0.26         0.377154           0.212826    0.287922  0.526401   \n",
       "1             0.13         0.310194           0.123611    0.349557  0.411174   \n",
       "2             0.13         0.307322           0.156884    0.302154  0.421545   \n",
       "3             0.21         0.402013           0.129149    0.435131  0.498724   \n",
       "4             0.11         0.365638           0.124397    0.441792  0.454138   \n",
       "\n",
       "   avg_largest_principal_rg  avg_middle_principal_rg  \\\n",
       "0                  0.505270                 0.457168   \n",
       "1                  0.391925                 0.369452   \n",
       "2                  0.403439                 0.370261   \n",
       "3                  0.478465                 0.459285   \n",
       "4                  0.437384                 0.416621   \n",
       "\n",
       "   avg_smallest_principal_rg  \n",
       "0                   0.299362  \n",
       "1                   0.216417  \n",
       "2                   0.235260  \n",
       "3                   0.236546  \n",
       "4                   0.212002  \n",
       "\n",
       "[5 rows x 225 columns]"
      ],
      "text/html": "<div>\n<style scoped>\n    .dataframe tbody tr th:only-of-type {\n        vertical-align: middle;\n    }\n\n    .dataframe tbody tr th {\n        vertical-align: top;\n    }\n\n    .dataframe thead th {\n        text-align: right;\n    }\n</style>\n<table border=\"1\" class=\"dataframe\">\n  <thead>\n    <tr style=\"text-align: right;\">\n      <th></th>\n      <th>MolID</th>\n      <th>A2_pore/wt</th>\n      <th>A2_pd3/wt</th>\n      <th>A2_pd3-pore/wt</th>\n      <th>A2_10</th>\n      <th>A2_20</th>\n      <th>A2_40</th>\n      <th>A2_80</th>\n      <th>BalabanJ</th>\n      <th>BertzCT</th>\n      <th>...</th>\n      <th>PMI3</th>\n      <th>RadiusOfGyration</th>\n      <th>SpherocityIndex</th>\n      <th>avg_asphericity</th>\n      <th>avg_acylindricity</th>\n      <th>avg_kappa2</th>\n      <th>avg_rg</th>\n      <th>avg_largest_principal_rg</th>\n      <th>avg_middle_principal_rg</th>\n      <th>avg_smallest_principal_rg</th>\n    </tr>\n  </thead>\n  <tbody>\n    <tr>\n      <th>0</th>\n      <td>1500272</td>\n      <td>1.374142</td>\n      <td>1.147597</td>\n      <td>1.818078</td>\n      <td>13.25</td>\n      <td>29.46</td>\n      <td>34.31</td>\n      <td>66.71</td>\n      <td>1.429</td>\n      <td>1053.463</td>\n      <td>...</td>\n      <td>8960.40</td>\n      <td>4.71</td>\n      <td>0.26</td>\n      <td>0.377154</td>\n      <td>0.212826</td>\n      <td>0.287922</td>\n      <td>0.526401</td>\n      <td>0.505270</td>\n      <td>0.457168</td>\n      <td>0.299362</td>\n    </tr>\n    <tr>\n      <th>1</th>\n      <td>1501007</td>\n      <td>1.653595</td>\n      <td>1.740196</td>\n      <td>1.830065</td>\n      <td>14.31</td>\n      <td>23.01</td>\n      <td>62.53</td>\n      <td>91.25</td>\n      <td>1.868</td>\n      <td>592.306</td>\n      <td>...</td>\n      <td>5322.33</td>\n      <td>4.43</td>\n      <td>0.13</td>\n      <td>0.310194</td>\n      <td>0.123611</td>\n      <td>0.349557</td>\n      <td>0.411174</td>\n      <td>0.391925</td>\n      <td>0.369452</td>\n      <td>0.216417</td>\n    </tr>\n    <tr>\n      <th>2</th>\n      <td>1501150</td>\n      <td>1.263575</td>\n      <td>1.094268</td>\n      <td>1.288084</td>\n      <td>40.09</td>\n      <td>79.97</td>\n      <td>118.30</td>\n      <td>197.67</td>\n      <td>2.143</td>\n      <td>675.300</td>\n      <td>...</td>\n      <td>4454.32</td>\n      <td>3.82</td>\n      <td>0.13</td>\n      <td>0.307322</td>\n      <td>0.156884</td>\n      <td>0.302154</td>\n      <td>0.421545</td>\n      <td>0.403439</td>\n      <td>0.370261</td>\n      <td>0.235260</td>\n    </tr>\n    <tr>\n      <th>3</th>\n      <td>1503100</td>\n      <td>1.068571</td>\n      <td>0.819113</td>\n      <td>0.906404</td>\n      <td>124.53</td>\n      <td>232.97</td>\n      <td>412.39</td>\n      <td>798.47</td>\n      <td>1.453</td>\n      <td>912.788</td>\n      <td>...</td>\n      <td>6975.32</td>\n      <td>4.50</td>\n      <td>0.21</td>\n      <td>0.402013</td>\n      <td>0.129149</td>\n      <td>0.435131</td>\n      <td>0.498724</td>\n      <td>0.478465</td>\n      <td>0.459285</td>\n      <td>0.236546</td>\n    </tr>\n    <tr>\n      <th>4</th>\n      <td>1503243</td>\n      <td>1.429834</td>\n      <td>1.441308</td>\n      <td>1.796096</td>\n      <td>106.38</td>\n      <td>200.59</td>\n      <td>336.07</td>\n      <td>574.06</td>\n      <td>1.847</td>\n      <td>673.567</td>\n      <td>...</td>\n      <td>6455.60</td>\n      <td>4.67</td>\n      <td>0.11</td>\n      <td>0.365638</td>\n      <td>0.124397</td>\n      <td>0.441792</td>\n      <td>0.454138</td>\n      <td>0.437384</td>\n      <td>0.416621</td>\n      <td>0.212002</td>\n    </tr>\n  </tbody>\n</table>\n<p>5 rows × 225 columns</p>\n</div>"
     },
     "metadata": {},
     "execution_count": 71
    }
   ],
   "source": [
    "#load pandas and numpy modules\n",
    "import os \n",
    "import pandas as pd\n",
    "import numpy as np\n",
    "import matplotlib.pyplot as plt\n",
    " \n",
    "#read raw data\n",
    "df = pd.read_csv('Book1.csv')\n",
    "\n",
    "if df.isnull().values.any():\n",
    "    print ('missing values!')\n",
    "    #raise ValueError\n",
    "else:\n",
    "    print('pass')\n",
    "\n",
    "removed_mol = [\"ASD007\", \"ASD012\", \"ASD019\", \"ASD021\", \"D372-0163\"]\n",
    "df = df[~df['MolID'].isin(removed_mol)]\n",
    "\n",
    "df.head()"
   ]
  },
  {
   "cell_type": "code",
   "execution_count": 72,
   "metadata": {},
   "outputs": [
    {
     "output_type": "execute_result",
     "data": {
      "text/plain": [
       "    BalabanJ   BertzCT    Chi0    Chi1   Chi0n   Chi1n   Chi2n  Chi3n  Chi4n  \\\n",
       "0      1.429  1053.463  24.526  17.092  21.986  13.271  10.508  8.949  7.085   \n",
       "1      1.868   592.306  16.113  10.436  12.477   7.260   5.618  3.565  2.395   \n",
       "2      2.143   675.300  17.035  10.863  13.464   7.701   5.718  4.335  3.048   \n",
       "3      1.453   912.788  20.096  13.507  16.903   9.734   7.208  5.436  3.662   \n",
       "4      1.847   673.567  17.527  11.469  13.852   8.151   6.130  4.164  2.612   \n",
       "..       ...       ...     ...     ...     ...     ...     ...    ...    ...   \n",
       "81     1.415  1088.933  19.510  13.602  16.072   9.689   7.605  5.453  3.953   \n",
       "82     1.409  1037.250  20.924  14.640  17.649  10.528   7.733  5.681  4.071   \n",
       "83     2.330   975.310  17.974  12.079  15.057   8.546   6.575  4.499  3.196   \n",
       "84     1.949   882.760  16.845  11.559  13.127   8.224   6.472  4.808  3.392   \n",
       "85     1.692   633.749  17.104  11.542  13.457   7.892   5.789  4.047  2.821   \n",
       "\n",
       "     Chi0v  ...     PMI3  RadiusOfGyration  SpherocityIndex  avg_asphericity  \\\n",
       "0   21.986  ...  8960.40              4.71             0.26         0.377154   \n",
       "1   12.477  ...  5322.33              4.43             0.13         0.310194   \n",
       "2   14.280  ...  4454.32              3.82             0.13         0.307322   \n",
       "3   16.903  ...  6975.32              4.50             0.21         0.402013   \n",
       "4   13.852  ...  6455.60              4.67             0.11         0.365638   \n",
       "..     ...  ...      ...               ...              ...              ...   \n",
       "81  16.072  ...  7862.80              4.82             0.12         0.408958   \n",
       "82  17.649  ...  9674.41              5.13             0.12         0.416993   \n",
       "83  15.057  ...  3445.24              3.45             0.21         0.209107   \n",
       "84  13.127  ...  4263.15              3.74             0.09         0.301786   \n",
       "85  13.457  ...  6110.55              4.43             0.06         0.438299   \n",
       "\n",
       "    avg_acylindricity  avg_kappa2    avg_rg  avg_largest_principal_rg  \\\n",
       "0            0.212826    0.287922  0.526401                  0.505270   \n",
       "1            0.123611    0.349557  0.411174                  0.391925   \n",
       "2            0.156884    0.302154  0.421545                  0.403439   \n",
       "3            0.129149    0.435131  0.498724                  0.478465   \n",
       "4            0.124397    0.441792  0.454138                  0.437384   \n",
       "..                ...         ...       ...                       ...   \n",
       "81           0.115699    0.485836  0.491210                  0.473402   \n",
       "82           0.196128    0.419995  0.525883                  0.512063   \n",
       "83           0.229186    0.161560  0.399372                  0.383872   \n",
       "84           0.172059    0.348878  0.400354                  0.389923   \n",
       "85           0.078342    0.655264  0.487315                  0.475239   \n",
       "\n",
       "    avg_middle_principal_rg  avg_smallest_principal_rg  \n",
       "0                  0.457168                   0.299362  \n",
       "1                  0.369452                   0.216417  \n",
       "2                  0.370261                   0.235260  \n",
       "3                  0.459285                   0.236546  \n",
       "4                  0.416621                   0.212002  \n",
       "..                      ...                        ...  \n",
       "81                 0.457345                   0.221208  \n",
       "82                 0.472004                   0.259160  \n",
       "83                 0.307732                   0.277063  \n",
       "84                 0.349846                   0.214736  \n",
       "85                 0.468015                   0.170397  \n",
       "\n",
       "[80 rows x 217 columns]"
      ],
      "text/html": "<div>\n<style scoped>\n    .dataframe tbody tr th:only-of-type {\n        vertical-align: middle;\n    }\n\n    .dataframe tbody tr th {\n        vertical-align: top;\n    }\n\n    .dataframe thead th {\n        text-align: right;\n    }\n</style>\n<table border=\"1\" class=\"dataframe\">\n  <thead>\n    <tr style=\"text-align: right;\">\n      <th></th>\n      <th>BalabanJ</th>\n      <th>BertzCT</th>\n      <th>Chi0</th>\n      <th>Chi1</th>\n      <th>Chi0n</th>\n      <th>Chi1n</th>\n      <th>Chi2n</th>\n      <th>Chi3n</th>\n      <th>Chi4n</th>\n      <th>Chi0v</th>\n      <th>...</th>\n      <th>PMI3</th>\n      <th>RadiusOfGyration</th>\n      <th>SpherocityIndex</th>\n      <th>avg_asphericity</th>\n      <th>avg_acylindricity</th>\n      <th>avg_kappa2</th>\n      <th>avg_rg</th>\n      <th>avg_largest_principal_rg</th>\n      <th>avg_middle_principal_rg</th>\n      <th>avg_smallest_principal_rg</th>\n    </tr>\n  </thead>\n  <tbody>\n    <tr>\n      <th>0</th>\n      <td>1.429</td>\n      <td>1053.463</td>\n      <td>24.526</td>\n      <td>17.092</td>\n      <td>21.986</td>\n      <td>13.271</td>\n      <td>10.508</td>\n      <td>8.949</td>\n      <td>7.085</td>\n      <td>21.986</td>\n      <td>...</td>\n      <td>8960.40</td>\n      <td>4.71</td>\n      <td>0.26</td>\n      <td>0.377154</td>\n      <td>0.212826</td>\n      <td>0.287922</td>\n      <td>0.526401</td>\n      <td>0.505270</td>\n      <td>0.457168</td>\n      <td>0.299362</td>\n    </tr>\n    <tr>\n      <th>1</th>\n      <td>1.868</td>\n      <td>592.306</td>\n      <td>16.113</td>\n      <td>10.436</td>\n      <td>12.477</td>\n      <td>7.260</td>\n      <td>5.618</td>\n      <td>3.565</td>\n      <td>2.395</td>\n      <td>12.477</td>\n      <td>...</td>\n      <td>5322.33</td>\n      <td>4.43</td>\n      <td>0.13</td>\n      <td>0.310194</td>\n      <td>0.123611</td>\n      <td>0.349557</td>\n      <td>0.411174</td>\n      <td>0.391925</td>\n      <td>0.369452</td>\n      <td>0.216417</td>\n    </tr>\n    <tr>\n      <th>2</th>\n      <td>2.143</td>\n      <td>675.300</td>\n      <td>17.035</td>\n      <td>10.863</td>\n      <td>13.464</td>\n      <td>7.701</td>\n      <td>5.718</td>\n      <td>4.335</td>\n      <td>3.048</td>\n      <td>14.280</td>\n      <td>...</td>\n      <td>4454.32</td>\n      <td>3.82</td>\n      <td>0.13</td>\n      <td>0.307322</td>\n      <td>0.156884</td>\n      <td>0.302154</td>\n      <td>0.421545</td>\n      <td>0.403439</td>\n      <td>0.370261</td>\n      <td>0.235260</td>\n    </tr>\n    <tr>\n      <th>3</th>\n      <td>1.453</td>\n      <td>912.788</td>\n      <td>20.096</td>\n      <td>13.507</td>\n      <td>16.903</td>\n      <td>9.734</td>\n      <td>7.208</td>\n      <td>5.436</td>\n      <td>3.662</td>\n      <td>16.903</td>\n      <td>...</td>\n      <td>6975.32</td>\n      <td>4.50</td>\n      <td>0.21</td>\n      <td>0.402013</td>\n      <td>0.129149</td>\n      <td>0.435131</td>\n      <td>0.498724</td>\n      <td>0.478465</td>\n      <td>0.459285</td>\n      <td>0.236546</td>\n    </tr>\n    <tr>\n      <th>4</th>\n      <td>1.847</td>\n      <td>673.567</td>\n      <td>17.527</td>\n      <td>11.469</td>\n      <td>13.852</td>\n      <td>8.151</td>\n      <td>6.130</td>\n      <td>4.164</td>\n      <td>2.612</td>\n      <td>13.852</td>\n      <td>...</td>\n      <td>6455.60</td>\n      <td>4.67</td>\n      <td>0.11</td>\n      <td>0.365638</td>\n      <td>0.124397</td>\n      <td>0.441792</td>\n      <td>0.454138</td>\n      <td>0.437384</td>\n      <td>0.416621</td>\n      <td>0.212002</td>\n    </tr>\n    <tr>\n      <th>...</th>\n      <td>...</td>\n      <td>...</td>\n      <td>...</td>\n      <td>...</td>\n      <td>...</td>\n      <td>...</td>\n      <td>...</td>\n      <td>...</td>\n      <td>...</td>\n      <td>...</td>\n      <td>...</td>\n      <td>...</td>\n      <td>...</td>\n      <td>...</td>\n      <td>...</td>\n      <td>...</td>\n      <td>...</td>\n      <td>...</td>\n      <td>...</td>\n      <td>...</td>\n      <td>...</td>\n    </tr>\n    <tr>\n      <th>81</th>\n      <td>1.415</td>\n      <td>1088.933</td>\n      <td>19.510</td>\n      <td>13.602</td>\n      <td>16.072</td>\n      <td>9.689</td>\n      <td>7.605</td>\n      <td>5.453</td>\n      <td>3.953</td>\n      <td>16.072</td>\n      <td>...</td>\n      <td>7862.80</td>\n      <td>4.82</td>\n      <td>0.12</td>\n      <td>0.408958</td>\n      <td>0.115699</td>\n      <td>0.485836</td>\n      <td>0.491210</td>\n      <td>0.473402</td>\n      <td>0.457345</td>\n      <td>0.221208</td>\n    </tr>\n    <tr>\n      <th>82</th>\n      <td>1.409</td>\n      <td>1037.250</td>\n      <td>20.924</td>\n      <td>14.640</td>\n      <td>17.649</td>\n      <td>10.528</td>\n      <td>7.733</td>\n      <td>5.681</td>\n      <td>4.071</td>\n      <td>17.649</td>\n      <td>...</td>\n      <td>9674.41</td>\n      <td>5.13</td>\n      <td>0.12</td>\n      <td>0.416993</td>\n      <td>0.196128</td>\n      <td>0.419995</td>\n      <td>0.525883</td>\n      <td>0.512063</td>\n      <td>0.472004</td>\n      <td>0.259160</td>\n    </tr>\n    <tr>\n      <th>83</th>\n      <td>2.330</td>\n      <td>975.310</td>\n      <td>17.974</td>\n      <td>12.079</td>\n      <td>15.057</td>\n      <td>8.546</td>\n      <td>6.575</td>\n      <td>4.499</td>\n      <td>3.196</td>\n      <td>15.057</td>\n      <td>...</td>\n      <td>3445.24</td>\n      <td>3.45</td>\n      <td>0.21</td>\n      <td>0.209107</td>\n      <td>0.229186</td>\n      <td>0.161560</td>\n      <td>0.399372</td>\n      <td>0.383872</td>\n      <td>0.307732</td>\n      <td>0.277063</td>\n    </tr>\n    <tr>\n      <th>84</th>\n      <td>1.949</td>\n      <td>882.760</td>\n      <td>16.845</td>\n      <td>11.559</td>\n      <td>13.127</td>\n      <td>8.224</td>\n      <td>6.472</td>\n      <td>4.808</td>\n      <td>3.392</td>\n      <td>13.127</td>\n      <td>...</td>\n      <td>4263.15</td>\n      <td>3.74</td>\n      <td>0.09</td>\n      <td>0.301786</td>\n      <td>0.172059</td>\n      <td>0.348878</td>\n      <td>0.400354</td>\n      <td>0.389923</td>\n      <td>0.349846</td>\n      <td>0.214736</td>\n    </tr>\n    <tr>\n      <th>85</th>\n      <td>1.692</td>\n      <td>633.749</td>\n      <td>17.104</td>\n      <td>11.542</td>\n      <td>13.457</td>\n      <td>7.892</td>\n      <td>5.789</td>\n      <td>4.047</td>\n      <td>2.821</td>\n      <td>13.457</td>\n      <td>...</td>\n      <td>6110.55</td>\n      <td>4.43</td>\n      <td>0.06</td>\n      <td>0.438299</td>\n      <td>0.078342</td>\n      <td>0.655264</td>\n      <td>0.487315</td>\n      <td>0.475239</td>\n      <td>0.468015</td>\n      <td>0.170397</td>\n    </tr>\n  </tbody>\n</table>\n<p>80 rows × 217 columns</p>\n</div>"
     },
     "metadata": {},
     "execution_count": 72
    }
   ],
   "source": [
    "df_no_nan = df.dropna(subset=[\"A2_pd3-pore/wt\"])\n",
    "Y = df_no_nan[\"A2_pd3-pore/wt\"]\n",
    "#Y = df_no_nan.iloc[:,7]\n",
    "#Y = Y.dropna() # drop row if NaN in Y\n",
    "#b_class = {'Low': 0, 'High': 1}\n",
    "#Yb = Y.map(b_class)\n",
    "Yb = (Y > np.median(Y)).astype(int) # binary classification split by median\n",
    "Yb#.sum()\n",
    "\n",
    "X_raw = df_no_nan.iloc[:,8:]\n",
    "#X_raw = X_raw.drop(index=NANrow)\n",
    "X_raw"
   ]
  },
  {
   "cell_type": "code",
   "execution_count": 73,
   "metadata": {},
   "outputs": [
    {
     "output_type": "execute_result",
     "data": {
      "text/plain": [
       "   BalabanJ   BertzCT      Chi0      Chi1     Chi0n     Chi1n     Chi2n  \\\n",
       "0 -0.586582  0.304295  0.928155  0.975155  1.251972  1.071529  1.284021   \n",
       "1  0.030207 -0.870827 -0.593390 -0.691032 -0.599649 -0.540323 -0.632311   \n",
       "2  0.416579 -0.659341 -0.426640 -0.584142 -0.407458 -0.422069 -0.593122   \n",
       "3 -0.552863 -0.054174  0.126961  0.077727  0.262195  0.123081 -0.009209   \n",
       "4  0.000702 -0.663757 -0.337659 -0.432443 -0.331905 -0.301401 -0.431665   \n",
       "\n",
       "      Chi3n     Chi4n     Chi0v  ...      PMI3  RadiusOfGyration  \\\n",
       "0  1.965963  2.521044  1.273673  ...  0.618820          0.583333   \n",
       "1 -0.966099 -1.051609 -0.610044  ... -0.119608          0.324074   \n",
       "2 -0.546767 -0.554180 -0.252872  ... -0.295790         -0.240741   \n",
       "3  0.052825 -0.086460  0.266739  ...  0.215904          0.388889   \n",
       "4 -0.639891 -0.886307 -0.337658  ...  0.110415          0.546296   \n",
       "\n",
       "   SpherocityIndex  avg_asphericity  avg_acylindricity  avg_kappa2    avg_rg  \\\n",
       "0            1.875         0.353374           0.861118   -0.250780  0.720221   \n",
       "1            0.250        -0.157788          -0.660147   -0.002054 -0.320817   \n",
       "2            0.250        -0.179712          -0.092787   -0.193348 -0.227118   \n",
       "3            1.250         0.543144          -0.565715    0.343277  0.470169   \n",
       "4            0.000         0.265463          -0.646745    0.370158  0.067349   \n",
       "\n",
       "   avg_largest_principal_rg  avg_middle_principal_rg  \\\n",
       "0                  0.651343                 0.553767   \n",
       "1                 -0.333824                -0.266986   \n",
       "2                 -0.233747                -0.259417   \n",
       "3                  0.418360                 0.573576   \n",
       "4                  0.061294                 0.174371   \n",
       "\n",
       "   avg_smallest_principal_rg  \n",
       "0                   1.375288  \n",
       "1                  -0.382254  \n",
       "2                   0.017015  \n",
       "3                   0.044264  \n",
       "4                  -0.475805  \n",
       "\n",
       "[5 rows x 217 columns]"
      ],
      "text/html": "<div>\n<style scoped>\n    .dataframe tbody tr th:only-of-type {\n        vertical-align: middle;\n    }\n\n    .dataframe tbody tr th {\n        vertical-align: top;\n    }\n\n    .dataframe thead th {\n        text-align: right;\n    }\n</style>\n<table border=\"1\" class=\"dataframe\">\n  <thead>\n    <tr style=\"text-align: right;\">\n      <th></th>\n      <th>BalabanJ</th>\n      <th>BertzCT</th>\n      <th>Chi0</th>\n      <th>Chi1</th>\n      <th>Chi0n</th>\n      <th>Chi1n</th>\n      <th>Chi2n</th>\n      <th>Chi3n</th>\n      <th>Chi4n</th>\n      <th>Chi0v</th>\n      <th>...</th>\n      <th>PMI3</th>\n      <th>RadiusOfGyration</th>\n      <th>SpherocityIndex</th>\n      <th>avg_asphericity</th>\n      <th>avg_acylindricity</th>\n      <th>avg_kappa2</th>\n      <th>avg_rg</th>\n      <th>avg_largest_principal_rg</th>\n      <th>avg_middle_principal_rg</th>\n      <th>avg_smallest_principal_rg</th>\n    </tr>\n  </thead>\n  <tbody>\n    <tr>\n      <th>0</th>\n      <td>-0.586582</td>\n      <td>0.304295</td>\n      <td>0.928155</td>\n      <td>0.975155</td>\n      <td>1.251972</td>\n      <td>1.071529</td>\n      <td>1.284021</td>\n      <td>1.965963</td>\n      <td>2.521044</td>\n      <td>1.273673</td>\n      <td>...</td>\n      <td>0.618820</td>\n      <td>0.583333</td>\n      <td>1.875</td>\n      <td>0.353374</td>\n      <td>0.861118</td>\n      <td>-0.250780</td>\n      <td>0.720221</td>\n      <td>0.651343</td>\n      <td>0.553767</td>\n      <td>1.375288</td>\n    </tr>\n    <tr>\n      <th>1</th>\n      <td>0.030207</td>\n      <td>-0.870827</td>\n      <td>-0.593390</td>\n      <td>-0.691032</td>\n      <td>-0.599649</td>\n      <td>-0.540323</td>\n      <td>-0.632311</td>\n      <td>-0.966099</td>\n      <td>-1.051609</td>\n      <td>-0.610044</td>\n      <td>...</td>\n      <td>-0.119608</td>\n      <td>0.324074</td>\n      <td>0.250</td>\n      <td>-0.157788</td>\n      <td>-0.660147</td>\n      <td>-0.002054</td>\n      <td>-0.320817</td>\n      <td>-0.333824</td>\n      <td>-0.266986</td>\n      <td>-0.382254</td>\n    </tr>\n    <tr>\n      <th>2</th>\n      <td>0.416579</td>\n      <td>-0.659341</td>\n      <td>-0.426640</td>\n      <td>-0.584142</td>\n      <td>-0.407458</td>\n      <td>-0.422069</td>\n      <td>-0.593122</td>\n      <td>-0.546767</td>\n      <td>-0.554180</td>\n      <td>-0.252872</td>\n      <td>...</td>\n      <td>-0.295790</td>\n      <td>-0.240741</td>\n      <td>0.250</td>\n      <td>-0.179712</td>\n      <td>-0.092787</td>\n      <td>-0.193348</td>\n      <td>-0.227118</td>\n      <td>-0.233747</td>\n      <td>-0.259417</td>\n      <td>0.017015</td>\n    </tr>\n    <tr>\n      <th>3</th>\n      <td>-0.552863</td>\n      <td>-0.054174</td>\n      <td>0.126961</td>\n      <td>0.077727</td>\n      <td>0.262195</td>\n      <td>0.123081</td>\n      <td>-0.009209</td>\n      <td>0.052825</td>\n      <td>-0.086460</td>\n      <td>0.266739</td>\n      <td>...</td>\n      <td>0.215904</td>\n      <td>0.388889</td>\n      <td>1.250</td>\n      <td>0.543144</td>\n      <td>-0.565715</td>\n      <td>0.343277</td>\n      <td>0.470169</td>\n      <td>0.418360</td>\n      <td>0.573576</td>\n      <td>0.044264</td>\n    </tr>\n    <tr>\n      <th>4</th>\n      <td>0.000702</td>\n      <td>-0.663757</td>\n      <td>-0.337659</td>\n      <td>-0.432443</td>\n      <td>-0.331905</td>\n      <td>-0.301401</td>\n      <td>-0.431665</td>\n      <td>-0.639891</td>\n      <td>-0.886307</td>\n      <td>-0.337658</td>\n      <td>...</td>\n      <td>0.110415</td>\n      <td>0.546296</td>\n      <td>0.000</td>\n      <td>0.265463</td>\n      <td>-0.646745</td>\n      <td>0.370158</td>\n      <td>0.067349</td>\n      <td>0.061294</td>\n      <td>0.174371</td>\n      <td>-0.475805</td>\n    </tr>\n  </tbody>\n</table>\n<p>5 rows × 217 columns</p>\n</div>"
     },
     "metadata": {},
     "execution_count": 73
    }
   ],
   "source": [
    "# scale data using robust scaler\n",
    "from sklearn.preprocessing import RobustScaler, StandardScaler\n",
    "\n",
    "#scaler = StandardScaler()\n",
    "scaler = RobustScaler()\n",
    "X_scaled = pd.DataFrame(scaler.fit_transform(X_raw), columns=X_raw.columns)\n",
    "\n",
    "X_scaled.head()"
   ]
  },
  {
   "cell_type": "code",
   "execution_count": 74,
   "metadata": {},
   "outputs": [],
   "source": [
    "#descriptors = ['FpDensityMorgan2', 'LabuteASA', 'MaxAbsEStateIndex', 'TPSA', 'EState_VSA7', 'Asphericity', 'Chi3v', 'MaxPartialCharge', 'PMI2', 'MaxAbsPartialCharge', 'NPR1', 'EState_VSA4', 'MinPartialCharge', 'Kappa3', 'MolLogP', 'NumHAcceptors', 'EState_VSA1', 'FractionCSP3', 'EState_VSA11', 'EState_VSA5', 'NumAliphaticCarbocycles', 'EState_VSA2', 'EState_VSA6', 'NumAromaticHeterocycles', 'EState_VSA9', 'BalabanJ', 'HallKierAlpha', 'EState_VSA3', 'MinAbsEStateIndex', 'EState_VSA8', 'InertialShapeFactor', 'NumAromaticCarbocycles', 'NumAliphaticHeterocycles'] # Valentin\n",
    "#descriptors = ['NumAliphaticCarbocycles', 'Chi0n', 'NumHDonors', 'FpDensityMorgan2', 'MaxAbsEStateIndex', 'MaxPartialCharge', 'EState_VSA11', 'NPR1', 'EState_VSA2', 'PMI3', 'PMI1', 'EState_VSA8', 'MinEStateIndex', 'NPR2', 'NumHeteroatoms', 'EState_VSA1', 'Kappa3', 'EState_VSA3', 'MolLogP'] # 2D Rdkit\n",
    "descriptors = ['LabuteASA', 'NPR2', 'BalabanJ', 'MaxAbsEStateIndex', 'PMI3', 'MaxPartialCharge', 'MinEStateIndex', 'EState_VSA11', 'FractionCSP3', 'EState_VSA1', 'FpDensityMorgan2', 'avg_largest_principal_rg', 'avg_acylindricity', 'NPR1', 'NumAromaticHeterocycles', 'MinAbsEStateIndex', 'Kappa2', 'NumAliphaticHeterocycles', 'Chi3n', 'NumHAcceptors', 'EState_VSA3', 'NumHeteroatoms', 'NumHDonors', 'HallKierAlpha', 'NumAromaticCarbocycles', 'EState_VSA5', 'NumRotatableBonds', 'PMI1', 'EState_VSA7', 'EState_VSA2', 'EState_VSA9'] # 2D Rdkit + MD\n",
    "X_given = X_scaled[descriptors]"
   ]
  },
  {
   "cell_type": "code",
   "execution_count": 75,
   "metadata": {},
   "outputs": [],
   "source": [
    "from sklearn.model_selection import train_test_split\n",
    "from sklearn.discriminant_analysis import LinearDiscriminantAnalysis as LDA\n",
    "\n",
    "def data_split(X, Y, test_size, random_state=0):\n",
    "    if not (type(X) is np.ndarray):\n",
    "        X = X.to_numpy()\n",
    "    if not (type(Y) is np.ndarray):\n",
    "        Y = Y.to_numpy()\n",
    "    X_train, X_test, Y_train, Y_test = train_test_split(X,Y,test_size = test_size, random_state=random_state)\n",
    "\n",
    "    return X_train, X_test, Y_train, Y_test\n",
    "\n",
    "#X_train, X_test, Y_train, Y_test = data_split(X_cor, Yb, 0.2)\n",
    "X_train, X_test, Y_train, Y_test = data_split(X_given, Yb, 0.2)\n",
    "# print(X_train)\n",
    "# print(X_test)\n",
    "# lda = LDA().fit(X_train, Y_train)\n",
    "# X_trainl = lda.transform(X_train)\n",
    "# X_testl = lda.transform(X_test)"
   ]
  },
  {
   "cell_type": "code",
   "execution_count": 76,
   "metadata": {},
   "outputs": [],
   "source": [
    "from sklearn.ensemble import RandomForestClassifier\n",
    "RF_param_grid = {\"n_estimators\" : [160, 320, 640, 1280],\n",
    "                 \"max_depth\" : [None, 5, 10, 20, 40, 160, 320],\n",
    "                 \"min_samples_leaf\" : [1, 2, 4, 8, 16, 32, 64],\n",
    "                 \"max_features\":['auto', 5,10,20,30]\n",
    "                }\n",
    "RF = RandomForestClassifier(random_state=0,n_jobs=-1)"
   ]
  },
  {
   "cell_type": "code",
   "execution_count": 77,
   "metadata": {},
   "outputs": [
    {
     "output_type": "stream",
     "name": "stdout",
     "text": [
      "# Tuning RandomForest\n",
      "RF_tuned_params = {'max_depth': None, 'max_features': 10, 'min_samples_leaf': 2, 'n_estimators': 640}\n",
      "#Best score: 0.6384615384615385\n"
     ]
    }
   ],
   "source": [
    "from sklearn.metrics import (recall_score,accuracy_score,confusion_matrix, f1_score, precision_score, \n",
    "                             auc,roc_auc_score,roc_curve, precision_recall_curve,classification_report)\n",
    "from sklearn.model_selection import GridSearchCV,train_test_split\n",
    "\n",
    "#features/target splitting\n",
    "#X_train, X_test, y_train, y_test = train_test_split(X,y,test_size = 0.20, random_state = 0)\n",
    "\n",
    "model_list = [\"RandomForest\"]#\"GradientBoosting\", \"LogisticRegression\", \"RandomForest\", \"SupportVectorMachine\"\n",
    "models = [RF]#GBDT, LR, RF, SVM\n",
    "grids = [RF_param_grid]#GBDT_param_grid, LR_param_grid, RF_param_grid, SVM_param_grid\n",
    "\n",
    "#to test other metrics, uncomment below or add your own metrics\n",
    "\n",
    "for name, model, grid in zip(model_list, models, grids):\n",
    "    print(f\"# Tuning {name}\")\n",
    "    gs = GridSearchCV(model, param_grid = grid, cv = 5, scoring='accuracy', n_jobs=-1)\n",
    "    gs.fit(X_train, Y_train)\n",
    "\n",
    "    print(\"RF_tuned_params =\", gs.best_params_)\n",
    "    print(\"#Best score:\", gs.best_score_)"
   ]
  },
  {
   "cell_type": "code",
   "execution_count": 78,
   "metadata": {},
   "outputs": [],
   "source": [
    "#A2_80 +MD\n",
    "RF_tuned_params = {'max_depth': None, 'max_features': 20, 'min_samples_leaf': 1, 'n_estimators': 1280}\n",
    "#Best score: 0.6705128205128206\n",
    "#A2_40 +MD\n",
    "RF_tuned_params = {'max_depth': None, 'max_features': 'auto', 'min_samples_leaf': 1, 'n_estimators': 320}\n",
    "#Best score: 0.7935897435897437\n",
    "#A2_20 +MD\n",
    "RF_tuned_params = {'max_depth': None, 'max_features': 10, 'min_samples_leaf': 1, 'n_estimators': 640}\n",
    "#Best score: 0.6756410256410257\n",
    "#A2_10 +MD\n",
    "RF_tuned_params = {'max_depth': 5, 'max_features': 'auto', 'min_samples_leaf': 1, 'n_estimators': 160}\n",
    "#Best score: 0.6884615384615385\n",
    "#A2_pore/wt\n",
    "RF_tuned_params = {'max_depth': None, 'max_features': 10, 'min_samples_leaf': 4, 'n_estimators': 160}\n",
    "#Best score: 0.6576923076923078\n",
    "#A2_pd3/wt\n",
    "RF_tuned_params = {'max_depth': 5, 'max_features': 30, 'min_samples_leaf': 1, 'n_estimators': 160}\n",
    "#Best score: 0.6269230769230769\n",
    "#A2_pd3-pore/wt\n",
    "RF_tuned_params = {'max_depth': None, 'max_features': 10, 'min_samples_leaf': 2, 'n_estimators': 640}\n",
    "#Best score: 0.6384615384615385"
   ]
  },
  {
   "cell_type": "code",
   "execution_count": null,
   "metadata": {},
   "outputs": [],
   "source": [
    "feature_importances_"
   ]
  }
 ]
}