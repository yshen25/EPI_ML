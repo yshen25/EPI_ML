{
 "metadata": {
  "language_info": {
   "codemirror_mode": {
    "name": "ipython",
    "version": 3
   },
   "file_extension": ".py",
   "mimetype": "text/x-python",
   "name": "python",
   "nbconvert_exporter": "python",
   "pygments_lexer": "ipython3",
   "version": "3.8.8-final"
  },
  "orig_nbformat": 2,
  "kernelspec": {
   "name": "python3",
   "display_name": "Python 3.8.8 64-bit (conda)",
   "metadata": {
    "interpreter": {
     "hash": "a8f61be024eba58adef938c9aa1e29e02cb3dece83a5348b1a2dafd16a070453"
    }
   }
  }
 },
 "nbformat": 4,
 "nbformat_minor": 2,
 "cells": [
  {
   "cell_type": "code",
   "execution_count": 1,
   "metadata": {},
   "outputs": [
    {
     "output_type": "stream",
     "name": "stdout",
     "text": [
      "missing values!\n"
     ]
    },
    {
     "output_type": "execute_result",
     "data": {
      "text/plain": [
       "     MolID  wt_A2_slope  pore_A2_slope  pd3_A2_slope  pd3pore_A2_slope  \\\n",
       "0  1500272        0.874          1.201         1.003             1.589   \n",
       "1  1501007        1.224          2.024         2.130             2.240   \n",
       "2  1501150        2.652          3.351         2.902             3.416   \n",
       "3  1503100       10.150         10.846         8.314             9.200   \n",
       "4  1503243        7.582         10.841        10.928            13.618   \n",
       "\n",
       "   A2_pore/wt  A2_pd3/wt  A2_pd3-pore/wt   A2_10   A2_20  ...     PMI3  \\\n",
       "0    1.374142   1.147597        1.818078   13.25   29.46  ...  8960.40   \n",
       "1    1.653595   1.740196        1.830065   14.31   23.01  ...  5322.33   \n",
       "2    1.263575   1.094268        1.288084   40.09   79.97  ...  4454.32   \n",
       "3    1.068571   0.819113        0.906404  124.53  232.97  ...  6975.32   \n",
       "4    1.429834   1.441308        1.796096  106.38  200.59  ...  6455.60   \n",
       "\n",
       "   RadiusOfGyration  SpherocityIndex  avg_asphericity  avg_acylindricity  \\\n",
       "0              4.71             0.26         0.377154           0.212826   \n",
       "1              4.43             0.13         0.310194           0.123611   \n",
       "2              3.82             0.13         0.307322           0.156884   \n",
       "3              4.50             0.21         0.402013           0.129149   \n",
       "4              4.67             0.11         0.365638           0.124397   \n",
       "\n",
       "   avg_kappa2    avg_rg  avg_largest_principal_rg  avg_middle_principal_rg  \\\n",
       "0    0.287922  0.526401                  0.505270                 0.457168   \n",
       "1    0.349557  0.411174                  0.391925                 0.369452   \n",
       "2    0.302154  0.421545                  0.403439                 0.370261   \n",
       "3    0.435131  0.498724                  0.478465                 0.459285   \n",
       "4    0.441792  0.454138                  0.437384                 0.416621   \n",
       "\n",
       "   avg_smallest_principal_rg  \n",
       "0                   0.299362  \n",
       "1                   0.216417  \n",
       "2                   0.235260  \n",
       "3                   0.236546  \n",
       "4                   0.212002  \n",
       "\n",
       "[5 rows x 229 columns]"
      ],
      "text/html": "<div>\n<style scoped>\n    .dataframe tbody tr th:only-of-type {\n        vertical-align: middle;\n    }\n\n    .dataframe tbody tr th {\n        vertical-align: top;\n    }\n\n    .dataframe thead th {\n        text-align: right;\n    }\n</style>\n<table border=\"1\" class=\"dataframe\">\n  <thead>\n    <tr style=\"text-align: right;\">\n      <th></th>\n      <th>MolID</th>\n      <th>wt_A2_slope</th>\n      <th>pore_A2_slope</th>\n      <th>pd3_A2_slope</th>\n      <th>pd3pore_A2_slope</th>\n      <th>A2_pore/wt</th>\n      <th>A2_pd3/wt</th>\n      <th>A2_pd3-pore/wt</th>\n      <th>A2_10</th>\n      <th>A2_20</th>\n      <th>...</th>\n      <th>PMI3</th>\n      <th>RadiusOfGyration</th>\n      <th>SpherocityIndex</th>\n      <th>avg_asphericity</th>\n      <th>avg_acylindricity</th>\n      <th>avg_kappa2</th>\n      <th>avg_rg</th>\n      <th>avg_largest_principal_rg</th>\n      <th>avg_middle_principal_rg</th>\n      <th>avg_smallest_principal_rg</th>\n    </tr>\n  </thead>\n  <tbody>\n    <tr>\n      <th>0</th>\n      <td>1500272</td>\n      <td>0.874</td>\n      <td>1.201</td>\n      <td>1.003</td>\n      <td>1.589</td>\n      <td>1.374142</td>\n      <td>1.147597</td>\n      <td>1.818078</td>\n      <td>13.25</td>\n      <td>29.46</td>\n      <td>...</td>\n      <td>8960.40</td>\n      <td>4.71</td>\n      <td>0.26</td>\n      <td>0.377154</td>\n      <td>0.212826</td>\n      <td>0.287922</td>\n      <td>0.526401</td>\n      <td>0.505270</td>\n      <td>0.457168</td>\n      <td>0.299362</td>\n    </tr>\n    <tr>\n      <th>1</th>\n      <td>1501007</td>\n      <td>1.224</td>\n      <td>2.024</td>\n      <td>2.130</td>\n      <td>2.240</td>\n      <td>1.653595</td>\n      <td>1.740196</td>\n      <td>1.830065</td>\n      <td>14.31</td>\n      <td>23.01</td>\n      <td>...</td>\n      <td>5322.33</td>\n      <td>4.43</td>\n      <td>0.13</td>\n      <td>0.310194</td>\n      <td>0.123611</td>\n      <td>0.349557</td>\n      <td>0.411174</td>\n      <td>0.391925</td>\n      <td>0.369452</td>\n      <td>0.216417</td>\n    </tr>\n    <tr>\n      <th>2</th>\n      <td>1501150</td>\n      <td>2.652</td>\n      <td>3.351</td>\n      <td>2.902</td>\n      <td>3.416</td>\n      <td>1.263575</td>\n      <td>1.094268</td>\n      <td>1.288084</td>\n      <td>40.09</td>\n      <td>79.97</td>\n      <td>...</td>\n      <td>4454.32</td>\n      <td>3.82</td>\n      <td>0.13</td>\n      <td>0.307322</td>\n      <td>0.156884</td>\n      <td>0.302154</td>\n      <td>0.421545</td>\n      <td>0.403439</td>\n      <td>0.370261</td>\n      <td>0.235260</td>\n    </tr>\n    <tr>\n      <th>3</th>\n      <td>1503100</td>\n      <td>10.150</td>\n      <td>10.846</td>\n      <td>8.314</td>\n      <td>9.200</td>\n      <td>1.068571</td>\n      <td>0.819113</td>\n      <td>0.906404</td>\n      <td>124.53</td>\n      <td>232.97</td>\n      <td>...</td>\n      <td>6975.32</td>\n      <td>4.50</td>\n      <td>0.21</td>\n      <td>0.402013</td>\n      <td>0.129149</td>\n      <td>0.435131</td>\n      <td>0.498724</td>\n      <td>0.478465</td>\n      <td>0.459285</td>\n      <td>0.236546</td>\n    </tr>\n    <tr>\n      <th>4</th>\n      <td>1503243</td>\n      <td>7.582</td>\n      <td>10.841</td>\n      <td>10.928</td>\n      <td>13.618</td>\n      <td>1.429834</td>\n      <td>1.441308</td>\n      <td>1.796096</td>\n      <td>106.38</td>\n      <td>200.59</td>\n      <td>...</td>\n      <td>6455.60</td>\n      <td>4.67</td>\n      <td>0.11</td>\n      <td>0.365638</td>\n      <td>0.124397</td>\n      <td>0.441792</td>\n      <td>0.454138</td>\n      <td>0.437384</td>\n      <td>0.416621</td>\n      <td>0.212002</td>\n    </tr>\n  </tbody>\n</table>\n<p>5 rows × 229 columns</p>\n</div>"
     },
     "metadata": {},
     "execution_count": 1
    }
   ],
   "source": [
    "#load pandas and numpy modules\n",
    "import os \n",
    "import pandas as pd\n",
    "import numpy as np\n",
    "import matplotlib.pyplot as plt\n",
    " \n",
    "#read raw data\n",
    "df = pd.read_csv('Book1.csv')\n",
    "\n",
    "if df.isnull().values.any():\n",
    "    print ('missing values!')\n",
    "    #raise ValueError\n",
    "else:\n",
    "    print('pass')\n",
    "\n",
    "removed_mol = [\"ASD007\", \"ASD012\", \"ASD019\", \"ASD021\", \"D372-0163\"]\n",
    "df = df[~df['MolID'].isin(removed_mol)]\n",
    "\n",
    "df.head()"
   ]
  },
  {
   "cell_type": "code",
   "execution_count": 2,
   "metadata": {},
   "outputs": [],
   "source": [
    "from imblearn.over_sampling import RandomOverSampler, SMOTE\n",
    "from sklearn.preprocessing import RobustScaler\n",
    "from sklearn.ensemble import RandomForestClassifier\n",
    "from sklearn.metrics import (recall_score,accuracy_score,confusion_matrix, f1_score, precision_score, \n",
    "                             auc,roc_auc_score,roc_curve, precision_recall_curve,classification_report)\n",
    "from sklearn.model_selection import GridSearchCV,train_test_split\n",
    "\n",
    "RF_param_grid = {\"n_estimators\" : [160, 320, 640, 1280],\n",
    "                 \"max_depth\" : [None, 5, 10, 20, 40, 160, 320],\n",
    "                 \"min_samples_leaf\" : [1, 2, 4, 8, 16, 32, 64],\n",
    "                 \"max_features\":['auto', 5,10,20,30]\n",
    "                }\n",
    "\n",
    "RF = RandomForestClassifier(random_state=0,n_jobs=-1)\n",
    "\n",
    "def data_split(X, Y, test_size, random_state=0):\n",
    "    if not (type(X) is np.ndarray):\n",
    "        X = X.to_numpy()\n",
    "    if not (type(Y) is np.ndarray):\n",
    "        Y = Y.to_numpy()\n",
    "    X_train, X_test, Y_train, Y_test = train_test_split(X,Y,test_size = test_size, random_state=random_state)\n",
    "\n",
    "    return X_train, X_test, Y_train, Y_test"
   ]
  },
  {
   "cell_type": "code",
   "execution_count": 4,
   "metadata": {},
   "outputs": [
    {
     "output_type": "stream",
     "name": "stdout",
     "text": [
      "#---A2_pore/wt---\n",
      "RF_tuned_params = {'max_depth': 5, 'max_features': 30, 'min_samples_leaf': 4, 'n_estimators': 640}\n",
      "#Best score: 0.74\n",
      "#---A2_pd3/wt---\n",
      "RF_tuned_params = {'max_depth': None, 'max_features': 'auto', 'min_samples_leaf': 1, 'n_estimators': 1280}\n",
      "#Best score: 0.8928571428571429\n",
      "#---A2_pd3-pore/wt---\n",
      "RF_tuned_params = {'max_depth': 5, 'max_features': 'auto', 'min_samples_leaf': 2, 'n_estimators': 160}\n",
      "#Best score: 0.7382352941176471\n"
     ]
    }
   ],
   "source": [
    "descriptors = ['LabuteASA', 'NPR2', 'BalabanJ', 'MaxAbsEStateIndex', 'PMI3', 'MaxPartialCharge', 'MinEStateIndex', 'EState_VSA11', 'FractionCSP3', 'EState_VSA1', 'FpDensityMorgan2', 'avg_largest_principal_rg', 'avg_acylindricity', 'NPR1', 'NumAromaticHeterocycles', 'MinAbsEStateIndex', 'Kappa2', 'NumAliphaticHeterocycles', 'Chi3n', 'NumHAcceptors', 'EState_VSA3', 'NumHeteroatoms', 'NumHDonors', 'HallKierAlpha', 'NumAromaticCarbocycles', 'EState_VSA5', 'NumRotatableBonds', 'PMI1', 'EState_VSA7', 'EState_VSA2', 'EState_VSA9']\n",
    "\n",
    "#Ycolumns = [\"wt_A2_slope\", \"pore_A2_slope\", \"pd3_A2_slope\", \"pd3pore_A2_slope\", \"A2_10\", \"A2_20\", \"A2_40\", \"A2_80\"]\n",
    "Ycolumns = [\"A2_pore/wt\", \"A2_pd3/wt\", \"A2_pd3-pore/wt\"]\n",
    "\n",
    "for column in Ycolumns:\n",
    "    df_no_nan = df.dropna(subset=[column])\n",
    "    Y = df_no_nan[column]\n",
    "    #Y = df_no_nan.iloc[:,7]\n",
    "    #Y = Y.dropna() # drop row if NaN in Y\n",
    "    #b_class = {'Low': 0, 'High': 1}\n",
    "    #Yb = Y.map(b_class)\n",
    "    Yb = (Y > 1.2).astype(int) # threshold slope ratios\n",
    "    #Yb = (Y > np.median(Y)).astype(int) # binary classification split by median\n",
    "    #Yb = (Y > np.quantile(Y, 0.75)).astype(int)\n",
    "    X_raw = df_no_nan.iloc[:,12:]\n",
    "    #Yb.sum()\n",
    "    scaler = RobustScaler()\n",
    "    X_scaled = pd.DataFrame(scaler.fit_transform(X_raw), columns=X_raw.columns)\n",
    "    \n",
    "    X_given = X_scaled[descriptors]\n",
    "\n",
    "    ### Train-Test split ###\n",
    "    X_train, X_test, Y_train, Y_test = data_split(X_given, Yb, 0.2)\n",
    "    X_resampled, Y_resampled = SMOTE().fit_resample(X_train, Y_train) # resampling of train set\n",
    "\n",
    "    gs = GridSearchCV(RF, param_grid = RF_param_grid, cv = 5, scoring='accuracy', n_jobs=-1)\n",
    "    gs.fit(X_resampled, Y_resampled)\n",
    "    print(f\"#---{column}---\")\n",
    "    print(\"RF_tuned_params =\", gs.best_params_)\n",
    "    print(\"#Best score:\", gs.best_score_)"
   ]
  },
  {
   "cell_type": "code",
   "execution_count": 19,
   "metadata": {},
   "outputs": [],
   "source": [
    "#descriptors = ['FpDensityMorgan2', 'LabuteASA', 'MaxAbsEStateIndex', 'TPSA', 'EState_VSA7', 'Asphericity', 'Chi3v', 'MaxPartialCharge', 'PMI2', 'MaxAbsPartialCharge', 'NPR1', 'EState_VSA4', 'MinPartialCharge', 'Kappa3', 'MolLogP', 'NumHAcceptors', 'EState_VSA1', 'FractionCSP3', 'EState_VSA11', 'EState_VSA5', 'NumAliphaticCarbocycles', 'EState_VSA2', 'EState_VSA6', 'NumAromaticHeterocycles', 'EState_VSA9', 'BalabanJ', 'HallKierAlpha', 'EState_VSA3', 'MinAbsEStateIndex', 'EState_VSA8', 'InertialShapeFactor', 'NumAromaticCarbocycles', 'NumAliphaticHeterocycles'] # Valentin\n",
    "#descriptors = ['NumAliphaticCarbocycles', 'Chi0n', 'NumHDonors', 'FpDensityMorgan2', 'MaxAbsEStateIndex', 'MaxPartialCharge', 'EState_VSA11', 'NPR1', 'EState_VSA2', 'PMI3', 'PMI1', 'EState_VSA8', 'MinEStateIndex', 'NPR2', 'NumHeteroatoms', 'EState_VSA1', 'Kappa3', 'EState_VSA3', 'MolLogP'] # 2D Rdkit\n",
    "# descriptors = ['LabuteASA', 'NPR2', 'BalabanJ', 'MaxAbsEStateIndex', 'PMI3', 'MaxPartialCharge', 'MinEStateIndex', 'EState_VSA11', 'FractionCSP3', 'EState_VSA1', 'FpDensityMorgan2', 'avg_largest_principal_rg', 'avg_acylindricity', 'NPR1', 'NumAromaticHeterocycles', 'MinAbsEStateIndex', 'Kappa2', 'NumAliphaticHeterocycles', 'Chi3n', 'NumHAcceptors', 'EState_VSA3', 'NumHeteroatoms', 'NumHDonors', 'HallKierAlpha', 'NumAromaticCarbocycles', 'EState_VSA5', 'NumRotatableBonds', 'PMI1', 'EState_VSA7', 'EState_VSA2', 'EState_VSA9'] # 2D Rdkit + MD\n",
    "# X_given = X_scaled[descriptors]"
   ]
  },
  {
   "cell_type": "code",
   "execution_count": 22,
   "metadata": {},
   "outputs": [],
   "source": [
    "# ------ slopes, threshold = 3rd quatile ------\n",
    "#---wt_A2_slope---\n",
    "RF_tuned_params = {'max_depth': None, 'max_features': 'auto', 'min_samples_leaf': 1, 'n_estimators': 640}\n",
    "#Best score: 0.8552631578947368\n",
    "#---pore_A2_slope---\n",
    "RF_tuned_params = {'max_depth': 5, 'max_features': 10, 'min_samples_leaf': 2, 'n_estimators': 160}\n",
    "#Best score: 0.8868421052631579\n",
    "#---pd3_A2_slope---\n",
    "RF_tuned_params = {'max_depth': 5, 'max_features': 'auto', 'min_samples_leaf': 1, 'n_estimators': 160}\n",
    "#Best score: 0.8531578947368421\n",
    "#---pd3pore_A2_slope---\n",
    "RF_tuned_params = {'max_depth': None, 'max_features': 'auto', 'min_samples_leaf': 1, 'n_estimators': 160}\n",
    "#Best score: 0.8421052631578947\n",
    "\n",
    "# ------- ratios, threshold = 1.2 -------\n",
    "#---A2_pore/wt---\n",
    "RF_tuned_params = {'max_depth': 5, 'max_features': 30, 'min_samples_leaf': 4, 'n_estimators': 640}\n",
    "#Best score: 0.74\n",
    "#---A2_pd3/wt---\n",
    "RF_tuned_params = {'max_depth': None, 'max_features': 'auto', 'min_samples_leaf': 1, 'n_estimators': 1280}\n",
    "#Best score: 0.8928571428571429\n",
    "#---A2_pd3-pore/wt---\n",
    "RF_tuned_params = {'max_depth': 5, 'max_features': 'auto', 'min_samples_leaf': 2, 'n_estimators': 160}\n",
    "#Best score: 0.7382352941176471\n",
    "\n",
    "# ------ amplitudes, threshold = 3rd quatile ------\n",
    "#---A2_10---\n",
    "RF_tuned_params = {'max_depth': None, 'max_features': 10, 'min_samples_leaf': 1, 'n_estimators': 160}\n",
    "#Best score: 0.8236842105263158\n",
    "#---A2_20---\n",
    "RF_tuned_params = {'max_depth': None, 'max_features': 'auto', 'min_samples_leaf': 1, 'n_estimators': 640}\n",
    "#Best score: 0.8347368421052632\n",
    "#---A2_40---\n",
    "RF_tuned_params = {'max_depth': None, 'max_features': 20, 'min_samples_leaf': 1, 'n_estimators': 320}\n",
    "#Best score: 0.8031578947368422\n",
    "#---A2_80---\n",
    "RF_tuned_params = {'max_depth': None, 'max_features': 10, 'min_samples_leaf': 2, 'n_estimators': 320}\n",
    "#Best score: 0.8136842105263158"
   ]
  }
 ]
}