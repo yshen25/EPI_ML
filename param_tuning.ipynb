{
 "metadata": {
  "language_info": {
   "codemirror_mode": {
    "name": "ipython",
    "version": 3
   },
   "file_extension": ".py",
   "mimetype": "text/x-python",
   "name": "python",
   "nbconvert_exporter": "python",
   "pygments_lexer": "ipython3",
   "version": "3.8.8"
  },
  "orig_nbformat": 2,
  "kernelspec": {
   "name": "python388jvsc74a57bd0a8f61be024eba58adef938c9aa1e29e02cb3dece83a5348b1a2dafd16a070453",
   "display_name": "Python 3.8.8 64-bit ('base': conda)"
  }
 },
 "nbformat": 4,
 "nbformat_minor": 2,
 "cells": [
  {
   "cell_type": "code",
   "execution_count": 1,
   "metadata": {},
   "outputs": [
    {
     "output_type": "stream",
     "name": "stdout",
     "text": [
      "pass\n"
     ]
    },
    {
     "output_type": "execute_result",
     "data": {
      "text/plain": [
       "     MolID      wt_A1  pore/wt_A1  D3/wt_A1  D3-pore/wt_A1  target_permeator  \\\n",
       "0  1500272   0.875560    1.000000  1.834508       1.372092                 0   \n",
       "1  1501007   1.152989    1.061628  1.943367       1.755086                 0   \n",
       "2  1501150   2.930928    1.000000  1.297877       1.143172                 1   \n",
       "3  1503100  10.334869    1.000000  1.193855       1.049448                 1   \n",
       "4  1503243   8.064048    1.000000  1.522722       1.344302                 0   \n",
       "\n",
       "   BalabanJ   BertzCT    Chi0    Chi1  ...     PMI3  RadiusOfGyration  \\\n",
       "0     1.429  1053.463  24.526  17.092  ...  8960.40              4.71   \n",
       "1     1.868   592.306  16.113  10.436  ...  5322.33              4.43   \n",
       "2     2.143   675.300  17.035  10.863  ...  4454.32              3.82   \n",
       "3     1.453   912.788  20.096  13.507  ...  6975.32              4.50   \n",
       "4     1.847   673.567  17.527  11.469  ...  6455.60              4.67   \n",
       "\n",
       "   SpherocityIndex  avg_asphericity  avg_acylindricity  avg_kappa2    avg_rg  \\\n",
       "0             0.26         0.377154           0.212826    0.287922  0.526401   \n",
       "1             0.13         0.310194           0.123611    0.349557  0.411174   \n",
       "2             0.13         0.307322           0.156884    0.302154  0.421545   \n",
       "3             0.21         0.402013           0.129149    0.435131  0.498724   \n",
       "4             0.11         0.365638           0.124397    0.441792  0.454138   \n",
       "\n",
       "   avg_largest_principal_rg  avg_middle_principal_rg  \\\n",
       "0                  0.505270                 0.457168   \n",
       "1                  0.391925                 0.369452   \n",
       "2                  0.403439                 0.370261   \n",
       "3                  0.478465                 0.459285   \n",
       "4                  0.437384                 0.416621   \n",
       "\n",
       "   avg_smallest_principal_rg  \n",
       "0                   0.299362  \n",
       "1                   0.216417  \n",
       "2                   0.235260  \n",
       "3                   0.236546  \n",
       "4                   0.212002  \n",
       "\n",
       "[5 rows x 223 columns]"
      ],
      "text/html": "<div>\n<style scoped>\n    .dataframe tbody tr th:only-of-type {\n        vertical-align: middle;\n    }\n\n    .dataframe tbody tr th {\n        vertical-align: top;\n    }\n\n    .dataframe thead th {\n        text-align: right;\n    }\n</style>\n<table border=\"1\" class=\"dataframe\">\n  <thead>\n    <tr style=\"text-align: right;\">\n      <th></th>\n      <th>MolID</th>\n      <th>wt_A1</th>\n      <th>pore/wt_A1</th>\n      <th>D3/wt_A1</th>\n      <th>D3-pore/wt_A1</th>\n      <th>target_permeator</th>\n      <th>BalabanJ</th>\n      <th>BertzCT</th>\n      <th>Chi0</th>\n      <th>Chi1</th>\n      <th>...</th>\n      <th>PMI3</th>\n      <th>RadiusOfGyration</th>\n      <th>SpherocityIndex</th>\n      <th>avg_asphericity</th>\n      <th>avg_acylindricity</th>\n      <th>avg_kappa2</th>\n      <th>avg_rg</th>\n      <th>avg_largest_principal_rg</th>\n      <th>avg_middle_principal_rg</th>\n      <th>avg_smallest_principal_rg</th>\n    </tr>\n  </thead>\n  <tbody>\n    <tr>\n      <th>0</th>\n      <td>1500272</td>\n      <td>0.875560</td>\n      <td>1.000000</td>\n      <td>1.834508</td>\n      <td>1.372092</td>\n      <td>0</td>\n      <td>1.429</td>\n      <td>1053.463</td>\n      <td>24.526</td>\n      <td>17.092</td>\n      <td>...</td>\n      <td>8960.40</td>\n      <td>4.71</td>\n      <td>0.26</td>\n      <td>0.377154</td>\n      <td>0.212826</td>\n      <td>0.287922</td>\n      <td>0.526401</td>\n      <td>0.505270</td>\n      <td>0.457168</td>\n      <td>0.299362</td>\n    </tr>\n    <tr>\n      <th>1</th>\n      <td>1501007</td>\n      <td>1.152989</td>\n      <td>1.061628</td>\n      <td>1.943367</td>\n      <td>1.755086</td>\n      <td>0</td>\n      <td>1.868</td>\n      <td>592.306</td>\n      <td>16.113</td>\n      <td>10.436</td>\n      <td>...</td>\n      <td>5322.33</td>\n      <td>4.43</td>\n      <td>0.13</td>\n      <td>0.310194</td>\n      <td>0.123611</td>\n      <td>0.349557</td>\n      <td>0.411174</td>\n      <td>0.391925</td>\n      <td>0.369452</td>\n      <td>0.216417</td>\n    </tr>\n    <tr>\n      <th>2</th>\n      <td>1501150</td>\n      <td>2.930928</td>\n      <td>1.000000</td>\n      <td>1.297877</td>\n      <td>1.143172</td>\n      <td>1</td>\n      <td>2.143</td>\n      <td>675.300</td>\n      <td>17.035</td>\n      <td>10.863</td>\n      <td>...</td>\n      <td>4454.32</td>\n      <td>3.82</td>\n      <td>0.13</td>\n      <td>0.307322</td>\n      <td>0.156884</td>\n      <td>0.302154</td>\n      <td>0.421545</td>\n      <td>0.403439</td>\n      <td>0.370261</td>\n      <td>0.235260</td>\n    </tr>\n    <tr>\n      <th>3</th>\n      <td>1503100</td>\n      <td>10.334869</td>\n      <td>1.000000</td>\n      <td>1.193855</td>\n      <td>1.049448</td>\n      <td>1</td>\n      <td>1.453</td>\n      <td>912.788</td>\n      <td>20.096</td>\n      <td>13.507</td>\n      <td>...</td>\n      <td>6975.32</td>\n      <td>4.50</td>\n      <td>0.21</td>\n      <td>0.402013</td>\n      <td>0.129149</td>\n      <td>0.435131</td>\n      <td>0.498724</td>\n      <td>0.478465</td>\n      <td>0.459285</td>\n      <td>0.236546</td>\n    </tr>\n    <tr>\n      <th>4</th>\n      <td>1503243</td>\n      <td>8.064048</td>\n      <td>1.000000</td>\n      <td>1.522722</td>\n      <td>1.344302</td>\n      <td>0</td>\n      <td>1.847</td>\n      <td>673.567</td>\n      <td>17.527</td>\n      <td>11.469</td>\n      <td>...</td>\n      <td>6455.60</td>\n      <td>4.67</td>\n      <td>0.11</td>\n      <td>0.365638</td>\n      <td>0.124397</td>\n      <td>0.441792</td>\n      <td>0.454138</td>\n      <td>0.437384</td>\n      <td>0.416621</td>\n      <td>0.212002</td>\n    </tr>\n  </tbody>\n</table>\n<p>5 rows × 223 columns</p>\n</div>"
     },
     "metadata": {},
     "execution_count": 1
    }
   ],
   "source": [
    "#load pandas and numpy modules\n",
    "import os \n",
    "import pandas as pd\n",
    "import numpy as np\n",
    "import matplotlib.pyplot as plt\n",
    " \n",
    "#read raw data\n",
    "df = pd.read_csv('dataset.csv')\n",
    "\n",
    "if df.isnull().values.any():\n",
    "    print ('missing values!')\n",
    "    #raise ValueError\n",
    "else:\n",
    "    print('pass')\n",
    "\n",
    "df.head()"
   ]
  },
  {
   "cell_type": "code",
   "execution_count": 2,
   "metadata": {},
   "outputs": [],
   "source": [
    "from imblearn.over_sampling import RandomOverSampler, SMOTE, BorderlineSMOTE, SVMSMOTE, ADASYN, KMeansSMOTE\n",
    "from sklearn.cluster import KMeans\n",
    "from imblearn.pipeline import Pipeline\n",
    "from imblearn.under_sampling import ClusterCentroids\n",
    "from sklearn.preprocessing import RobustScaler, StandardScaler\n",
    "from sklearn.ensemble import RandomForestClassifier\n",
    "from sklearn.metrics import (recall_score,accuracy_score,confusion_matrix, f1_score, precision_score, auc,roc_auc_score,roc_curve,plot_roc_curve)\n",
    "from sklearn.model_selection import GridSearchCV, StratifiedKFold, RandomizedSearchCV, LeaveOneOut, ParameterGrid, cross_val_predict\n",
    "\n",
    "RF_param_grid = {\"n_estimators\" : [100, 200, 400, 600, 1000],\n",
    "                 \"min_samples_leaf\" : [1,2,4],\n",
    "                 \"max_features\" : [None,'sqrt','log2']}\n",
    "\n",
    "RF = RandomForestClassifier(random_state=0)"
   ]
  },
  {
   "cell_type": "code",
   "execution_count": 36,
   "metadata": {},
   "outputs": [],
   "source": [
    "def grid_search_loocv(X, y, estimator, sampler, param_grid):\n",
    "    from operator import itemgetter\n",
    "\n",
    "    cv = LeaveOneOut()\n",
    "    param_combinations = ParameterGrid(param_grid)\n",
    "    result_list = []\n",
    "    Y_pred = np.array([])\n",
    "    metric_cols=['F1','precision','recall','accuracy','confusion_matrix']\n",
    "    \n",
    "    # evaluate model\n",
    "\n",
    "    for param in param_combinations:\n",
    "        model = Pipeline([('over-sampling', sampler), ('clf', estimator.set_params(**param))])\n",
    "        Y_pred = cross_val_predict(estimator, X, Y, cv=cv, n_jobs=-1)\n",
    "        #print(score)\n",
    "        f1 = round(f1_score(y,Y_pred),3)\n",
    "        prec = round(precision_score(y,Y_pred),3)\n",
    "        recall = round(recall_score(y,Y_pred),3)\n",
    "        acc = round(accuracy_score(y,Y_pred),3)\n",
    "        conf = confusion_matrix(y,Y_pred).tolist()\n",
    "        result_list.append((f1, prec, recall, acc, conf, param))\n",
    "\n",
    "    top_param = max(result_list,key=itemgetter(3)) # rank by accuracy\n",
    "    print(f\"tuned parameteres:{top_param}\\n\") # best parameters combination\n",
    "    print(\"---all combinations with score metrics---\")\n",
    "    print('\\t'.join(metric_cols+list(param.keys()))) # title row\n",
    "    for result in result_list:\n",
    "        print(result)\n",
    "\n",
    "    # re-produce the result with best param\n",
    "    print(\"---leave one out validation with best parameter set---\")\n",
    "    model = Pipeline([('over-sampling', sampler), ('clf', estimator.set_params(**top_param[-1]))])\n",
    "    pred_probs = cross_val_predict(model, X, Yb, cv=cv, n_jobs=-1, method='predict_proba')\n",
    "    Y_pred = pred_probs.argmax(axis=1)\n",
    "    fpr, tpr, _ = roc_curve(Yb,pred_probs[:,1])\n",
    "    plt.plot(fpr, tpr)\n",
    "    plt.axline([0, 0], [1, 1], linewidth=1, color='k', linestyle='--')\n",
    "    f1 = round(f1_score(Yb,Y_pred),3)\n",
    "    prec = round(precision_score(Yb,Y_pred),3)\n",
    "    recall = round(recall_score(Yb,Y_pred),3)\n",
    "    acc = round(accuracy_score(Yb,Y_pred),3)\n",
    "    AUC = round(roc_auc_score(Yb, pred_probs[:,1]),3)\n",
    "    conM = confusion_matrix(Yb,Y_pred).tolist()\n",
    "    metric_cols=['F1','precision','recall','accuracy','AUROC','confusion_matrix']\n",
    "    print(pd.DataFrame([[f1,prec,recall,acc,AUC,conM]], columns = metric_cols))\n",
    "    return"
   ]
  },
  {
   "cell_type": "code",
   "execution_count": 35,
   "metadata": {
    "tags": []
   },
   "outputs": [
    {
     "output_type": "stream",
     "name": "stdout",
     "text": [
      "### target_permeator ###\n",
      "#positive/negative: 20/63\n",
      "tuned parameteres:(0.424, 0.538, 0.35, 0.771, [[57, 6], [13, 7]], {'max_features': None, 'min_samples_leaf': 1, 'n_estimators': 100})\n",
      "\n",
      "---all combinations with score metrics---\n",
      "F1\tprecision\trecall\taccuracy\tconfusion_matrix\tmax_features\tmin_samples_leaf\tn_estimators\n",
      "(0.424, 0.538, 0.35, 0.771, [[57, 6], [13, 7]], {'max_features': None, 'min_samples_leaf': 1, 'n_estimators': 100})\n",
      "(0.375, 0.5, 0.3, 0.759, [[57, 6], [14, 6]], {'max_features': None, 'min_samples_leaf': 1, 'n_estimators': 200})\n",
      "(0.375, 0.5, 0.3, 0.759, [[57, 6], [14, 6]], {'max_features': None, 'min_samples_leaf': 1, 'n_estimators': 400})\n",
      "(0.387, 0.545, 0.3, 0.771, [[58, 5], [14, 6]], {'max_features': None, 'min_samples_leaf': 1, 'n_estimators': 600})\n",
      "(0.387, 0.545, 0.3, 0.771, [[58, 5], [14, 6]], {'max_features': None, 'min_samples_leaf': 1, 'n_estimators': 1000})\n",
      "(0.387, 0.545, 0.3, 0.771, [[58, 5], [14, 6]], {'max_features': None, 'min_samples_leaf': 2, 'n_estimators': 100})\n",
      "(0.345, 0.556, 0.25, 0.771, [[59, 4], [15, 5]], {'max_features': None, 'min_samples_leaf': 2, 'n_estimators': 200})\n",
      "(0.345, 0.556, 0.25, 0.771, [[59, 4], [15, 5]], {'max_features': None, 'min_samples_leaf': 2, 'n_estimators': 400})\n",
      "(0.345, 0.556, 0.25, 0.771, [[59, 4], [15, 5]], {'max_features': None, 'min_samples_leaf': 2, 'n_estimators': 600})\n",
      "(0.345, 0.556, 0.25, 0.771, [[59, 4], [15, 5]], {'max_features': None, 'min_samples_leaf': 2, 'n_estimators': 1000})\n",
      "(0.323, 0.455, 0.25, 0.747, [[57, 6], [15, 5]], {'max_features': None, 'min_samples_leaf': 4, 'n_estimators': 100})\n",
      "(0.267, 0.4, 0.2, 0.735, [[57, 6], [16, 4]], {'max_features': None, 'min_samples_leaf': 4, 'n_estimators': 200})\n",
      "(0.323, 0.455, 0.25, 0.747, [[57, 6], [15, 5]], {'max_features': None, 'min_samples_leaf': 4, 'n_estimators': 400})\n",
      "(0.323, 0.455, 0.25, 0.747, [[57, 6], [15, 5]], {'max_features': None, 'min_samples_leaf': 4, 'n_estimators': 600})\n",
      "(0.323, 0.455, 0.25, 0.747, [[57, 6], [15, 5]], {'max_features': None, 'min_samples_leaf': 4, 'n_estimators': 1000})\n",
      "(0.387, 0.545, 0.3, 0.771, [[58, 5], [14, 6]], {'max_features': 'sqrt', 'min_samples_leaf': 1, 'n_estimators': 100})\n",
      "(0.387, 0.545, 0.3, 0.771, [[58, 5], [14, 6]], {'max_features': 'sqrt', 'min_samples_leaf': 1, 'n_estimators': 200})\n",
      "(0.333, 0.5, 0.25, 0.759, [[58, 5], [15, 5]], {'max_features': 'sqrt', 'min_samples_leaf': 1, 'n_estimators': 400})\n",
      "(0.333, 0.5, 0.25, 0.759, [[58, 5], [15, 5]], {'max_features': 'sqrt', 'min_samples_leaf': 1, 'n_estimators': 600})\n",
      "(0.333, 0.5, 0.25, 0.759, [[58, 5], [15, 5]], {'max_features': 'sqrt', 'min_samples_leaf': 1, 'n_estimators': 1000})\n",
      "(0.333, 0.5, 0.25, 0.759, [[58, 5], [15, 5]], {'max_features': 'sqrt', 'min_samples_leaf': 2, 'n_estimators': 100})\n",
      "(0.333, 0.5, 0.25, 0.759, [[58, 5], [15, 5]], {'max_features': 'sqrt', 'min_samples_leaf': 2, 'n_estimators': 200})\n",
      "(0.333, 0.5, 0.25, 0.759, [[58, 5], [15, 5]], {'max_features': 'sqrt', 'min_samples_leaf': 2, 'n_estimators': 400})\n",
      "(0.333, 0.5, 0.25, 0.759, [[58, 5], [15, 5]], {'max_features': 'sqrt', 'min_samples_leaf': 2, 'n_estimators': 600})\n",
      "(0.333, 0.5, 0.25, 0.759, [[58, 5], [15, 5]], {'max_features': 'sqrt', 'min_samples_leaf': 2, 'n_estimators': 1000})\n",
      "(0.231, 0.5, 0.15, 0.759, [[60, 3], [17, 3]], {'max_features': 'sqrt', 'min_samples_leaf': 4, 'n_estimators': 100})\n",
      "(0.222, 0.429, 0.15, 0.747, [[59, 4], [17, 3]], {'max_features': 'sqrt', 'min_samples_leaf': 4, 'n_estimators': 200})\n",
      "(0.222, 0.429, 0.15, 0.747, [[59, 4], [17, 3]], {'max_features': 'sqrt', 'min_samples_leaf': 4, 'n_estimators': 400})\n",
      "(0.222, 0.429, 0.15, 0.747, [[59, 4], [17, 3]], {'max_features': 'sqrt', 'min_samples_leaf': 4, 'n_estimators': 600})\n",
      "(0.231, 0.5, 0.15, 0.759, [[60, 3], [17, 3]], {'max_features': 'sqrt', 'min_samples_leaf': 4, 'n_estimators': 1000})\n",
      "(0.345, 0.556, 0.25, 0.771, [[59, 4], [15, 5]], {'max_features': 'log2', 'min_samples_leaf': 1, 'n_estimators': 100})\n",
      "(0.345, 0.556, 0.25, 0.771, [[59, 4], [15, 5]], {'max_features': 'log2', 'min_samples_leaf': 1, 'n_estimators': 200})\n",
      "(0.333, 0.5, 0.25, 0.759, [[58, 5], [15, 5]], {'max_features': 'log2', 'min_samples_leaf': 1, 'n_estimators': 400})\n",
      "(0.333, 0.5, 0.25, 0.759, [[58, 5], [15, 5]], {'max_features': 'log2', 'min_samples_leaf': 1, 'n_estimators': 600})\n",
      "(0.333, 0.5, 0.25, 0.759, [[58, 5], [15, 5]], {'max_features': 'log2', 'min_samples_leaf': 1, 'n_estimators': 1000})\n",
      "(0.286, 0.5, 0.2, 0.759, [[59, 4], [16, 4]], {'max_features': 'log2', 'min_samples_leaf': 2, 'n_estimators': 100})\n",
      "(0.286, 0.5, 0.2, 0.759, [[59, 4], [16, 4]], {'max_features': 'log2', 'min_samples_leaf': 2, 'n_estimators': 200})\n",
      "(0.333, 0.5, 0.25, 0.759, [[58, 5], [15, 5]], {'max_features': 'log2', 'min_samples_leaf': 2, 'n_estimators': 400})\n",
      "(0.333, 0.5, 0.25, 0.759, [[58, 5], [15, 5]], {'max_features': 'log2', 'min_samples_leaf': 2, 'n_estimators': 600})\n",
      "(0.333, 0.5, 0.25, 0.759, [[58, 5], [15, 5]], {'max_features': 'log2', 'min_samples_leaf': 2, 'n_estimators': 1000})\n",
      "(0.231, 0.5, 0.15, 0.759, [[60, 3], [17, 3]], {'max_features': 'log2', 'min_samples_leaf': 4, 'n_estimators': 100})\n",
      "(0.231, 0.5, 0.15, 0.759, [[60, 3], [17, 3]], {'max_features': 'log2', 'min_samples_leaf': 4, 'n_estimators': 200})\n",
      "(0.231, 0.5, 0.15, 0.759, [[60, 3], [17, 3]], {'max_features': 'log2', 'min_samples_leaf': 4, 'n_estimators': 400})\n",
      "(0.231, 0.5, 0.15, 0.759, [[60, 3], [17, 3]], {'max_features': 'log2', 'min_samples_leaf': 4, 'n_estimators': 600})\n",
      "(0.231, 0.5, 0.15, 0.759, [[60, 3], [17, 3]], {'max_features': 'log2', 'min_samples_leaf': 4, 'n_estimators': 1000})\n",
      "      F1  precision  recall  accuracy  AUROC    confusion_matrix\n",
      "0  0.258      0.364     0.2     0.723  0.606  [[56, 7], [16, 4]]\n"
     ]
    },
    {
     "output_type": "display_data",
     "data": {
      "text/plain": "<Figure size 432x288 with 1 Axes>",
      "image/svg+xml": "<?xml version=\"1.0\" encoding=\"utf-8\" standalone=\"no\"?>\r\n<!DOCTYPE svg PUBLIC \"-//W3C//DTD SVG 1.1//EN\"\r\n  \"http://www.w3.org/Graphics/SVG/1.1/DTD/svg11.dtd\">\r\n<!-- Created with matplotlib (https://matplotlib.org/) -->\r\n<svg height=\"248.518125pt\" version=\"1.1\" viewBox=\"0 0 372.103125 248.518125\" width=\"372.103125pt\" xmlns=\"http://www.w3.org/2000/svg\" xmlns:xlink=\"http://www.w3.org/1999/xlink\">\r\n <metadata>\r\n  <rdf:RDF xmlns:cc=\"http://creativecommons.org/ns#\" xmlns:dc=\"http://purl.org/dc/elements/1.1/\" xmlns:rdf=\"http://www.w3.org/1999/02/22-rdf-syntax-ns#\">\r\n   <cc:Work>\r\n    <dc:type rdf:resource=\"http://purl.org/dc/dcmitype/StillImage\"/>\r\n    <dc:date>2021-05-27T18:18:22.509812</dc:date>\r\n    <dc:format>image/svg+xml</dc:format>\r\n    <dc:creator>\r\n     <cc:Agent>\r\n      <dc:title>Matplotlib v3.3.4, https://matplotlib.org/</dc:title>\r\n     </cc:Agent>\r\n    </dc:creator>\r\n   </cc:Work>\r\n  </rdf:RDF>\r\n </metadata>\r\n <defs>\r\n  <style type=\"text/css\">*{stroke-linecap:butt;stroke-linejoin:round;}</style>\r\n </defs>\r\n <g id=\"figure_1\">\r\n  <g id=\"patch_1\">\r\n   <path d=\"M 0 248.518125 \r\nL 372.103125 248.518125 \r\nL 372.103125 0 \r\nL 0 0 \r\nz\r\n\" style=\"fill:none;\"/>\r\n  </g>\r\n  <g id=\"axes_1\">\r\n   <g id=\"patch_2\">\r\n    <path d=\"M 30.103125 224.64 \r\nL 364.903125 224.64 \r\nL 364.903125 7.2 \r\nL 30.103125 7.2 \r\nz\r\n\" style=\"fill:#ffffff;\"/>\r\n   </g>\r\n   <g id=\"matplotlib.axis_1\">\r\n    <g id=\"xtick_1\">\r\n     <g id=\"line2d_1\">\r\n      <defs>\r\n       <path d=\"M 0 0 \r\nL 0 3.5 \r\n\" id=\"m7db48b5fc1\" style=\"stroke:#000000;stroke-width:0.8;\"/>\r\n      </defs>\r\n      <g>\r\n       <use style=\"stroke:#000000;stroke-width:0.8;\" x=\"45.321307\" xlink:href=\"#m7db48b5fc1\" y=\"224.64\"/>\r\n      </g>\r\n     </g>\r\n     <g id=\"text_1\">\r\n      <!-- 0.0 -->\r\n      <g transform=\"translate(37.369744 239.238437)scale(0.1 -0.1)\">\r\n       <defs>\r\n        <path d=\"M 31.78125 66.40625 \r\nQ 24.171875 66.40625 20.328125 58.90625 \r\nQ 16.5 51.421875 16.5 36.375 \r\nQ 16.5 21.390625 20.328125 13.890625 \r\nQ 24.171875 6.390625 31.78125 6.390625 \r\nQ 39.453125 6.390625 43.28125 13.890625 \r\nQ 47.125 21.390625 47.125 36.375 \r\nQ 47.125 51.421875 43.28125 58.90625 \r\nQ 39.453125 66.40625 31.78125 66.40625 \r\nz\r\nM 31.78125 74.21875 \r\nQ 44.046875 74.21875 50.515625 64.515625 \r\nQ 56.984375 54.828125 56.984375 36.375 \r\nQ 56.984375 17.96875 50.515625 8.265625 \r\nQ 44.046875 -1.421875 31.78125 -1.421875 \r\nQ 19.53125 -1.421875 13.0625 8.265625 \r\nQ 6.59375 17.96875 6.59375 36.375 \r\nQ 6.59375 54.828125 13.0625 64.515625 \r\nQ 19.53125 74.21875 31.78125 74.21875 \r\nz\r\n\" id=\"DejaVuSans-48\"/>\r\n        <path d=\"M 10.6875 12.40625 \r\nL 21 12.40625 \r\nL 21 0 \r\nL 10.6875 0 \r\nz\r\n\" id=\"DejaVuSans-46\"/>\r\n       </defs>\r\n       <use xlink:href=\"#DejaVuSans-48\"/>\r\n       <use x=\"63.623047\" xlink:href=\"#DejaVuSans-46\"/>\r\n       <use x=\"95.410156\" xlink:href=\"#DejaVuSans-48\"/>\r\n      </g>\r\n     </g>\r\n    </g>\r\n    <g id=\"xtick_2\">\r\n     <g id=\"line2d_2\">\r\n      <g>\r\n       <use style=\"stroke:#000000;stroke-width:0.8;\" x=\"106.194034\" xlink:href=\"#m7db48b5fc1\" y=\"224.64\"/>\r\n      </g>\r\n     </g>\r\n     <g id=\"text_2\">\r\n      <!-- 0.2 -->\r\n      <g transform=\"translate(98.242472 239.238437)scale(0.1 -0.1)\">\r\n       <defs>\r\n        <path d=\"M 19.1875 8.296875 \r\nL 53.609375 8.296875 \r\nL 53.609375 0 \r\nL 7.328125 0 \r\nL 7.328125 8.296875 \r\nQ 12.9375 14.109375 22.625 23.890625 \r\nQ 32.328125 33.6875 34.8125 36.53125 \r\nQ 39.546875 41.84375 41.421875 45.53125 \r\nQ 43.3125 49.21875 43.3125 52.78125 \r\nQ 43.3125 58.59375 39.234375 62.25 \r\nQ 35.15625 65.921875 28.609375 65.921875 \r\nQ 23.96875 65.921875 18.8125 64.3125 \r\nQ 13.671875 62.703125 7.8125 59.421875 \r\nL 7.8125 69.390625 \r\nQ 13.765625 71.78125 18.9375 73 \r\nQ 24.125 74.21875 28.421875 74.21875 \r\nQ 39.75 74.21875 46.484375 68.546875 \r\nQ 53.21875 62.890625 53.21875 53.421875 \r\nQ 53.21875 48.921875 51.53125 44.890625 \r\nQ 49.859375 40.875 45.40625 35.40625 \r\nQ 44.1875 33.984375 37.640625 27.21875 \r\nQ 31.109375 20.453125 19.1875 8.296875 \r\nz\r\n\" id=\"DejaVuSans-50\"/>\r\n       </defs>\r\n       <use xlink:href=\"#DejaVuSans-48\"/>\r\n       <use x=\"63.623047\" xlink:href=\"#DejaVuSans-46\"/>\r\n       <use x=\"95.410156\" xlink:href=\"#DejaVuSans-50\"/>\r\n      </g>\r\n     </g>\r\n    </g>\r\n    <g id=\"xtick_3\">\r\n     <g id=\"line2d_3\">\r\n      <g>\r\n       <use style=\"stroke:#000000;stroke-width:0.8;\" x=\"167.066761\" xlink:href=\"#m7db48b5fc1\" y=\"224.64\"/>\r\n      </g>\r\n     </g>\r\n     <g id=\"text_3\">\r\n      <!-- 0.4 -->\r\n      <g transform=\"translate(159.115199 239.238437)scale(0.1 -0.1)\">\r\n       <defs>\r\n        <path d=\"M 37.796875 64.3125 \r\nL 12.890625 25.390625 \r\nL 37.796875 25.390625 \r\nz\r\nM 35.203125 72.90625 \r\nL 47.609375 72.90625 \r\nL 47.609375 25.390625 \r\nL 58.015625 25.390625 \r\nL 58.015625 17.1875 \r\nL 47.609375 17.1875 \r\nL 47.609375 0 \r\nL 37.796875 0 \r\nL 37.796875 17.1875 \r\nL 4.890625 17.1875 \r\nL 4.890625 26.703125 \r\nz\r\n\" id=\"DejaVuSans-52\"/>\r\n       </defs>\r\n       <use xlink:href=\"#DejaVuSans-48\"/>\r\n       <use x=\"63.623047\" xlink:href=\"#DejaVuSans-46\"/>\r\n       <use x=\"95.410156\" xlink:href=\"#DejaVuSans-52\"/>\r\n      </g>\r\n     </g>\r\n    </g>\r\n    <g id=\"xtick_4\">\r\n     <g id=\"line2d_4\">\r\n      <g>\r\n       <use style=\"stroke:#000000;stroke-width:0.8;\" x=\"227.939489\" xlink:href=\"#m7db48b5fc1\" y=\"224.64\"/>\r\n      </g>\r\n     </g>\r\n     <g id=\"text_4\">\r\n      <!-- 0.6 -->\r\n      <g transform=\"translate(219.987926 239.238437)scale(0.1 -0.1)\">\r\n       <defs>\r\n        <path d=\"M 33.015625 40.375 \r\nQ 26.375 40.375 22.484375 35.828125 \r\nQ 18.609375 31.296875 18.609375 23.390625 \r\nQ 18.609375 15.53125 22.484375 10.953125 \r\nQ 26.375 6.390625 33.015625 6.390625 \r\nQ 39.65625 6.390625 43.53125 10.953125 \r\nQ 47.40625 15.53125 47.40625 23.390625 \r\nQ 47.40625 31.296875 43.53125 35.828125 \r\nQ 39.65625 40.375 33.015625 40.375 \r\nz\r\nM 52.59375 71.296875 \r\nL 52.59375 62.3125 \r\nQ 48.875 64.0625 45.09375 64.984375 \r\nQ 41.3125 65.921875 37.59375 65.921875 \r\nQ 27.828125 65.921875 22.671875 59.328125 \r\nQ 17.53125 52.734375 16.796875 39.40625 \r\nQ 19.671875 43.65625 24.015625 45.921875 \r\nQ 28.375 48.1875 33.59375 48.1875 \r\nQ 44.578125 48.1875 50.953125 41.515625 \r\nQ 57.328125 34.859375 57.328125 23.390625 \r\nQ 57.328125 12.15625 50.6875 5.359375 \r\nQ 44.046875 -1.421875 33.015625 -1.421875 \r\nQ 20.359375 -1.421875 13.671875 8.265625 \r\nQ 6.984375 17.96875 6.984375 36.375 \r\nQ 6.984375 53.65625 15.1875 63.9375 \r\nQ 23.390625 74.21875 37.203125 74.21875 \r\nQ 40.921875 74.21875 44.703125 73.484375 \r\nQ 48.484375 72.75 52.59375 71.296875 \r\nz\r\n\" id=\"DejaVuSans-54\"/>\r\n       </defs>\r\n       <use xlink:href=\"#DejaVuSans-48\"/>\r\n       <use x=\"63.623047\" xlink:href=\"#DejaVuSans-46\"/>\r\n       <use x=\"95.410156\" xlink:href=\"#DejaVuSans-54\"/>\r\n      </g>\r\n     </g>\r\n    </g>\r\n    <g id=\"xtick_5\">\r\n     <g id=\"line2d_5\">\r\n      <g>\r\n       <use style=\"stroke:#000000;stroke-width:0.8;\" x=\"288.812216\" xlink:href=\"#m7db48b5fc1\" y=\"224.64\"/>\r\n      </g>\r\n     </g>\r\n     <g id=\"text_5\">\r\n      <!-- 0.8 -->\r\n      <g transform=\"translate(280.860653 239.238437)scale(0.1 -0.1)\">\r\n       <defs>\r\n        <path d=\"M 31.78125 34.625 \r\nQ 24.75 34.625 20.71875 30.859375 \r\nQ 16.703125 27.09375 16.703125 20.515625 \r\nQ 16.703125 13.921875 20.71875 10.15625 \r\nQ 24.75 6.390625 31.78125 6.390625 \r\nQ 38.8125 6.390625 42.859375 10.171875 \r\nQ 46.921875 13.96875 46.921875 20.515625 \r\nQ 46.921875 27.09375 42.890625 30.859375 \r\nQ 38.875 34.625 31.78125 34.625 \r\nz\r\nM 21.921875 38.8125 \r\nQ 15.578125 40.375 12.03125 44.71875 \r\nQ 8.5 49.078125 8.5 55.328125 \r\nQ 8.5 64.0625 14.71875 69.140625 \r\nQ 20.953125 74.21875 31.78125 74.21875 \r\nQ 42.671875 74.21875 48.875 69.140625 \r\nQ 55.078125 64.0625 55.078125 55.328125 \r\nQ 55.078125 49.078125 51.53125 44.71875 \r\nQ 48 40.375 41.703125 38.8125 \r\nQ 48.828125 37.15625 52.796875 32.3125 \r\nQ 56.78125 27.484375 56.78125 20.515625 \r\nQ 56.78125 9.90625 50.3125 4.234375 \r\nQ 43.84375 -1.421875 31.78125 -1.421875 \r\nQ 19.734375 -1.421875 13.25 4.234375 \r\nQ 6.78125 9.90625 6.78125 20.515625 \r\nQ 6.78125 27.484375 10.78125 32.3125 \r\nQ 14.796875 37.15625 21.921875 38.8125 \r\nz\r\nM 18.3125 54.390625 \r\nQ 18.3125 48.734375 21.84375 45.5625 \r\nQ 25.390625 42.390625 31.78125 42.390625 \r\nQ 38.140625 42.390625 41.71875 45.5625 \r\nQ 45.3125 48.734375 45.3125 54.390625 \r\nQ 45.3125 60.0625 41.71875 63.234375 \r\nQ 38.140625 66.40625 31.78125 66.40625 \r\nQ 25.390625 66.40625 21.84375 63.234375 \r\nQ 18.3125 60.0625 18.3125 54.390625 \r\nz\r\n\" id=\"DejaVuSans-56\"/>\r\n       </defs>\r\n       <use xlink:href=\"#DejaVuSans-48\"/>\r\n       <use x=\"63.623047\" xlink:href=\"#DejaVuSans-46\"/>\r\n       <use x=\"95.410156\" xlink:href=\"#DejaVuSans-56\"/>\r\n      </g>\r\n     </g>\r\n    </g>\r\n    <g id=\"xtick_6\">\r\n     <g id=\"line2d_6\">\r\n      <g>\r\n       <use style=\"stroke:#000000;stroke-width:0.8;\" x=\"349.684943\" xlink:href=\"#m7db48b5fc1\" y=\"224.64\"/>\r\n      </g>\r\n     </g>\r\n     <g id=\"text_6\">\r\n      <!-- 1.0 -->\r\n      <g transform=\"translate(341.733381 239.238437)scale(0.1 -0.1)\">\r\n       <defs>\r\n        <path d=\"M 12.40625 8.296875 \r\nL 28.515625 8.296875 \r\nL 28.515625 63.921875 \r\nL 10.984375 60.40625 \r\nL 10.984375 69.390625 \r\nL 28.421875 72.90625 \r\nL 38.28125 72.90625 \r\nL 38.28125 8.296875 \r\nL 54.390625 8.296875 \r\nL 54.390625 0 \r\nL 12.40625 0 \r\nz\r\n\" id=\"DejaVuSans-49\"/>\r\n       </defs>\r\n       <use xlink:href=\"#DejaVuSans-49\"/>\r\n       <use x=\"63.623047\" xlink:href=\"#DejaVuSans-46\"/>\r\n       <use x=\"95.410156\" xlink:href=\"#DejaVuSans-48\"/>\r\n      </g>\r\n     </g>\r\n    </g>\r\n   </g>\r\n   <g id=\"matplotlib.axis_2\">\r\n    <g id=\"ytick_1\">\r\n     <g id=\"line2d_7\">\r\n      <defs>\r\n       <path d=\"M 0 0 \r\nL -3.5 0 \r\n\" id=\"m775a857b5a\" style=\"stroke:#000000;stroke-width:0.8;\"/>\r\n      </defs>\r\n      <g>\r\n       <use style=\"stroke:#000000;stroke-width:0.8;\" x=\"30.103125\" xlink:href=\"#m775a857b5a\" y=\"214.756364\"/>\r\n      </g>\r\n     </g>\r\n     <g id=\"text_7\">\r\n      <!-- 0.0 -->\r\n      <g transform=\"translate(7.2 218.555582)scale(0.1 -0.1)\">\r\n       <use xlink:href=\"#DejaVuSans-48\"/>\r\n       <use x=\"63.623047\" xlink:href=\"#DejaVuSans-46\"/>\r\n       <use x=\"95.410156\" xlink:href=\"#DejaVuSans-48\"/>\r\n      </g>\r\n     </g>\r\n    </g>\r\n    <g id=\"ytick_2\">\r\n     <g id=\"line2d_8\">\r\n      <g>\r\n       <use style=\"stroke:#000000;stroke-width:0.8;\" x=\"30.103125\" xlink:href=\"#m775a857b5a\" y=\"175.221818\"/>\r\n      </g>\r\n     </g>\r\n     <g id=\"text_8\">\r\n      <!-- 0.2 -->\r\n      <g transform=\"translate(7.2 179.021037)scale(0.1 -0.1)\">\r\n       <use xlink:href=\"#DejaVuSans-48\"/>\r\n       <use x=\"63.623047\" xlink:href=\"#DejaVuSans-46\"/>\r\n       <use x=\"95.410156\" xlink:href=\"#DejaVuSans-50\"/>\r\n      </g>\r\n     </g>\r\n    </g>\r\n    <g id=\"ytick_3\">\r\n     <g id=\"line2d_9\">\r\n      <g>\r\n       <use style=\"stroke:#000000;stroke-width:0.8;\" x=\"30.103125\" xlink:href=\"#m775a857b5a\" y=\"135.687273\"/>\r\n      </g>\r\n     </g>\r\n     <g id=\"text_9\">\r\n      <!-- 0.4 -->\r\n      <g transform=\"translate(7.2 139.486491)scale(0.1 -0.1)\">\r\n       <use xlink:href=\"#DejaVuSans-48\"/>\r\n       <use x=\"63.623047\" xlink:href=\"#DejaVuSans-46\"/>\r\n       <use x=\"95.410156\" xlink:href=\"#DejaVuSans-52\"/>\r\n      </g>\r\n     </g>\r\n    </g>\r\n    <g id=\"ytick_4\">\r\n     <g id=\"line2d_10\">\r\n      <g>\r\n       <use style=\"stroke:#000000;stroke-width:0.8;\" x=\"30.103125\" xlink:href=\"#m775a857b5a\" y=\"96.152727\"/>\r\n      </g>\r\n     </g>\r\n     <g id=\"text_10\">\r\n      <!-- 0.6 -->\r\n      <g transform=\"translate(7.2 99.951946)scale(0.1 -0.1)\">\r\n       <use xlink:href=\"#DejaVuSans-48\"/>\r\n       <use x=\"63.623047\" xlink:href=\"#DejaVuSans-46\"/>\r\n       <use x=\"95.410156\" xlink:href=\"#DejaVuSans-54\"/>\r\n      </g>\r\n     </g>\r\n    </g>\r\n    <g id=\"ytick_5\">\r\n     <g id=\"line2d_11\">\r\n      <g>\r\n       <use style=\"stroke:#000000;stroke-width:0.8;\" x=\"30.103125\" xlink:href=\"#m775a857b5a\" y=\"56.618182\"/>\r\n      </g>\r\n     </g>\r\n     <g id=\"text_11\">\r\n      <!-- 0.8 -->\r\n      <g transform=\"translate(7.2 60.417401)scale(0.1 -0.1)\">\r\n       <use xlink:href=\"#DejaVuSans-48\"/>\r\n       <use x=\"63.623047\" xlink:href=\"#DejaVuSans-46\"/>\r\n       <use x=\"95.410156\" xlink:href=\"#DejaVuSans-56\"/>\r\n      </g>\r\n     </g>\r\n    </g>\r\n    <g id=\"ytick_6\">\r\n     <g id=\"line2d_12\">\r\n      <g>\r\n       <use style=\"stroke:#000000;stroke-width:0.8;\" x=\"30.103125\" xlink:href=\"#m775a857b5a\" y=\"17.083636\"/>\r\n      </g>\r\n     </g>\r\n     <g id=\"text_12\">\r\n      <!-- 1.0 -->\r\n      <g transform=\"translate(7.2 20.882855)scale(0.1 -0.1)\">\r\n       <use xlink:href=\"#DejaVuSans-49\"/>\r\n       <use x=\"63.623047\" xlink:href=\"#DejaVuSans-46\"/>\r\n       <use x=\"95.410156\" xlink:href=\"#DejaVuSans-48\"/>\r\n      </g>\r\n     </g>\r\n    </g>\r\n   </g>\r\n   <g id=\"line2d_13\">\r\n    <path clip-path=\"url(#p98cd7ecbc5)\" d=\"M 45.321307 214.756364 \r\nL 50.152476 214.756364 \r\nL 50.152476 204.872727 \r\nL 54.983644 194.989091 \r\nL 74.30832 194.989091 \r\nL 74.30832 185.105455 \r\nL 79.139489 185.105455 \r\nL 79.139489 175.221818 \r\nL 88.801826 175.221818 \r\nL 88.801826 165.338182 \r\nL 98.464164 165.338182 \r\nL 98.464164 155.454545 \r\nL 108.126502 135.687273 \r\nL 112.95767 135.687273 \r\nL 112.95767 115.92 \r\nL 122.620008 115.92 \r\nL 137.113515 115.92 \r\nL 141.944683 106.036364 \r\nL 146.775852 106.036364 \r\nL 156.43819 106.036364 \r\nL 166.100528 96.152727 \r\nL 175.762865 96.152727 \r\nL 180.594034 96.152727 \r\nL 180.594034 86.269091 \r\nL 185.425203 86.269091 \r\nL 195.087541 86.269091 \r\nL 204.749878 66.501818 \r\nL 219.243385 66.501818 \r\nL 228.905722 66.501818 \r\nL 233.736891 66.501818 \r\nL 248.230398 66.501818 \r\nL 253.061567 66.501818 \r\nL 267.555073 66.501818 \r\nL 277.217411 66.501818 \r\nL 286.879748 66.501818 \r\nL 291.710917 66.501818 \r\nL 301.373255 66.501818 \r\nL 306.204424 56.618182 \r\nL 315.866761 17.083636 \r\nL 330.360268 17.083636 \r\nL 349.684943 17.083636 \r\n\" style=\"fill:none;stroke:#1f77b4;stroke-linecap:square;stroke-width:1.5;\"/>\r\n   </g>\r\n   <g id=\"line2d_14\">\r\n    <path clip-path=\"url(#p98cd7ecbc5)\" d=\"M 30.103125 224.64 \r\nL 364.903125 7.2 \r\n\" style=\"fill:none;stroke:#000000;stroke-dasharray:3.7,1.6;stroke-dashoffset:0;\"/>\r\n   </g>\r\n   <g id=\"patch_3\">\r\n    <path d=\"M 30.103125 224.64 \r\nL 30.103125 7.2 \r\n\" style=\"fill:none;stroke:#000000;stroke-linecap:square;stroke-linejoin:miter;stroke-width:0.8;\"/>\r\n   </g>\r\n   <g id=\"patch_4\">\r\n    <path d=\"M 364.903125 224.64 \r\nL 364.903125 7.2 \r\n\" style=\"fill:none;stroke:#000000;stroke-linecap:square;stroke-linejoin:miter;stroke-width:0.8;\"/>\r\n   </g>\r\n   <g id=\"patch_5\">\r\n    <path d=\"M 30.103125 224.64 \r\nL 364.903125 224.64 \r\n\" style=\"fill:none;stroke:#000000;stroke-linecap:square;stroke-linejoin:miter;stroke-width:0.8;\"/>\r\n   </g>\r\n   <g id=\"patch_6\">\r\n    <path d=\"M 30.103125 7.2 \r\nL 364.903125 7.2 \r\n\" style=\"fill:none;stroke:#000000;stroke-linecap:square;stroke-linejoin:miter;stroke-width:0.8;\"/>\r\n   </g>\r\n  </g>\r\n </g>\r\n <defs>\r\n  <clipPath id=\"p98cd7ecbc5\">\r\n   <rect height=\"217.44\" width=\"334.8\" x=\"30.103125\" y=\"7.2\"/>\r\n  </clipPath>\r\n </defs>\r\n</svg>\r\n",
      "image/png": "[encoded data removed]"
     },
     "metadata": {
      "needs_background": "light"
     }
    }
   ],
   "source": [
    "Ycolumn = 'target_permeator'\n",
    "descriptors = ['PMI1','avg_smallest_principal_rg','NumHDonors','TPSA','avg_kappa2','avg_rg','Kappa3','NumRotatableBonds','HallKierAlpha','FpDensityMorgan2','NumHAcceptors','NumHeteroatoms','LabuteASA','NumAromaticCarbocycles','NumAromaticRings','NPR2','EState_VSA2','MaxAbsEStateIndex','NumAliphaticHeterocycles','FractionCSP3','NumAliphaticCarbocycles','MinAbsEStateIndex','MinPartialCharge','NumAromaticHeterocycles','NPR1','MaxAbsPartialCharge','MinEStateIndex','avg_acylindricity','MinAbsPartialCharge','MolLogP'] # Features after clustering\n",
    "\n",
    "print(f\"### {Ycolumn} ###\")\n",
    "### specify X and Y ###\n",
    "Y = df[Ycolumn]\n",
    "X_raw = df.iloc[:,6:]\n",
    "\n",
    "if Y.isnull().values.any():\n",
    "    print(\"Warning: NaN found\")\n",
    "\n",
    "X = StandardScaler().fit_transform(X_raw[descriptors])\n",
    "Yb = Y.to_numpy()\n",
    "\n",
    "print(f\"#positive/negative: {sum(Yb)}/{len(Yb)-sum(Yb)}\")\n",
    "\n",
    "#resampling = KMeansSMOTE(kmeans_estimator=KMeans(n_clusters=11), cluster_balance_threshold=1,  n_jobs=-1, random_state=42)\n",
    "#RandomOverSampler, SMOTE, BorderlineSMOTE, SVMSMOTE, ADASYN, KMeansSMOTE\n",
    "sampler = KMeansSMOTE(kmeans_estimator=KMeans(n_clusters=9), k_neighbors=2, cluster_balance_threshold=0.2, n_jobs=-1, random_state=0)\n",
    "#sampler = ADASYN()\n",
    "\n",
    "#cv = RepeatedStratifiedKFold(n_splits=5, n_repeats=4, random_state=0)\n",
    "#accuracy balanced_accuracy top_k_accuracy average_precision f1 precision recall jaccard roc_auc\n",
    "#gs = GridSearchCV(model, param_grid = RF_param_grid, cv = cv, refit=True, scoring=\"balanced_accuracy\", n_jobs=-1, error_score=0, verbose=0)\n",
    "#gs.fit(X_given, Yb)\n",
    "\n",
    "# print(\"\\t#RF_tuned_params =\", gs.best_params_)\n",
    "# print(\"\\t#Best score:\", gs.best_score_)\n",
    "# means = gs.cv_results_['mean_test_score']\n",
    "# stds = gs.cv_results_['std_test_score']\n",
    "# params = gs.cv_results_['params']\n",
    "# for mean, stdev, param in zip(means, stds, params):\n",
    "#     print(f\"{mean} ({stdev}) with: {param}\")\n",
    "\n",
    "grid_search_loocv(X, Yb, RF, sampler, RF_param_grid)"
   ]
  },
  {
   "source": [
    "## leave one out"
   ],
   "cell_type": "markdown",
   "metadata": {}
  },
  {
   "cell_type": "code",
   "execution_count": 28,
   "metadata": {},
   "outputs": [
    {
     "output_type": "stream",
     "name": "stdout",
     "text": [
      "      F1  precision  recall  accuracy  AUROC     confusion_matrix\n",
      "0  0.333      0.375     0.3     0.711   0.59  [[53, 10], [14, 6]]\n",
      "      F1  precision  recall  accuracy  AUROC     confusion_matrix\n",
      "0  0.333      0.375     0.3     0.711  0.591  [[53, 10], [14, 6]]\n",
      "      F1  precision  recall  accuracy  AUROC    confusion_matrix\n",
      "0  0.353      0.429     0.3     0.735  0.598  [[55, 8], [14, 6]]\n",
      "      F1  precision  recall  accuracy  AUROC    confusion_matrix\n",
      "0  0.432      0.471     0.4     0.747  0.673  [[54, 9], [12, 8]]\n",
      "      F1  precision  recall  accuracy  AUROC     confusion_matrix\n",
      "0  0.368      0.389    0.35     0.711   0.57  [[52, 11], [13, 7]]\n",
      "     F1  precision  recall  accuracy  AUROC     confusion_matrix\n",
      "0  0.39      0.381     0.4     0.699  0.585  [[50, 13], [12, 8]]\n",
      "      F1  precision  recall  accuracy  AUROC    confusion_matrix\n",
      "0  0.343        0.4     0.3     0.723  0.602  [[54, 9], [14, 6]]\n",
      "      F1  precision  recall  accuracy  AUROC    confusion_matrix\n",
      "0  0.294      0.357    0.25     0.711  0.542  [[54, 9], [15, 5]]\n",
      "    F1  precision  recall  accuracy  AUROC    confusion_matrix\n",
      "0  0.4      0.467    0.35     0.747  0.603  [[55, 8], [13, 7]]\n",
      "      F1  precision  recall  accuracy  AUROC    confusion_matrix\n",
      "0  0.364      0.462     0.3     0.747  0.561  [[56, 7], [14, 6]]\n"
     ]
    }
   ],
   "source": [
    "#sampler = KMeansSMOTE(kmeans_estimator=9, k_neighbors=2, cluster_balance_threshold=0.2)\n",
    "clf = RandomForestClassifier(n_estimators=200, min_samples_leaf=2, max_features=None, random_state=0, bootstrap=True)\n",
    "model = Pipeline([('over-sampling', sampler), ('clf', clf)])\n",
    "\n",
    "# leave one out\n",
    "cv = LeaveOneOut()\n",
    "#f1 = prec = recall = acc = AUC = conM = []\n",
    "for i in range(10):\n",
    "    #Y_pred = cross_val_predict(model, X, Yb, cv=cv, n_jobs=-1)\n",
    "    pred_probs = cross_val_predict(model, X, Yb, cv=cv, n_jobs=-1, method='predict_proba')\n",
    "    Y_pred = pred_probs.argmax(axis=1)\n",
    "    fpr, tpr, _ = roc_curve(Yb,pred_probs[:,1])\n",
    "    # plt.plot(fpr, tpr)\n",
    "    # plt.axline([0, 0], [1, 1], linewidth=1, color='k', linestyle='--')\n",
    "    # evaluate model\n",
    "    f1 = round(f1_score(Yb,Y_pred),3)\n",
    "    prec = round(precision_score(Yb,Y_pred),3)\n",
    "    recall = round(recall_score(Yb,Y_pred),3)\n",
    "    acc = round(accuracy_score(Yb,Y_pred),3)\n",
    "    AUC = round(roc_auc_score(Yb, pred_probs[:,1]),3)\n",
    "    conM = confusion_matrix(Yb,Y_pred).tolist()\n",
    "    metric_cols=['F1','precision','recall','accuracy','AUROC','confusion_matrix']\n",
    "    print(pd.DataFrame([[f1,prec,recall,acc,AUC,conM]], columns = metric_cols))"
   ]
  },
  {
   "source": [
    "## 5-fold cross-validation"
   ],
   "cell_type": "markdown",
   "metadata": {}
  },
  {
   "cell_type": "code",
   "execution_count": 24,
   "metadata": {},
   "outputs": [
    {
     "output_type": "stream",
     "name": "stdout",
     "text": [
      "     F1  precision  recall  accuracy  AUROC     confusion_matrix\n0  0.45       0.45    0.45     0.735  0.659  [[52, 11], [11, 9]]\n"
     ]
    },
    {
     "output_type": "execute_result",
     "data": {
      "text/plain": [
       "<matplotlib.lines._AxLine at 0x23a7c966f10>"
      ]
     },
     "metadata": {},
     "execution_count": 24
    },
    {
     "output_type": "display_data",
     "data": {
      "text/plain": "<Figure size 432x288 with 1 Axes>",
      "image/svg+xml": "<?xml version=\"1.0\" encoding=\"utf-8\" standalone=\"no\"?>\r\n<!DOCTYPE svg PUBLIC \"-//W3C//DTD SVG 1.1//EN\"\r\n  \"http://www.w3.org/Graphics/SVG/1.1/DTD/svg11.dtd\">\r\n<!-- Created with matplotlib (https://matplotlib.org/) -->\r\n<svg height=\"248.518125pt\" version=\"1.1\" viewBox=\"0 0 372.103125 248.518125\" width=\"372.103125pt\" xmlns=\"http://www.w3.org/2000/svg\" xmlns:xlink=\"http://www.w3.org/1999/xlink\">\r\n <metadata>\r\n  <rdf:RDF xmlns:cc=\"http://creativecommons.org/ns#\" xmlns:dc=\"http://purl.org/dc/elements/1.1/\" xmlns:rdf=\"http://www.w3.org/1999/02/22-rdf-syntax-ns#\">\r\n   <cc:Work>\r\n    <dc:type rdf:resource=\"http://purl.org/dc/dcmitype/StillImage\"/>\r\n    <dc:date>2021-05-27T17:29:46.927220</dc:date>\r\n    <dc:format>image/svg+xml</dc:format>\r\n    <dc:creator>\r\n     <cc:Agent>\r\n      <dc:title>Matplotlib v3.3.4, https://matplotlib.org/</dc:title>\r\n     </cc:Agent>\r\n    </dc:creator>\r\n   </cc:Work>\r\n  </rdf:RDF>\r\n </metadata>\r\n <defs>\r\n  <style type=\"text/css\">*{stroke-linecap:butt;stroke-linejoin:round;}</style>\r\n </defs>\r\n <g id=\"figure_1\">\r\n  <g id=\"patch_1\">\r\n   <path d=\"M 0 248.518125 \r\nL 372.103125 248.518125 \r\nL 372.103125 0 \r\nL 0 0 \r\nz\r\n\" style=\"fill:none;\"/>\r\n  </g>\r\n  <g id=\"axes_1\">\r\n   <g id=\"patch_2\">\r\n    <path d=\"M 30.103125 224.64 \r\nL 364.903125 224.64 \r\nL 364.903125 7.2 \r\nL 30.103125 7.2 \r\nz\r\n\" style=\"fill:#ffffff;\"/>\r\n   </g>\r\n   <g id=\"matplotlib.axis_1\">\r\n    <g id=\"xtick_1\">\r\n     <g id=\"line2d_1\">\r\n      <defs>\r\n       <path d=\"M 0 0 \r\nL 0 3.5 \r\n\" id=\"md49d7f0355\" style=\"stroke:#000000;stroke-width:0.8;\"/>\r\n      </defs>\r\n      <g>\r\n       <use style=\"stroke:#000000;stroke-width:0.8;\" x=\"45.321307\" xlink:href=\"#md49d7f0355\" y=\"224.64\"/>\r\n      </g>\r\n     </g>\r\n     <g id=\"text_1\">\r\n      <!-- 0.0 -->\r\n      <g transform=\"translate(37.369744 239.238437)scale(0.1 -0.1)\">\r\n       <defs>\r\n        <path d=\"M 31.78125 66.40625 \r\nQ 24.171875 66.40625 20.328125 58.90625 \r\nQ 16.5 51.421875 16.5 36.375 \r\nQ 16.5 21.390625 20.328125 13.890625 \r\nQ 24.171875 6.390625 31.78125 6.390625 \r\nQ 39.453125 6.390625 43.28125 13.890625 \r\nQ 47.125 21.390625 47.125 36.375 \r\nQ 47.125 51.421875 43.28125 58.90625 \r\nQ 39.453125 66.40625 31.78125 66.40625 \r\nz\r\nM 31.78125 74.21875 \r\nQ 44.046875 74.21875 50.515625 64.515625 \r\nQ 56.984375 54.828125 56.984375 36.375 \r\nQ 56.984375 17.96875 50.515625 8.265625 \r\nQ 44.046875 -1.421875 31.78125 -1.421875 \r\nQ 19.53125 -1.421875 13.0625 8.265625 \r\nQ 6.59375 17.96875 6.59375 36.375 \r\nQ 6.59375 54.828125 13.0625 64.515625 \r\nQ 19.53125 74.21875 31.78125 74.21875 \r\nz\r\n\" id=\"DejaVuSans-48\"/>\r\n        <path d=\"M 10.6875 12.40625 \r\nL 21 12.40625 \r\nL 21 0 \r\nL 10.6875 0 \r\nz\r\n\" id=\"DejaVuSans-46\"/>\r\n       </defs>\r\n       <use xlink:href=\"#DejaVuSans-48\"/>\r\n       <use x=\"63.623047\" xlink:href=\"#DejaVuSans-46\"/>\r\n       <use x=\"95.410156\" xlink:href=\"#DejaVuSans-48\"/>\r\n      </g>\r\n     </g>\r\n    </g>\r\n    <g id=\"xtick_2\">\r\n     <g id=\"line2d_2\">\r\n      <g>\r\n       <use style=\"stroke:#000000;stroke-width:0.8;\" x=\"106.194034\" xlink:href=\"#md49d7f0355\" y=\"224.64\"/>\r\n      </g>\r\n     </g>\r\n     <g id=\"text_2\">\r\n      <!-- 0.2 -->\r\n      <g transform=\"translate(98.242472 239.238437)scale(0.1 -0.1)\">\r\n       <defs>\r\n        <path d=\"M 19.1875 8.296875 \r\nL 53.609375 8.296875 \r\nL 53.609375 0 \r\nL 7.328125 0 \r\nL 7.328125 8.296875 \r\nQ 12.9375 14.109375 22.625 23.890625 \r\nQ 32.328125 33.6875 34.8125 36.53125 \r\nQ 39.546875 41.84375 41.421875 45.53125 \r\nQ 43.3125 49.21875 43.3125 52.78125 \r\nQ 43.3125 58.59375 39.234375 62.25 \r\nQ 35.15625 65.921875 28.609375 65.921875 \r\nQ 23.96875 65.921875 18.8125 64.3125 \r\nQ 13.671875 62.703125 7.8125 59.421875 \r\nL 7.8125 69.390625 \r\nQ 13.765625 71.78125 18.9375 73 \r\nQ 24.125 74.21875 28.421875 74.21875 \r\nQ 39.75 74.21875 46.484375 68.546875 \r\nQ 53.21875 62.890625 53.21875 53.421875 \r\nQ 53.21875 48.921875 51.53125 44.890625 \r\nQ 49.859375 40.875 45.40625 35.40625 \r\nQ 44.1875 33.984375 37.640625 27.21875 \r\nQ 31.109375 20.453125 19.1875 8.296875 \r\nz\r\n\" id=\"DejaVuSans-50\"/>\r\n       </defs>\r\n       <use xlink:href=\"#DejaVuSans-48\"/>\r\n       <use x=\"63.623047\" xlink:href=\"#DejaVuSans-46\"/>\r\n       <use x=\"95.410156\" xlink:href=\"#DejaVuSans-50\"/>\r\n      </g>\r\n     </g>\r\n    </g>\r\n    <g id=\"xtick_3\">\r\n     <g id=\"line2d_3\">\r\n      <g>\r\n       <use style=\"stroke:#000000;stroke-width:0.8;\" x=\"167.066761\" xlink:href=\"#md49d7f0355\" y=\"224.64\"/>\r\n      </g>\r\n     </g>\r\n     <g id=\"text_3\">\r\n      <!-- 0.4 -->\r\n      <g transform=\"translate(159.115199 239.238437)scale(0.1 -0.1)\">\r\n       <defs>\r\n        <path d=\"M 37.796875 64.3125 \r\nL 12.890625 25.390625 \r\nL 37.796875 25.390625 \r\nz\r\nM 35.203125 72.90625 \r\nL 47.609375 72.90625 \r\nL 47.609375 25.390625 \r\nL 58.015625 25.390625 \r\nL 58.015625 17.1875 \r\nL 47.609375 17.1875 \r\nL 47.609375 0 \r\nL 37.796875 0 \r\nL 37.796875 17.1875 \r\nL 4.890625 17.1875 \r\nL 4.890625 26.703125 \r\nz\r\n\" id=\"DejaVuSans-52\"/>\r\n       </defs>\r\n       <use xlink:href=\"#DejaVuSans-48\"/>\r\n       <use x=\"63.623047\" xlink:href=\"#DejaVuSans-46\"/>\r\n       <use x=\"95.410156\" xlink:href=\"#DejaVuSans-52\"/>\r\n      </g>\r\n     </g>\r\n    </g>\r\n    <g id=\"xtick_4\">\r\n     <g id=\"line2d_4\">\r\n      <g>\r\n       <use style=\"stroke:#000000;stroke-width:0.8;\" x=\"227.939489\" xlink:href=\"#md49d7f0355\" y=\"224.64\"/>\r\n      </g>\r\n     </g>\r\n     <g id=\"text_4\">\r\n      <!-- 0.6 -->\r\n      <g transform=\"translate(219.987926 239.238437)scale(0.1 -0.1)\">\r\n       <defs>\r\n        <path d=\"M 33.015625 40.375 \r\nQ 26.375 40.375 22.484375 35.828125 \r\nQ 18.609375 31.296875 18.609375 23.390625 \r\nQ 18.609375 15.53125 22.484375 10.953125 \r\nQ 26.375 6.390625 33.015625 6.390625 \r\nQ 39.65625 6.390625 43.53125 10.953125 \r\nQ 47.40625 15.53125 47.40625 23.390625 \r\nQ 47.40625 31.296875 43.53125 35.828125 \r\nQ 39.65625 40.375 33.015625 40.375 \r\nz\r\nM 52.59375 71.296875 \r\nL 52.59375 62.3125 \r\nQ 48.875 64.0625 45.09375 64.984375 \r\nQ 41.3125 65.921875 37.59375 65.921875 \r\nQ 27.828125 65.921875 22.671875 59.328125 \r\nQ 17.53125 52.734375 16.796875 39.40625 \r\nQ 19.671875 43.65625 24.015625 45.921875 \r\nQ 28.375 48.1875 33.59375 48.1875 \r\nQ 44.578125 48.1875 50.953125 41.515625 \r\nQ 57.328125 34.859375 57.328125 23.390625 \r\nQ 57.328125 12.15625 50.6875 5.359375 \r\nQ 44.046875 -1.421875 33.015625 -1.421875 \r\nQ 20.359375 -1.421875 13.671875 8.265625 \r\nQ 6.984375 17.96875 6.984375 36.375 \r\nQ 6.984375 53.65625 15.1875 63.9375 \r\nQ 23.390625 74.21875 37.203125 74.21875 \r\nQ 40.921875 74.21875 44.703125 73.484375 \r\nQ 48.484375 72.75 52.59375 71.296875 \r\nz\r\n\" id=\"DejaVuSans-54\"/>\r\n       </defs>\r\n       <use xlink:href=\"#DejaVuSans-48\"/>\r\n       <use x=\"63.623047\" xlink:href=\"#DejaVuSans-46\"/>\r\n       <use x=\"95.410156\" xlink:href=\"#DejaVuSans-54\"/>\r\n      </g>\r\n     </g>\r\n    </g>\r\n    <g id=\"xtick_5\">\r\n     <g id=\"line2d_5\">\r\n      <g>\r\n       <use style=\"stroke:#000000;stroke-width:0.8;\" x=\"288.812216\" xlink:href=\"#md49d7f0355\" y=\"224.64\"/>\r\n      </g>\r\n     </g>\r\n     <g id=\"text_5\">\r\n      <!-- 0.8 -->\r\n      <g transform=\"translate(280.860653 239.238437)scale(0.1 -0.1)\">\r\n       <defs>\r\n        <path d=\"M 31.78125 34.625 \r\nQ 24.75 34.625 20.71875 30.859375 \r\nQ 16.703125 27.09375 16.703125 20.515625 \r\nQ 16.703125 13.921875 20.71875 10.15625 \r\nQ 24.75 6.390625 31.78125 6.390625 \r\nQ 38.8125 6.390625 42.859375 10.171875 \r\nQ 46.921875 13.96875 46.921875 20.515625 \r\nQ 46.921875 27.09375 42.890625 30.859375 \r\nQ 38.875 34.625 31.78125 34.625 \r\nz\r\nM 21.921875 38.8125 \r\nQ 15.578125 40.375 12.03125 44.71875 \r\nQ 8.5 49.078125 8.5 55.328125 \r\nQ 8.5 64.0625 14.71875 69.140625 \r\nQ 20.953125 74.21875 31.78125 74.21875 \r\nQ 42.671875 74.21875 48.875 69.140625 \r\nQ 55.078125 64.0625 55.078125 55.328125 \r\nQ 55.078125 49.078125 51.53125 44.71875 \r\nQ 48 40.375 41.703125 38.8125 \r\nQ 48.828125 37.15625 52.796875 32.3125 \r\nQ 56.78125 27.484375 56.78125 20.515625 \r\nQ 56.78125 9.90625 50.3125 4.234375 \r\nQ 43.84375 -1.421875 31.78125 -1.421875 \r\nQ 19.734375 -1.421875 13.25 4.234375 \r\nQ 6.78125 9.90625 6.78125 20.515625 \r\nQ 6.78125 27.484375 10.78125 32.3125 \r\nQ 14.796875 37.15625 21.921875 38.8125 \r\nz\r\nM 18.3125 54.390625 \r\nQ 18.3125 48.734375 21.84375 45.5625 \r\nQ 25.390625 42.390625 31.78125 42.390625 \r\nQ 38.140625 42.390625 41.71875 45.5625 \r\nQ 45.3125 48.734375 45.3125 54.390625 \r\nQ 45.3125 60.0625 41.71875 63.234375 \r\nQ 38.140625 66.40625 31.78125 66.40625 \r\nQ 25.390625 66.40625 21.84375 63.234375 \r\nQ 18.3125 60.0625 18.3125 54.390625 \r\nz\r\n\" id=\"DejaVuSans-56\"/>\r\n       </defs>\r\n       <use xlink:href=\"#DejaVuSans-48\"/>\r\n       <use x=\"63.623047\" xlink:href=\"#DejaVuSans-46\"/>\r\n       <use x=\"95.410156\" xlink:href=\"#DejaVuSans-56\"/>\r\n      </g>\r\n     </g>\r\n    </g>\r\n    <g id=\"xtick_6\">\r\n     <g id=\"line2d_6\">\r\n      <g>\r\n       <use style=\"stroke:#000000;stroke-width:0.8;\" x=\"349.684943\" xlink:href=\"#md49d7f0355\" y=\"224.64\"/>\r\n      </g>\r\n     </g>\r\n     <g id=\"text_6\">\r\n      <!-- 1.0 -->\r\n      <g transform=\"translate(341.733381 239.238437)scale(0.1 -0.1)\">\r\n       <defs>\r\n        <path d=\"M 12.40625 8.296875 \r\nL 28.515625 8.296875 \r\nL 28.515625 63.921875 \r\nL 10.984375 60.40625 \r\nL 10.984375 69.390625 \r\nL 28.421875 72.90625 \r\nL 38.28125 72.90625 \r\nL 38.28125 8.296875 \r\nL 54.390625 8.296875 \r\nL 54.390625 0 \r\nL 12.40625 0 \r\nz\r\n\" id=\"DejaVuSans-49\"/>\r\n       </defs>\r\n       <use xlink:href=\"#DejaVuSans-49\"/>\r\n       <use x=\"63.623047\" xlink:href=\"#DejaVuSans-46\"/>\r\n       <use x=\"95.410156\" xlink:href=\"#DejaVuSans-48\"/>\r\n      </g>\r\n     </g>\r\n    </g>\r\n   </g>\r\n   <g id=\"matplotlib.axis_2\">\r\n    <g id=\"ytick_1\">\r\n     <g id=\"line2d_7\">\r\n      <defs>\r\n       <path d=\"M 0 0 \r\nL -3.5 0 \r\n\" id=\"m16b589dac3\" style=\"stroke:#000000;stroke-width:0.8;\"/>\r\n      </defs>\r\n      <g>\r\n       <use style=\"stroke:#000000;stroke-width:0.8;\" x=\"30.103125\" xlink:href=\"#m16b589dac3\" y=\"214.756364\"/>\r\n      </g>\r\n     </g>\r\n     <g id=\"text_7\">\r\n      <!-- 0.0 -->\r\n      <g transform=\"translate(7.2 218.555582)scale(0.1 -0.1)\">\r\n       <use xlink:href=\"#DejaVuSans-48\"/>\r\n       <use x=\"63.623047\" xlink:href=\"#DejaVuSans-46\"/>\r\n       <use x=\"95.410156\" xlink:href=\"#DejaVuSans-48\"/>\r\n      </g>\r\n     </g>\r\n    </g>\r\n    <g id=\"ytick_2\">\r\n     <g id=\"line2d_8\">\r\n      <g>\r\n       <use style=\"stroke:#000000;stroke-width:0.8;\" x=\"30.103125\" xlink:href=\"#m16b589dac3\" y=\"175.221818\"/>\r\n      </g>\r\n     </g>\r\n     <g id=\"text_8\">\r\n      <!-- 0.2 -->\r\n      <g transform=\"translate(7.2 179.021037)scale(0.1 -0.1)\">\r\n       <use xlink:href=\"#DejaVuSans-48\"/>\r\n       <use x=\"63.623047\" xlink:href=\"#DejaVuSans-46\"/>\r\n       <use x=\"95.410156\" xlink:href=\"#DejaVuSans-50\"/>\r\n      </g>\r\n     </g>\r\n    </g>\r\n    <g id=\"ytick_3\">\r\n     <g id=\"line2d_9\">\r\n      <g>\r\n       <use style=\"stroke:#000000;stroke-width:0.8;\" x=\"30.103125\" xlink:href=\"#m16b589dac3\" y=\"135.687273\"/>\r\n      </g>\r\n     </g>\r\n     <g id=\"text_9\">\r\n      <!-- 0.4 -->\r\n      <g transform=\"translate(7.2 139.486491)scale(0.1 -0.1)\">\r\n       <use xlink:href=\"#DejaVuSans-48\"/>\r\n       <use x=\"63.623047\" xlink:href=\"#DejaVuSans-46\"/>\r\n       <use x=\"95.410156\" xlink:href=\"#DejaVuSans-52\"/>\r\n      </g>\r\n     </g>\r\n    </g>\r\n    <g id=\"ytick_4\">\r\n     <g id=\"line2d_10\">\r\n      <g>\r\n       <use style=\"stroke:#000000;stroke-width:0.8;\" x=\"30.103125\" xlink:href=\"#m16b589dac3\" y=\"96.152727\"/>\r\n      </g>\r\n     </g>\r\n     <g id=\"text_10\">\r\n      <!-- 0.6 -->\r\n      <g transform=\"translate(7.2 99.951946)scale(0.1 -0.1)\">\r\n       <use xlink:href=\"#DejaVuSans-48\"/>\r\n       <use x=\"63.623047\" xlink:href=\"#DejaVuSans-46\"/>\r\n       <use x=\"95.410156\" xlink:href=\"#DejaVuSans-54\"/>\r\n      </g>\r\n     </g>\r\n    </g>\r\n    <g id=\"ytick_5\">\r\n     <g id=\"line2d_11\">\r\n      <g>\r\n       <use style=\"stroke:#000000;stroke-width:0.8;\" x=\"30.103125\" xlink:href=\"#m16b589dac3\" y=\"56.618182\"/>\r\n      </g>\r\n     </g>\r\n     <g id=\"text_11\">\r\n      <!-- 0.8 -->\r\n      <g transform=\"translate(7.2 60.417401)scale(0.1 -0.1)\">\r\n       <use xlink:href=\"#DejaVuSans-48\"/>\r\n       <use x=\"63.623047\" xlink:href=\"#DejaVuSans-46\"/>\r\n       <use x=\"95.410156\" xlink:href=\"#DejaVuSans-56\"/>\r\n      </g>\r\n     </g>\r\n    </g>\r\n    <g id=\"ytick_6\">\r\n     <g id=\"line2d_12\">\r\n      <g>\r\n       <use style=\"stroke:#000000;stroke-width:0.8;\" x=\"30.103125\" xlink:href=\"#m16b589dac3\" y=\"17.083636\"/>\r\n      </g>\r\n     </g>\r\n     <g id=\"text_12\">\r\n      <!-- 1.0 -->\r\n      <g transform=\"translate(7.2 20.882855)scale(0.1 -0.1)\">\r\n       <use xlink:href=\"#DejaVuSans-49\"/>\r\n       <use x=\"63.623047\" xlink:href=\"#DejaVuSans-46\"/>\r\n       <use x=\"95.410156\" xlink:href=\"#DejaVuSans-48\"/>\r\n      </g>\r\n     </g>\r\n    </g>\r\n   </g>\r\n   <g id=\"line2d_13\">\r\n    <path clip-path=\"url(#pdeeb8e2835)\" d=\"M 45.321307 214.756364 \r\nL 50.152476 214.756364 \r\nL 59.814813 214.756364 \r\nL 59.814813 204.872727 \r\nL 64.645982 204.872727 \r\nL 64.645982 194.989091 \r\nL 83.970657 194.989091 \r\nL 83.970657 135.687273 \r\nL 88.801826 135.687273 \r\nL 88.801826 125.803636 \r\nL 98.464164 125.803636 \r\nL 98.464164 115.92 \r\nL 122.620008 115.92 \r\nL 122.620008 106.036364 \r\nL 127.451177 106.036364 \r\nL 127.451177 96.152727 \r\nL 156.43819 96.152727 \r\nL 156.43819 66.501818 \r\nL 253.061567 66.501818 \r\nL 253.061567 56.618182 \r\nL 267.555073 56.618182 \r\nL 267.555073 46.734545 \r\nL 296.542086 46.734545 \r\nL 296.542086 36.850909 \r\nL 315.866761 36.850909 \r\nL 315.866761 17.083636 \r\nL 349.684943 17.083636 \r\n\" style=\"fill:none;stroke:#1f77b4;stroke-linecap:square;stroke-width:1.5;\"/>\r\n   </g>\r\n   <g id=\"line2d_14\">\r\n    <path clip-path=\"url(#pdeeb8e2835)\" d=\"M 30.103125 224.64 \r\nL 364.903125 7.2 \r\n\" style=\"fill:none;stroke:#000000;stroke-dasharray:3.7,1.6;stroke-dashoffset:0;\"/>\r\n   </g>\r\n   <g id=\"patch_3\">\r\n    <path d=\"M 30.103125 224.64 \r\nL 30.103125 7.2 \r\n\" style=\"fill:none;stroke:#000000;stroke-linecap:square;stroke-linejoin:miter;stroke-width:0.8;\"/>\r\n   </g>\r\n   <g id=\"patch_4\">\r\n    <path d=\"M 364.903125 224.64 \r\nL 364.903125 7.2 \r\n\" style=\"fill:none;stroke:#000000;stroke-linecap:square;stroke-linejoin:miter;stroke-width:0.8;\"/>\r\n   </g>\r\n   <g id=\"patch_5\">\r\n    <path d=\"M 30.103125 224.64 \r\nL 364.903125 224.64 \r\n\" style=\"fill:none;stroke:#000000;stroke-linecap:square;stroke-linejoin:miter;stroke-width:0.8;\"/>\r\n   </g>\r\n   <g id=\"patch_6\">\r\n    <path d=\"M 30.103125 7.2 \r\nL 364.903125 7.2 \r\n\" style=\"fill:none;stroke:#000000;stroke-linecap:square;stroke-linejoin:miter;stroke-width:0.8;\"/>\r\n   </g>\r\n  </g>\r\n </g>\r\n <defs>\r\n  <clipPath id=\"pdeeb8e2835\">\r\n   <rect height=\"217.44\" width=\"334.8\" x=\"30.103125\" y=\"7.2\"/>\r\n  </clipPath>\r\n </defs>\r\n</svg>\r\n",
      "image/png": "[encoded data removed]"
     },
     "metadata": {
      "needs_background": "light"
     }
    }
   ],
   "source": [
    "cv = StratifiedKFold(n_splits=5, random_state=0, shuffle=True)\n",
    "#metric_cols=['F1','precision','recall','accuracy','ROC_AUC','confusion_matrix']\n",
    "\n",
    "pred_probs = cross_val_predict(model, X, Yb, cv=cv, n_jobs=-1, method='predict_proba')\n",
    "Y_pred = pred_probs.argmax(axis=1)\n",
    "#print(pred_test_probs)\n",
    "fpr, tpr, _ = roc_curve(Yb,pred_probs[:,1]) # use pred_test_probs instead of pred_test\n",
    "\n",
    "f1 = round(f1_score(Yb,Y_pred),3)\n",
    "prec = round(precision_score(Yb,Y_pred),3)\n",
    "recall = round(recall_score(Yb,Y_pred),3)\n",
    "acc = round(accuracy_score(Yb,Y_pred),3)\n",
    "AUC = round(roc_auc_score(Yb, pred_probs[:,1]),3)\n",
    "conM = confusion_matrix(Yb,Y_pred).tolist()\n",
    "metric_cols=['F1','precision','recall','accuracy','AUROC','confusion_matrix']\n",
    "print(pd.DataFrame([[f1,prec,recall,acc,AUC,conM]], columns = metric_cols))\n",
    "\n",
    "plt.plot(fpr, tpr)\n",
    "plt.axline([0, 0], [1, 1], linewidth=1, color='k', linestyle='--')\n",
    "# i += 1 # plot ROC curve\n",
    "\n",
    "# \n",
    "# plt.xlabel('False positive rate')\n",
    "# plt.ylabel('True positive rate')\n",
    "# plt.legend()\n",
    "# plt.title(FigureTitel)\n",
    "# plt.show()\n",
    "#return a dataframe consisting five metrics and confusion matrix."
   ]
  },
  {
   "cell_type": "code",
   "execution_count": null,
   "metadata": {},
   "outputs": [],
   "source": [
    "### wt_A1 ###\n",
    "#positive/negative: 21/62\n",
    "\n",
    "---RandomOverSampler---\n",
    "\t#RF_tuned_params = {'clf__max_depth': None, 'clf__max_features': 'auto', 'clf__min_samples_leaf': 2, 'clf__n_estimators': 160}\n",
    "\t#Best score: 0.6279411764705882\n",
    "\n",
    "---SMOTE---\n",
    "\t#RF_tuned_params = {'clf__max_depth': 10, 'clf__max_features': None, 'clf__min_samples_leaf': 4, 'clf__n_estimators': 1280}\n",
    "\t#Best score: 0.661764705882353\n",
    "\n",
    "---BorderlineSMOTE---\n",
    "\t#RF_tuned_params = {'clf__max_depth': 5, 'clf__max_features': 'log2', 'clf__min_samples_leaf': 4, 'clf__n_estimators': 320}\n",
    "\t#Best score: 0.6507352941176471\n",
    "\n",
    "---SVMSMOTE---\n",
    "\t#RF_tuned_params = {'clf__max_depth': None, 'clf__max_features': None, 'clf__min_samples_leaf': 8, 'clf__n_estimators': 160}\n",
    "\t#Best score: 0.7117647058823529\n",
    "\n",
    "---ADASYN---\n",
    "\t#RF_tuned_params = {'clf__max_depth': None, 'clf__max_features': None, 'clf__min_samples_leaf': 2, 'clf__n_estimators': 160}\n",
    "\t#Best score: 0.6507352941176471\n",
    "\n",
    "### target_permeator ###\n",
    "#positive/negative: 20/63\n",
    "\n",
    "---RandomOverSampler---\n",
    "\t#RF_tuned_params = {'clf__max_depth': 10, 'clf__max_features': 'log2', 'clf__min_samples_leaf': 8, 'clf__n_estimators': 480}\n",
    "\t#Best score: 0.725\n",
    "\n",
    "---SMOTE---\n",
    "\t#RF_tuned_params = {'clf__max_depth': 5, 'clf__max_features': 'auto', 'clf__min_samples_leaf': 2, 'clf__n_estimators': 640}\n",
    "\t#Best score: 0.6757352941176471\n",
    "\n",
    "---BorderlineSMOTE---\n",
    "\t#RF_tuned_params = {'clf__max_depth': None, 'clf__max_features': None, 'clf__min_samples_leaf': 4, 'clf__n_estimators': 960}\n",
    "\t#Best score: 0.6764705882352942\n",
    "\n",
    "---SVMSMOTE---\n",
    "\t#RF_tuned_params = {'clf__max_depth': 10, 'clf__max_features': None, 'clf__min_samples_leaf': 8, 'clf__n_estimators': 640}\n",
    "\t#Best score: 0.7367647058823529\n",
    "\n",
    "---ADASYN---\n",
    "\t#RF_tuned_params = {'clf__max_depth': 10, 'clf__max_features': 'log2', 'clf__min_samples_leaf': 4, 'clf__n_estimators': 960}\n",
    "\t#Best score: 0.6757352941176471"
   ]
  }
 ]
}