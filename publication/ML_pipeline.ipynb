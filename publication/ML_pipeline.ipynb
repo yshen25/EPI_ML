{
 "metadata": {
  "language_info": {
   "codemirror_mode": {
    "name": "ipython",
    "version": 3
   },
   "file_extension": ".py",
   "mimetype": "text/x-python",
   "name": "python",
   "nbconvert_exporter": "python",
   "pygments_lexer": "ipython3",
   "version": "3.8.8"
  },
  "orig_nbformat": 2,
  "kernelspec": {
   "name": "python388jvsc74a57bd0a8f61be024eba58adef938c9aa1e29e02cb3dece83a5348b1a2dafd16a070453",
   "display_name": "Python 3.8.8 64-bit ('base': conda)"
  }
 },
 "nbformat": 4,
 "nbformat_minor": 2,
 "cells": [
  {
   "source": [
    "# Random forest pipeline\n",
    "The jupyter notebook for good permeaters prediction using random forest model  \n",
    "Including hyper-parameter tuning, leave-one-out cross validation, and feature importance extraction  \n",
    "\n",
    "Auther: Yue (Shawn) Shen  \n",
    "Date: Jun 08, 2021  "
   ],
   "cell_type": "markdown",
   "metadata": {}
  },
  {
   "cell_type": "code",
   "execution_count": 1,
   "metadata": {},
   "outputs": [
    {
     "output_type": "stream",
     "name": "stdout",
     "text": [
      "pass\n"
     ]
    },
    {
     "output_type": "execute_result",
     "data": {
      "text/plain": [
       "     MolID  target_permeator  BalabanJ   BertzCT    Chi0    Chi1   Chi0n  \\\n",
       "0  1500272                 0     1.429  1053.463  24.526  17.092  21.986   \n",
       "1  1501007                 0     1.868   592.306  16.113  10.436  12.477   \n",
       "2  1501150                 1     2.143   675.300  17.035  10.863  13.464   \n",
       "3  1503100                 1     1.453   912.788  20.096  13.507  16.903   \n",
       "4  1503243                 0     1.847   673.567  17.527  11.469  13.852   \n",
       "\n",
       "    Chi1n   Chi2n  Chi3n  ...     PMI3  RadiusOfGyration  SpherocityIndex  \\\n",
       "0  13.271  10.508  8.949  ...  8960.40              4.71             0.26   \n",
       "1   7.260   5.618  3.565  ...  5322.33              4.43             0.13   \n",
       "2   7.701   5.718  4.335  ...  4454.32              3.82             0.13   \n",
       "3   9.734   7.208  5.436  ...  6975.32              4.50             0.21   \n",
       "4   8.151   6.130  4.164  ...  6455.60              4.67             0.11   \n",
       "\n",
       "   avg_asphericity  avg_acylindricity  avg_kappa2    avg_rg  \\\n",
       "0         0.377154           0.212826    0.287922  0.526401   \n",
       "1         0.310194           0.123611    0.349557  0.411174   \n",
       "2         0.307322           0.156884    0.302154  0.421545   \n",
       "3         0.402013           0.129149    0.435131  0.498724   \n",
       "4         0.365638           0.124397    0.441792  0.454138   \n",
       "\n",
       "   avg_largest_principal_rg  avg_middle_principal_rg  \\\n",
       "0                  0.505270                 0.457168   \n",
       "1                  0.391925                 0.369452   \n",
       "2                  0.403439                 0.370261   \n",
       "3                  0.478465                 0.459285   \n",
       "4                  0.437384                 0.416621   \n",
       "\n",
       "   avg_smallest_principal_rg  \n",
       "0                   0.299362  \n",
       "1                   0.216417  \n",
       "2                   0.235260  \n",
       "3                   0.236546  \n",
       "4                   0.212002  \n",
       "\n",
       "[5 rows x 219 columns]"
      ],
      "text/html": "<div>\n<style scoped>\n    .dataframe tbody tr th:only-of-type {\n        vertical-align: middle;\n    }\n\n    .dataframe tbody tr th {\n        vertical-align: top;\n    }\n\n    .dataframe thead th {\n        text-align: right;\n    }\n</style>\n<table border=\"1\" class=\"dataframe\">\n  <thead>\n    <tr style=\"text-align: right;\">\n      <th></th>\n      <th>MolID</th>\n      <th>target_permeator</th>\n      <th>BalabanJ</th>\n      <th>BertzCT</th>\n      <th>Chi0</th>\n      <th>Chi1</th>\n      <th>Chi0n</th>\n      <th>Chi1n</th>\n      <th>Chi2n</th>\n      <th>Chi3n</th>\n      <th>...</th>\n      <th>PMI3</th>\n      <th>RadiusOfGyration</th>\n      <th>SpherocityIndex</th>\n      <th>avg_asphericity</th>\n      <th>avg_acylindricity</th>\n      <th>avg_kappa2</th>\n      <th>avg_rg</th>\n      <th>avg_largest_principal_rg</th>\n      <th>avg_middle_principal_rg</th>\n      <th>avg_smallest_principal_rg</th>\n    </tr>\n  </thead>\n  <tbody>\n    <tr>\n      <th>0</th>\n      <td>1500272</td>\n      <td>0</td>\n      <td>1.429</td>\n      <td>1053.463</td>\n      <td>24.526</td>\n      <td>17.092</td>\n      <td>21.986</td>\n      <td>13.271</td>\n      <td>10.508</td>\n      <td>8.949</td>\n      <td>...</td>\n      <td>8960.40</td>\n      <td>4.71</td>\n      <td>0.26</td>\n      <td>0.377154</td>\n      <td>0.212826</td>\n      <td>0.287922</td>\n      <td>0.526401</td>\n      <td>0.505270</td>\n      <td>0.457168</td>\n      <td>0.299362</td>\n    </tr>\n    <tr>\n      <th>1</th>\n      <td>1501007</td>\n      <td>0</td>\n      <td>1.868</td>\n      <td>592.306</td>\n      <td>16.113</td>\n      <td>10.436</td>\n      <td>12.477</td>\n      <td>7.260</td>\n      <td>5.618</td>\n      <td>3.565</td>\n      <td>...</td>\n      <td>5322.33</td>\n      <td>4.43</td>\n      <td>0.13</td>\n      <td>0.310194</td>\n      <td>0.123611</td>\n      <td>0.349557</td>\n      <td>0.411174</td>\n      <td>0.391925</td>\n      <td>0.369452</td>\n      <td>0.216417</td>\n    </tr>\n    <tr>\n      <th>2</th>\n      <td>1501150</td>\n      <td>1</td>\n      <td>2.143</td>\n      <td>675.300</td>\n      <td>17.035</td>\n      <td>10.863</td>\n      <td>13.464</td>\n      <td>7.701</td>\n      <td>5.718</td>\n      <td>4.335</td>\n      <td>...</td>\n      <td>4454.32</td>\n      <td>3.82</td>\n      <td>0.13</td>\n      <td>0.307322</td>\n      <td>0.156884</td>\n      <td>0.302154</td>\n      <td>0.421545</td>\n      <td>0.403439</td>\n      <td>0.370261</td>\n      <td>0.235260</td>\n    </tr>\n    <tr>\n      <th>3</th>\n      <td>1503100</td>\n      <td>1</td>\n      <td>1.453</td>\n      <td>912.788</td>\n      <td>20.096</td>\n      <td>13.507</td>\n      <td>16.903</td>\n      <td>9.734</td>\n      <td>7.208</td>\n      <td>5.436</td>\n      <td>...</td>\n      <td>6975.32</td>\n      <td>4.50</td>\n      <td>0.21</td>\n      <td>0.402013</td>\n      <td>0.129149</td>\n      <td>0.435131</td>\n      <td>0.498724</td>\n      <td>0.478465</td>\n      <td>0.459285</td>\n      <td>0.236546</td>\n    </tr>\n    <tr>\n      <th>4</th>\n      <td>1503243</td>\n      <td>0</td>\n      <td>1.847</td>\n      <td>673.567</td>\n      <td>17.527</td>\n      <td>11.469</td>\n      <td>13.852</td>\n      <td>8.151</td>\n      <td>6.130</td>\n      <td>4.164</td>\n      <td>...</td>\n      <td>6455.60</td>\n      <td>4.67</td>\n      <td>0.11</td>\n      <td>0.365638</td>\n      <td>0.124397</td>\n      <td>0.441792</td>\n      <td>0.454138</td>\n      <td>0.437384</td>\n      <td>0.416621</td>\n      <td>0.212002</td>\n    </tr>\n  </tbody>\n</table>\n<p>5 rows × 219 columns</p>\n</div>"
     },
     "metadata": {},
     "execution_count": 1
    }
   ],
   "source": [
    "#load pandas and numpy modules\n",
    "import os \n",
    "import pandas as pd\n",
    "import numpy as np\n",
    "import matplotlib.pyplot as plt\n",
    "\n",
    "#read raw data\n",
    "df = pd.read_csv('dataset.csv')\n",
    "\n",
    "if df.isnull().values.any():\n",
    "    print ('missing values!')\n",
    "else:\n",
    "    print('pass')\n",
    "\n",
    "df.head()"
   ]
  },
  {
   "source": [
    "## 1. Hyper-parameter tuning"
   ],
   "cell_type": "markdown",
   "metadata": {}
  },
  {
   "cell_type": "code",
   "execution_count": 7,
   "metadata": {},
   "outputs": [],
   "source": [
    "from imblearn.over_sampling import KMeansSMOTE\n",
    "from sklearn.cluster import KMeans\n",
    "from imblearn.pipeline import Pipeline\n",
    "from sklearn.preprocessing import StandardScaler\n",
    "from sklearn.ensemble import RandomForestClassifier\n",
    "from sklearn.metrics import recall_score,accuracy_score,confusion_matrix, f1_score, precision_score,roc_auc_score,roc_curve\n",
    "from sklearn.model_selection import StratifiedKFold, LeaveOneOut, ParameterGrid, cross_val_predict\n",
    "\n",
    "RF_param_grid = {\"n_estimators\" : [100, 200, 400, 800],\n",
    "                 \"min_samples_leaf\" : [1,2],\n",
    "                 \"max_features\" : [None,'sqrt','log2']}\n",
    "\n",
    "def grid_search_loocv(X, y, estimator, sampler, param_grid):\n",
    "    # search for best hyper-parameter in leave-one-out style\n",
    "    from operator import itemgetter\n",
    "    cv = LeaveOneOut()\n",
    "    param_combinations = ParameterGrid(param_grid)\n",
    "    result_list = []\n",
    "    Y_pred = np.array([])\n",
    "    metric_cols=['F1','precision','recall','accuracy', 'AUROC','confusion_matrix', 'hyper-parameter combination']\n",
    "    print(\"---all combinations with score metrics---\")\n",
    "    print('|'.join(metric_cols)) # title row\n",
    "    \n",
    "    for param in param_combinations:\n",
    "        model = Pipeline([('over-sampling', sampler), ('clf', estimator.set_params(**param))])\n",
    "        pred_probs = cross_val_predict(model, X, y, cv=cv, n_jobs=-1, method='predict_proba')\n",
    "        Y_pred = pred_probs.argmax(axis=1)\n",
    "\n",
    "        # claculate metrics\n",
    "        f1 = round(f1_score(y,Y_pred),3)\n",
    "        prec = round(precision_score(y,Y_pred),3)\n",
    "        recall = round(recall_score(y,Y_pred),3)\n",
    "        acc = round(accuracy_score(y,Y_pred),3)\n",
    "        AUC = round(roc_auc_score(y, pred_probs[:,1]),3)\n",
    "        conf = confusion_matrix(y,Y_pred).tolist()\n",
    "\n",
    "        print((f1, prec, recall, acc, AUC, conf, param))\n",
    "        result_list.append((f1, prec, recall, acc, AUC, conf, param))\n",
    "\n",
    "    top_param = max(result_list,key=itemgetter(3)) # rank by accuracy\n",
    "    print(\"---------------------\")\n",
    "    print(f\"tuned parameteres:{top_param}\\n\") # best parameters combination\n",
    "    \n",
    "    return top_param[-1]"
   ]
  },
  {
   "cell_type": "code",
   "execution_count": 3,
   "metadata": {},
   "outputs": [
    {
     "output_type": "stream",
     "name": "stdout",
     "text": [
      "#positive/negative: 20/63\n",
      "---all combinations with score metrics---\n",
      "F1|precision|recall|accuracy|AUROC|confusion_matrix|hyper-parameter combination\n",
      "(0.486, 0.529, 0.45, 0.771, 0.632, [[55, 8], [11, 9]], {'max_features': None, 'min_samples_leaf': 1, 'n_estimators': 100})\n",
      "(0.444, 0.5, 0.4, 0.759, 0.629, [[55, 8], [12, 8]], {'max_features': None, 'min_samples_leaf': 1, 'n_estimators': 200})\n",
      "(0.444, 0.5, 0.4, 0.759, 0.639, [[55, 8], [12, 8]], {'max_features': None, 'min_samples_leaf': 1, 'n_estimators': 400})\n",
      "(0.444, 0.5, 0.4, 0.759, 0.644, [[55, 8], [12, 8]], {'max_features': None, 'min_samples_leaf': 1, 'n_estimators': 800})\n",
      "(0.514, 0.6, 0.45, 0.795, 0.656, [[57, 6], [11, 9]], {'max_features': None, 'min_samples_leaf': 2, 'n_estimators': 100})\n",
      "(0.5, 0.562, 0.45, 0.783, 0.656, [[56, 7], [11, 9]], {'max_features': None, 'min_samples_leaf': 2, 'n_estimators': 200})\n",
      "(0.5, 0.562, 0.45, 0.783, 0.648, [[56, 7], [11, 9]], {'max_features': None, 'min_samples_leaf': 2, 'n_estimators': 400})\n",
      "(0.485, 0.615, 0.4, 0.795, 0.648, [[58, 5], [12, 8]], {'max_features': None, 'min_samples_leaf': 2, 'n_estimators': 800})\n",
      "(0.353, 0.429, 0.3, 0.735, 0.655, [[55, 8], [14, 6]], {'max_features': 'sqrt', 'min_samples_leaf': 1, 'n_estimators': 100})\n",
      "(0.364, 0.462, 0.3, 0.747, 0.642, [[56, 7], [14, 6]], {'max_features': 'sqrt', 'min_samples_leaf': 1, 'n_estimators': 200})\n",
      "(0.364, 0.462, 0.3, 0.747, 0.635, [[56, 7], [14, 6]], {'max_features': 'sqrt', 'min_samples_leaf': 1, 'n_estimators': 400})\n",
      "(0.353, 0.429, 0.3, 0.735, 0.638, [[55, 8], [14, 6]], {'max_features': 'sqrt', 'min_samples_leaf': 1, 'n_estimators': 800})\n",
      "(0.424, 0.538, 0.35, 0.771, 0.667, [[57, 6], [13, 7]], {'max_features': 'sqrt', 'min_samples_leaf': 2, 'n_estimators': 100})\n",
      "(0.412, 0.5, 0.35, 0.759, 0.66, [[56, 7], [13, 7]], {'max_features': 'sqrt', 'min_samples_leaf': 2, 'n_estimators': 200})\n",
      "(0.424, 0.538, 0.35, 0.771, 0.649, [[57, 6], [13, 7]], {'max_features': 'sqrt', 'min_samples_leaf': 2, 'n_estimators': 400})\n",
      "(0.412, 0.5, 0.35, 0.759, 0.644, [[56, 7], [13, 7]], {'max_features': 'sqrt', 'min_samples_leaf': 2, 'n_estimators': 800})\n",
      "(0.323, 0.455, 0.25, 0.747, 0.623, [[57, 6], [15, 5]], {'max_features': 'log2', 'min_samples_leaf': 1, 'n_estimators': 100})\n",
      "(0.412, 0.5, 0.35, 0.759, 0.627, [[56, 7], [13, 7]], {'max_features': 'log2', 'min_samples_leaf': 1, 'n_estimators': 200})\n",
      "(0.353, 0.429, 0.3, 0.735, 0.63, [[55, 8], [14, 6]], {'max_features': 'log2', 'min_samples_leaf': 1, 'n_estimators': 400})\n",
      "(0.353, 0.429, 0.3, 0.735, 0.637, [[55, 8], [14, 6]], {'max_features': 'log2', 'min_samples_leaf': 1, 'n_estimators': 800})\n",
      "(0.375, 0.5, 0.3, 0.759, 0.65, [[57, 6], [14, 6]], {'max_features': 'log2', 'min_samples_leaf': 2, 'n_estimators': 100})\n",
      "(0.424, 0.538, 0.35, 0.771, 0.654, [[57, 6], [13, 7]], {'max_features': 'log2', 'min_samples_leaf': 2, 'n_estimators': 200})\n",
      "(0.424, 0.538, 0.35, 0.771, 0.652, [[57, 6], [13, 7]], {'max_features': 'log2', 'min_samples_leaf': 2, 'n_estimators': 400})\n",
      "(0.412, 0.5, 0.35, 0.759, 0.652, [[56, 7], [13, 7]], {'max_features': 'log2', 'min_samples_leaf': 2, 'n_estimators': 800})\n",
      "---------------------\n",
      "tuned parameteres:(0.514, 0.6, 0.45, 0.795, 0.656, [[57, 6], [11, 9]], {'max_features': None, 'min_samples_leaf': 2, 'n_estimators': 100})\n",
      "\n"
     ]
    }
   ],
   "source": [
    "Ycolumn = 'target_permeator'\n",
    "\n",
    "descriptors = ['PMI1','avg_smallest_principal_rg','NumHDonors','TPSA','avg_kappa2','avg_rg','Kappa3','NumRotatableBonds','HallKierAlpha','FpDensityMorgan2','NumHAcceptors','NumHeteroatoms','LabuteASA','NumAromaticCarbocycles','NumAromaticRings','NPR2','EState_VSA2','MaxAbsEStateIndex','NumAliphaticHeterocycles','FractionCSP3','NumAliphaticCarbocycles','MinAbsEStateIndex','MinPartialCharge','NumAromaticHeterocycles','NPR1','MaxAbsPartialCharge','MinEStateIndex','avg_acylindricity','MinAbsPartialCharge','MolLogP'] # Features after clustering\n",
    "\n",
    "# specify X and Y\n",
    "Y = df.iloc[:, 1]\n",
    "X_raw = df.iloc[:, 2:]\n",
    "\n",
    "if Y.isnull().values.any():\n",
    "    print(\"Warning: NaN found\")\n",
    "\n",
    "# standardize X to have mean and std 0 and 1\n",
    "X = StandardScaler().fit_transform(X_raw[descriptors])\n",
    "Y = Y.to_numpy()\n",
    "\n",
    "# count positive and negative samples to show skewness\n",
    "# print(f\"#positive/negative: {sum(Y)}/{len(Y)-sum(Y)}\")\n",
    "\n",
    "RF = RandomForestClassifier(random_state=0)\n",
    "sampler = KMeansSMOTE(kmeans_estimator=KMeans(n_clusters=9, random_state=22), k_neighbors=2, cluster_balance_threshold=0.2, n_jobs=-1, random_state=22)\n",
    "\n",
    "top_param = grid_search_loocv(X, Y, RF, sampler, RF_param_grid)"
   ]
  },
  {
   "source": [
    "## 2. Leave-one-out cross validation with tunned hyper-parameter set"
   ],
   "cell_type": "markdown",
   "metadata": {}
  },
  {
   "cell_type": "code",
   "execution_count": 9,
   "metadata": {},
   "outputs": [
    {
     "output_type": "stream",
     "name": "stdout",
     "text": [
      "---leave one out validation with best parameter set---\n",
      "      F1  precision  recall  accuracy  AUROC    confusion_matrix\n",
      "0  0.514        0.6    0.45     0.795  0.656  [[57, 6], [11, 9]]\n"
     ]
    },
    {
     "output_type": "display_data",
     "data": {
      "text/plain": "<Figure size 432x288 with 1 Axes>",
      "image/svg+xml": "<?xml version=\"1.0\" encoding=\"utf-8\" standalone=\"no\"?>\r\n<!DOCTYPE svg PUBLIC \"-//W3C//DTD SVG 1.1//EN\"\r\n  \"http://www.w3.org/Graphics/SVG/1.1/DTD/svg11.dtd\">\r\n<!-- Created with matplotlib (https://matplotlib.org/) -->\r\n<svg height=\"265.995469pt\" version=\"1.1\" viewBox=\"0 0 393.732813 265.995469\" width=\"393.732813pt\" xmlns=\"http://www.w3.org/2000/svg\" xmlns:xlink=\"http://www.w3.org/1999/xlink\">\r\n <metadata>\r\n  <rdf:RDF xmlns:cc=\"http://creativecommons.org/ns#\" xmlns:dc=\"http://purl.org/dc/elements/1.1/\" xmlns:rdf=\"http://www.w3.org/1999/02/22-rdf-syntax-ns#\">\r\n   <cc:Work>\r\n    <dc:type rdf:resource=\"http://purl.org/dc/dcmitype/StillImage\"/>\r\n    <dc:date>2021-06-08T11:40:32.535211</dc:date>\r\n    <dc:format>image/svg+xml</dc:format>\r\n    <dc:creator>\r\n     <cc:Agent>\r\n      <dc:title>Matplotlib v3.3.4, https://matplotlib.org/</dc:title>\r\n     </cc:Agent>\r\n    </dc:creator>\r\n   </cc:Work>\r\n  </rdf:RDF>\r\n </metadata>\r\n <defs>\r\n  <style type=\"text/css\">*{stroke-linecap:butt;stroke-linejoin:round;}</style>\r\n </defs>\r\n <g id=\"figure_1\">\r\n  <g id=\"patch_1\">\r\n   <path d=\"M 0 265.995469 \r\nL 393.732813 265.995469 \r\nL 393.732813 0 \r\nL 0 0 \r\nz\r\n\" style=\"fill:none;\"/>\r\n  </g>\r\n  <g id=\"axes_1\">\r\n   <g id=\"patch_2\">\r\n    <path d=\"M 43.78125 228.439219 \r\nL 378.58125 228.439219 \r\nL 378.58125 10.999219 \r\nL 43.78125 10.999219 \r\nz\r\n\" style=\"fill:#ffffff;\"/>\r\n   </g>\r\n   <g id=\"PolyCollection_1\">\r\n    <path clip-path=\"url(#p91d09ac17f)\" d=\"M 43.78125 228.439219 \r\nL 43.78125 228.439219 \r\nL 55.326078 57.364362 \r\nL 66.870905 57.364362 \r\nL 78.415733 43.6796 \r\nL 89.96056 43.6796 \r\nL 101.505388 26.198277 \r\nL 113.050216 26.198277 \r\nL 124.595043 24.421937 \r\nL 136.139871 29.115792 \r\nL 147.684698 29.115792 \r\nL 159.229526 45.778748 \r\nL 170.774353 45.778748 \r\nL 182.319181 10.999219 \r\nL 193.864009 10.999219 \r\nL 205.408836 10.999219 \r\nL 216.953664 10.999219 \r\nL 228.498491 10.999219 \r\nL 240.043319 10.999219 \r\nL 251.588147 10.999219 \r\nL 263.132974 10.999219 \r\nL 274.677802 10.999219 \r\nL 286.222629 10.999219 \r\nL 297.767457 10.999219 \r\nL 309.312284 10.999219 \r\nL 320.857112 10.999219 \r\nL 332.40194 10.999219 \r\nL 343.946767 10.999219 \r\nL 355.491595 10.999219 \r\nL 367.036422 10.999219 \r\nL 378.58125 10.999219 \r\nL 378.58125 10.999219 \r\nL 378.58125 10.999219 \r\nL 367.036422 10.999219 \r\nL 355.491595 10.999219 \r\nL 343.946767 64.489459 \r\nL 332.40194 64.489459 \r\nL 320.857112 64.489459 \r\nL 309.312284 64.489459 \r\nL 297.767457 64.489459 \r\nL 286.222629 64.489459 \r\nL 274.677802 95.81169 \r\nL 263.132974 132.744573 \r\nL 251.588147 132.744573 \r\nL 240.043319 155.962645 \r\nL 228.498491 172.339699 \r\nL 216.953664 172.339699 \r\nL 205.408836 172.339699 \r\nL 193.864009 172.339699 \r\nL 182.319181 172.339699 \r\nL 170.774353 150.17169 \r\nL 159.229526 150.17169 \r\nL 147.684698 188.578645 \r\nL 136.139871 188.578645 \r\nL 124.595043 215.0165 \r\nL 113.050216 234.98416 \r\nL 101.505388 234.98416 \r\nL 89.96056 260.990837 \r\nL 78.415733 260.990837 \r\nL 66.870905 290.794076 \r\nL 55.326078 290.794076 \r\nL 43.78125 228.439219 \r\nz\r\n\" style=\"fill:#0000ff;fill-opacity:0.3;stroke:#0000ff;stroke-opacity:0.3;\"/>\r\n   </g>\r\n   <g id=\"matplotlib.axis_1\">\r\n    <g id=\"xtick_1\">\r\n     <g id=\"line2d_1\">\r\n      <defs>\r\n       <path d=\"M 0 0 \r\nL 0 3.5 \r\n\" id=\"m794b5008ee\" style=\"stroke:#000000;stroke-width:0.8;\"/>\r\n      </defs>\r\n      <g>\r\n       <use style=\"stroke:#000000;stroke-width:0.8;\" x=\"43.78125\" xlink:href=\"#m794b5008ee\" y=\"228.439219\"/>\r\n      </g>\r\n     </g>\r\n     <g id=\"text_1\">\r\n      <!-- 0.0 -->\r\n      <g transform=\"translate(35.829688 243.037656)scale(0.1 -0.1)\">\r\n       <defs>\r\n        <path d=\"M 31.78125 66.40625 \r\nQ 24.171875 66.40625 20.328125 58.90625 \r\nQ 16.5 51.421875 16.5 36.375 \r\nQ 16.5 21.390625 20.328125 13.890625 \r\nQ 24.171875 6.390625 31.78125 6.390625 \r\nQ 39.453125 6.390625 43.28125 13.890625 \r\nQ 47.125 21.390625 47.125 36.375 \r\nQ 47.125 51.421875 43.28125 58.90625 \r\nQ 39.453125 66.40625 31.78125 66.40625 \r\nz\r\nM 31.78125 74.21875 \r\nQ 44.046875 74.21875 50.515625 64.515625 \r\nQ 56.984375 54.828125 56.984375 36.375 \r\nQ 56.984375 17.96875 50.515625 8.265625 \r\nQ 44.046875 -1.421875 31.78125 -1.421875 \r\nQ 19.53125 -1.421875 13.0625 8.265625 \r\nQ 6.59375 17.96875 6.59375 36.375 \r\nQ 6.59375 54.828125 13.0625 64.515625 \r\nQ 19.53125 74.21875 31.78125 74.21875 \r\nz\r\n\" id=\"DejaVuSans-48\"/>\r\n        <path d=\"M 10.6875 12.40625 \r\nL 21 12.40625 \r\nL 21 0 \r\nL 10.6875 0 \r\nz\r\n\" id=\"DejaVuSans-46\"/>\r\n       </defs>\r\n       <use xlink:href=\"#DejaVuSans-48\"/>\r\n       <use x=\"63.623047\" xlink:href=\"#DejaVuSans-46\"/>\r\n       <use x=\"95.410156\" xlink:href=\"#DejaVuSans-48\"/>\r\n      </g>\r\n     </g>\r\n    </g>\r\n    <g id=\"xtick_2\">\r\n     <g id=\"line2d_2\">\r\n      <g>\r\n       <use style=\"stroke:#000000;stroke-width:0.8;\" x=\"110.74125\" xlink:href=\"#m794b5008ee\" y=\"228.439219\"/>\r\n      </g>\r\n     </g>\r\n     <g id=\"text_2\">\r\n      <!-- 0.2 -->\r\n      <g transform=\"translate(102.789688 243.037656)scale(0.1 -0.1)\">\r\n       <defs>\r\n        <path d=\"M 19.1875 8.296875 \r\nL 53.609375 8.296875 \r\nL 53.609375 0 \r\nL 7.328125 0 \r\nL 7.328125 8.296875 \r\nQ 12.9375 14.109375 22.625 23.890625 \r\nQ 32.328125 33.6875 34.8125 36.53125 \r\nQ 39.546875 41.84375 41.421875 45.53125 \r\nQ 43.3125 49.21875 43.3125 52.78125 \r\nQ 43.3125 58.59375 39.234375 62.25 \r\nQ 35.15625 65.921875 28.609375 65.921875 \r\nQ 23.96875 65.921875 18.8125 64.3125 \r\nQ 13.671875 62.703125 7.8125 59.421875 \r\nL 7.8125 69.390625 \r\nQ 13.765625 71.78125 18.9375 73 \r\nQ 24.125 74.21875 28.421875 74.21875 \r\nQ 39.75 74.21875 46.484375 68.546875 \r\nQ 53.21875 62.890625 53.21875 53.421875 \r\nQ 53.21875 48.921875 51.53125 44.890625 \r\nQ 49.859375 40.875 45.40625 35.40625 \r\nQ 44.1875 33.984375 37.640625 27.21875 \r\nQ 31.109375 20.453125 19.1875 8.296875 \r\nz\r\n\" id=\"DejaVuSans-50\"/>\r\n       </defs>\r\n       <use xlink:href=\"#DejaVuSans-48\"/>\r\n       <use x=\"63.623047\" xlink:href=\"#DejaVuSans-46\"/>\r\n       <use x=\"95.410156\" xlink:href=\"#DejaVuSans-50\"/>\r\n      </g>\r\n     </g>\r\n    </g>\r\n    <g id=\"xtick_3\">\r\n     <g id=\"line2d_3\">\r\n      <g>\r\n       <use style=\"stroke:#000000;stroke-width:0.8;\" x=\"177.70125\" xlink:href=\"#m794b5008ee\" y=\"228.439219\"/>\r\n      </g>\r\n     </g>\r\n     <g id=\"text_3\">\r\n      <!-- 0.4 -->\r\n      <g transform=\"translate(169.749688 243.037656)scale(0.1 -0.1)\">\r\n       <defs>\r\n        <path d=\"M 37.796875 64.3125 \r\nL 12.890625 25.390625 \r\nL 37.796875 25.390625 \r\nz\r\nM 35.203125 72.90625 \r\nL 47.609375 72.90625 \r\nL 47.609375 25.390625 \r\nL 58.015625 25.390625 \r\nL 58.015625 17.1875 \r\nL 47.609375 17.1875 \r\nL 47.609375 0 \r\nL 37.796875 0 \r\nL 37.796875 17.1875 \r\nL 4.890625 17.1875 \r\nL 4.890625 26.703125 \r\nz\r\n\" id=\"DejaVuSans-52\"/>\r\n       </defs>\r\n       <use xlink:href=\"#DejaVuSans-48\"/>\r\n       <use x=\"63.623047\" xlink:href=\"#DejaVuSans-46\"/>\r\n       <use x=\"95.410156\" xlink:href=\"#DejaVuSans-52\"/>\r\n      </g>\r\n     </g>\r\n    </g>\r\n    <g id=\"xtick_4\">\r\n     <g id=\"line2d_4\">\r\n      <g>\r\n       <use style=\"stroke:#000000;stroke-width:0.8;\" x=\"244.66125\" xlink:href=\"#m794b5008ee\" y=\"228.439219\"/>\r\n      </g>\r\n     </g>\r\n     <g id=\"text_4\">\r\n      <!-- 0.6 -->\r\n      <g transform=\"translate(236.709688 243.037656)scale(0.1 -0.1)\">\r\n       <defs>\r\n        <path d=\"M 33.015625 40.375 \r\nQ 26.375 40.375 22.484375 35.828125 \r\nQ 18.609375 31.296875 18.609375 23.390625 \r\nQ 18.609375 15.53125 22.484375 10.953125 \r\nQ 26.375 6.390625 33.015625 6.390625 \r\nQ 39.65625 6.390625 43.53125 10.953125 \r\nQ 47.40625 15.53125 47.40625 23.390625 \r\nQ 47.40625 31.296875 43.53125 35.828125 \r\nQ 39.65625 40.375 33.015625 40.375 \r\nz\r\nM 52.59375 71.296875 \r\nL 52.59375 62.3125 \r\nQ 48.875 64.0625 45.09375 64.984375 \r\nQ 41.3125 65.921875 37.59375 65.921875 \r\nQ 27.828125 65.921875 22.671875 59.328125 \r\nQ 17.53125 52.734375 16.796875 39.40625 \r\nQ 19.671875 43.65625 24.015625 45.921875 \r\nQ 28.375 48.1875 33.59375 48.1875 \r\nQ 44.578125 48.1875 50.953125 41.515625 \r\nQ 57.328125 34.859375 57.328125 23.390625 \r\nQ 57.328125 12.15625 50.6875 5.359375 \r\nQ 44.046875 -1.421875 33.015625 -1.421875 \r\nQ 20.359375 -1.421875 13.671875 8.265625 \r\nQ 6.984375 17.96875 6.984375 36.375 \r\nQ 6.984375 53.65625 15.1875 63.9375 \r\nQ 23.390625 74.21875 37.203125 74.21875 \r\nQ 40.921875 74.21875 44.703125 73.484375 \r\nQ 48.484375 72.75 52.59375 71.296875 \r\nz\r\n\" id=\"DejaVuSans-54\"/>\r\n       </defs>\r\n       <use xlink:href=\"#DejaVuSans-48\"/>\r\n       <use x=\"63.623047\" xlink:href=\"#DejaVuSans-46\"/>\r\n       <use x=\"95.410156\" xlink:href=\"#DejaVuSans-54\"/>\r\n      </g>\r\n     </g>\r\n    </g>\r\n    <g id=\"xtick_5\">\r\n     <g id=\"line2d_5\">\r\n      <g>\r\n       <use style=\"stroke:#000000;stroke-width:0.8;\" x=\"311.62125\" xlink:href=\"#m794b5008ee\" y=\"228.439219\"/>\r\n      </g>\r\n     </g>\r\n     <g id=\"text_5\">\r\n      <!-- 0.8 -->\r\n      <g transform=\"translate(303.669688 243.037656)scale(0.1 -0.1)\">\r\n       <defs>\r\n        <path d=\"M 31.78125 34.625 \r\nQ 24.75 34.625 20.71875 30.859375 \r\nQ 16.703125 27.09375 16.703125 20.515625 \r\nQ 16.703125 13.921875 20.71875 10.15625 \r\nQ 24.75 6.390625 31.78125 6.390625 \r\nQ 38.8125 6.390625 42.859375 10.171875 \r\nQ 46.921875 13.96875 46.921875 20.515625 \r\nQ 46.921875 27.09375 42.890625 30.859375 \r\nQ 38.875 34.625 31.78125 34.625 \r\nz\r\nM 21.921875 38.8125 \r\nQ 15.578125 40.375 12.03125 44.71875 \r\nQ 8.5 49.078125 8.5 55.328125 \r\nQ 8.5 64.0625 14.71875 69.140625 \r\nQ 20.953125 74.21875 31.78125 74.21875 \r\nQ 42.671875 74.21875 48.875 69.140625 \r\nQ 55.078125 64.0625 55.078125 55.328125 \r\nQ 55.078125 49.078125 51.53125 44.71875 \r\nQ 48 40.375 41.703125 38.8125 \r\nQ 48.828125 37.15625 52.796875 32.3125 \r\nQ 56.78125 27.484375 56.78125 20.515625 \r\nQ 56.78125 9.90625 50.3125 4.234375 \r\nQ 43.84375 -1.421875 31.78125 -1.421875 \r\nQ 19.734375 -1.421875 13.25 4.234375 \r\nQ 6.78125 9.90625 6.78125 20.515625 \r\nQ 6.78125 27.484375 10.78125 32.3125 \r\nQ 14.796875 37.15625 21.921875 38.8125 \r\nz\r\nM 18.3125 54.390625 \r\nQ 18.3125 48.734375 21.84375 45.5625 \r\nQ 25.390625 42.390625 31.78125 42.390625 \r\nQ 38.140625 42.390625 41.71875 45.5625 \r\nQ 45.3125 48.734375 45.3125 54.390625 \r\nQ 45.3125 60.0625 41.71875 63.234375 \r\nQ 38.140625 66.40625 31.78125 66.40625 \r\nQ 25.390625 66.40625 21.84375 63.234375 \r\nQ 18.3125 60.0625 18.3125 54.390625 \r\nz\r\n\" id=\"DejaVuSans-56\"/>\r\n       </defs>\r\n       <use xlink:href=\"#DejaVuSans-48\"/>\r\n       <use x=\"63.623047\" xlink:href=\"#DejaVuSans-46\"/>\r\n       <use x=\"95.410156\" xlink:href=\"#DejaVuSans-56\"/>\r\n      </g>\r\n     </g>\r\n    </g>\r\n    <g id=\"xtick_6\">\r\n     <g id=\"line2d_6\">\r\n      <g>\r\n       <use style=\"stroke:#000000;stroke-width:0.8;\" x=\"378.58125\" xlink:href=\"#m794b5008ee\" y=\"228.439219\"/>\r\n      </g>\r\n     </g>\r\n     <g id=\"text_6\">\r\n      <!-- 1.0 -->\r\n      <g transform=\"translate(370.629687 243.037656)scale(0.1 -0.1)\">\r\n       <defs>\r\n        <path d=\"M 12.40625 8.296875 \r\nL 28.515625 8.296875 \r\nL 28.515625 63.921875 \r\nL 10.984375 60.40625 \r\nL 10.984375 69.390625 \r\nL 28.421875 72.90625 \r\nL 38.28125 72.90625 \r\nL 38.28125 8.296875 \r\nL 54.390625 8.296875 \r\nL 54.390625 0 \r\nL 12.40625 0 \r\nz\r\n\" id=\"DejaVuSans-49\"/>\r\n       </defs>\r\n       <use xlink:href=\"#DejaVuSans-49\"/>\r\n       <use x=\"63.623047\" xlink:href=\"#DejaVuSans-46\"/>\r\n       <use x=\"95.410156\" xlink:href=\"#DejaVuSans-48\"/>\r\n      </g>\r\n     </g>\r\n    </g>\r\n    <g id=\"text_7\">\r\n     <!-- False positive rate -->\r\n     <g transform=\"translate(165.680469 256.715781)scale(0.1 -0.1)\">\r\n      <defs>\r\n       <path d=\"M 9.8125 72.90625 \r\nL 51.703125 72.90625 \r\nL 51.703125 64.59375 \r\nL 19.671875 64.59375 \r\nL 19.671875 43.109375 \r\nL 48.578125 43.109375 \r\nL 48.578125 34.8125 \r\nL 19.671875 34.8125 \r\nL 19.671875 0 \r\nL 9.8125 0 \r\nz\r\n\" id=\"DejaVuSans-70\"/>\r\n       <path d=\"M 34.28125 27.484375 \r\nQ 23.390625 27.484375 19.1875 25 \r\nQ 14.984375 22.515625 14.984375 16.5 \r\nQ 14.984375 11.71875 18.140625 8.90625 \r\nQ 21.296875 6.109375 26.703125 6.109375 \r\nQ 34.1875 6.109375 38.703125 11.40625 \r\nQ 43.21875 16.703125 43.21875 25.484375 \r\nL 43.21875 27.484375 \r\nz\r\nM 52.203125 31.203125 \r\nL 52.203125 0 \r\nL 43.21875 0 \r\nL 43.21875 8.296875 \r\nQ 40.140625 3.328125 35.546875 0.953125 \r\nQ 30.953125 -1.421875 24.3125 -1.421875 \r\nQ 15.921875 -1.421875 10.953125 3.296875 \r\nQ 6 8.015625 6 15.921875 \r\nQ 6 25.140625 12.171875 29.828125 \r\nQ 18.359375 34.515625 30.609375 34.515625 \r\nL 43.21875 34.515625 \r\nL 43.21875 35.40625 \r\nQ 43.21875 41.609375 39.140625 45 \r\nQ 35.0625 48.390625 27.6875 48.390625 \r\nQ 23 48.390625 18.546875 47.265625 \r\nQ 14.109375 46.140625 10.015625 43.890625 \r\nL 10.015625 52.203125 \r\nQ 14.9375 54.109375 19.578125 55.046875 \r\nQ 24.21875 56 28.609375 56 \r\nQ 40.484375 56 46.34375 49.84375 \r\nQ 52.203125 43.703125 52.203125 31.203125 \r\nz\r\n\" id=\"DejaVuSans-97\"/>\r\n       <path d=\"M 9.421875 75.984375 \r\nL 18.40625 75.984375 \r\nL 18.40625 0 \r\nL 9.421875 0 \r\nz\r\n\" id=\"DejaVuSans-108\"/>\r\n       <path d=\"M 44.28125 53.078125 \r\nL 44.28125 44.578125 \r\nQ 40.484375 46.53125 36.375 47.5 \r\nQ 32.28125 48.484375 27.875 48.484375 \r\nQ 21.1875 48.484375 17.84375 46.4375 \r\nQ 14.5 44.390625 14.5 40.28125 \r\nQ 14.5 37.15625 16.890625 35.375 \r\nQ 19.28125 33.59375 26.515625 31.984375 \r\nL 29.59375 31.296875 \r\nQ 39.15625 29.25 43.1875 25.515625 \r\nQ 47.21875 21.78125 47.21875 15.09375 \r\nQ 47.21875 7.46875 41.1875 3.015625 \r\nQ 35.15625 -1.421875 24.609375 -1.421875 \r\nQ 20.21875 -1.421875 15.453125 -0.5625 \r\nQ 10.6875 0.296875 5.421875 2 \r\nL 5.421875 11.28125 \r\nQ 10.40625 8.6875 15.234375 7.390625 \r\nQ 20.0625 6.109375 24.8125 6.109375 \r\nQ 31.15625 6.109375 34.5625 8.28125 \r\nQ 37.984375 10.453125 37.984375 14.40625 \r\nQ 37.984375 18.0625 35.515625 20.015625 \r\nQ 33.0625 21.96875 24.703125 23.78125 \r\nL 21.578125 24.515625 \r\nQ 13.234375 26.265625 9.515625 29.90625 \r\nQ 5.8125 33.546875 5.8125 39.890625 \r\nQ 5.8125 47.609375 11.28125 51.796875 \r\nQ 16.75 56 26.8125 56 \r\nQ 31.78125 56 36.171875 55.265625 \r\nQ 40.578125 54.546875 44.28125 53.078125 \r\nz\r\n\" id=\"DejaVuSans-115\"/>\r\n       <path d=\"M 56.203125 29.59375 \r\nL 56.203125 25.203125 \r\nL 14.890625 25.203125 \r\nQ 15.484375 15.921875 20.484375 11.0625 \r\nQ 25.484375 6.203125 34.421875 6.203125 \r\nQ 39.59375 6.203125 44.453125 7.46875 \r\nQ 49.3125 8.734375 54.109375 11.28125 \r\nL 54.109375 2.78125 \r\nQ 49.265625 0.734375 44.1875 -0.34375 \r\nQ 39.109375 -1.421875 33.890625 -1.421875 \r\nQ 20.796875 -1.421875 13.15625 6.1875 \r\nQ 5.515625 13.8125 5.515625 26.8125 \r\nQ 5.515625 40.234375 12.765625 48.109375 \r\nQ 20.015625 56 32.328125 56 \r\nQ 43.359375 56 49.78125 48.890625 \r\nQ 56.203125 41.796875 56.203125 29.59375 \r\nz\r\nM 47.21875 32.234375 \r\nQ 47.125 39.59375 43.09375 43.984375 \r\nQ 39.0625 48.390625 32.421875 48.390625 \r\nQ 24.90625 48.390625 20.390625 44.140625 \r\nQ 15.875 39.890625 15.1875 32.171875 \r\nz\r\n\" id=\"DejaVuSans-101\"/>\r\n       <path id=\"DejaVuSans-32\"/>\r\n       <path d=\"M 18.109375 8.203125 \r\nL 18.109375 -20.796875 \r\nL 9.078125 -20.796875 \r\nL 9.078125 54.6875 \r\nL 18.109375 54.6875 \r\nL 18.109375 46.390625 \r\nQ 20.953125 51.265625 25.265625 53.625 \r\nQ 29.59375 56 35.59375 56 \r\nQ 45.5625 56 51.78125 48.09375 \r\nQ 58.015625 40.1875 58.015625 27.296875 \r\nQ 58.015625 14.40625 51.78125 6.484375 \r\nQ 45.5625 -1.421875 35.59375 -1.421875 \r\nQ 29.59375 -1.421875 25.265625 0.953125 \r\nQ 20.953125 3.328125 18.109375 8.203125 \r\nz\r\nM 48.6875 27.296875 \r\nQ 48.6875 37.203125 44.609375 42.84375 \r\nQ 40.53125 48.484375 33.40625 48.484375 \r\nQ 26.265625 48.484375 22.1875 42.84375 \r\nQ 18.109375 37.203125 18.109375 27.296875 \r\nQ 18.109375 17.390625 22.1875 11.75 \r\nQ 26.265625 6.109375 33.40625 6.109375 \r\nQ 40.53125 6.109375 44.609375 11.75 \r\nQ 48.6875 17.390625 48.6875 27.296875 \r\nz\r\n\" id=\"DejaVuSans-112\"/>\r\n       <path d=\"M 30.609375 48.390625 \r\nQ 23.390625 48.390625 19.1875 42.75 \r\nQ 14.984375 37.109375 14.984375 27.296875 \r\nQ 14.984375 17.484375 19.15625 11.84375 \r\nQ 23.34375 6.203125 30.609375 6.203125 \r\nQ 37.796875 6.203125 41.984375 11.859375 \r\nQ 46.1875 17.53125 46.1875 27.296875 \r\nQ 46.1875 37.015625 41.984375 42.703125 \r\nQ 37.796875 48.390625 30.609375 48.390625 \r\nz\r\nM 30.609375 56 \r\nQ 42.328125 56 49.015625 48.375 \r\nQ 55.71875 40.765625 55.71875 27.296875 \r\nQ 55.71875 13.875 49.015625 6.21875 \r\nQ 42.328125 -1.421875 30.609375 -1.421875 \r\nQ 18.84375 -1.421875 12.171875 6.21875 \r\nQ 5.515625 13.875 5.515625 27.296875 \r\nQ 5.515625 40.765625 12.171875 48.375 \r\nQ 18.84375 56 30.609375 56 \r\nz\r\n\" id=\"DejaVuSans-111\"/>\r\n       <path d=\"M 9.421875 54.6875 \r\nL 18.40625 54.6875 \r\nL 18.40625 0 \r\nL 9.421875 0 \r\nz\r\nM 9.421875 75.984375 \r\nL 18.40625 75.984375 \r\nL 18.40625 64.59375 \r\nL 9.421875 64.59375 \r\nz\r\n\" id=\"DejaVuSans-105\"/>\r\n       <path d=\"M 18.3125 70.21875 \r\nL 18.3125 54.6875 \r\nL 36.8125 54.6875 \r\nL 36.8125 47.703125 \r\nL 18.3125 47.703125 \r\nL 18.3125 18.015625 \r\nQ 18.3125 11.328125 20.140625 9.421875 \r\nQ 21.96875 7.515625 27.59375 7.515625 \r\nL 36.8125 7.515625 \r\nL 36.8125 0 \r\nL 27.59375 0 \r\nQ 17.1875 0 13.234375 3.875 \r\nQ 9.28125 7.765625 9.28125 18.015625 \r\nL 9.28125 47.703125 \r\nL 2.6875 47.703125 \r\nL 2.6875 54.6875 \r\nL 9.28125 54.6875 \r\nL 9.28125 70.21875 \r\nz\r\n\" id=\"DejaVuSans-116\"/>\r\n       <path d=\"M 2.984375 54.6875 \r\nL 12.5 54.6875 \r\nL 29.59375 8.796875 \r\nL 46.6875 54.6875 \r\nL 56.203125 54.6875 \r\nL 35.6875 0 \r\nL 23.484375 0 \r\nz\r\n\" id=\"DejaVuSans-118\"/>\r\n       <path d=\"M 41.109375 46.296875 \r\nQ 39.59375 47.171875 37.8125 47.578125 \r\nQ 36.03125 48 33.890625 48 \r\nQ 26.265625 48 22.1875 43.046875 \r\nQ 18.109375 38.09375 18.109375 28.8125 \r\nL 18.109375 0 \r\nL 9.078125 0 \r\nL 9.078125 54.6875 \r\nL 18.109375 54.6875 \r\nL 18.109375 46.1875 \r\nQ 20.953125 51.171875 25.484375 53.578125 \r\nQ 30.03125 56 36.53125 56 \r\nQ 37.453125 56 38.578125 55.875 \r\nQ 39.703125 55.765625 41.0625 55.515625 \r\nz\r\n\" id=\"DejaVuSans-114\"/>\r\n      </defs>\r\n      <use xlink:href=\"#DejaVuSans-70\"/>\r\n      <use x=\"48.394531\" xlink:href=\"#DejaVuSans-97\"/>\r\n      <use x=\"109.673828\" xlink:href=\"#DejaVuSans-108\"/>\r\n      <use x=\"137.457031\" xlink:href=\"#DejaVuSans-115\"/>\r\n      <use x=\"189.556641\" xlink:href=\"#DejaVuSans-101\"/>\r\n      <use x=\"251.080078\" xlink:href=\"#DejaVuSans-32\"/>\r\n      <use x=\"282.867188\" xlink:href=\"#DejaVuSans-112\"/>\r\n      <use x=\"346.34375\" xlink:href=\"#DejaVuSans-111\"/>\r\n      <use x=\"407.525391\" xlink:href=\"#DejaVuSans-115\"/>\r\n      <use x=\"459.625\" xlink:href=\"#DejaVuSans-105\"/>\r\n      <use x=\"487.408203\" xlink:href=\"#DejaVuSans-116\"/>\r\n      <use x=\"526.617188\" xlink:href=\"#DejaVuSans-105\"/>\r\n      <use x=\"554.400391\" xlink:href=\"#DejaVuSans-118\"/>\r\n      <use x=\"613.580078\" xlink:href=\"#DejaVuSans-101\"/>\r\n      <use x=\"675.103516\" xlink:href=\"#DejaVuSans-32\"/>\r\n      <use x=\"706.890625\" xlink:href=\"#DejaVuSans-114\"/>\r\n      <use x=\"748.003906\" xlink:href=\"#DejaVuSans-97\"/>\r\n      <use x=\"809.283203\" xlink:href=\"#DejaVuSans-116\"/>\r\n      <use x=\"848.492188\" xlink:href=\"#DejaVuSans-101\"/>\r\n     </g>\r\n    </g>\r\n   </g>\r\n   <g id=\"matplotlib.axis_2\">\r\n    <g id=\"ytick_1\">\r\n     <g id=\"line2d_7\">\r\n      <defs>\r\n       <path d=\"M 0 0 \r\nL -3.5 0 \r\n\" id=\"mf27f3770a0\" style=\"stroke:#000000;stroke-width:0.8;\"/>\r\n      </defs>\r\n      <g>\r\n       <use style=\"stroke:#000000;stroke-width:0.8;\" x=\"43.78125\" xlink:href=\"#mf27f3770a0\" y=\"228.439219\"/>\r\n      </g>\r\n     </g>\r\n     <g id=\"text_8\">\r\n      <!-- 0.0 -->\r\n      <g transform=\"translate(20.878125 232.238437)scale(0.1 -0.1)\">\r\n       <use xlink:href=\"#DejaVuSans-48\"/>\r\n       <use x=\"63.623047\" xlink:href=\"#DejaVuSans-46\"/>\r\n       <use x=\"95.410156\" xlink:href=\"#DejaVuSans-48\"/>\r\n      </g>\r\n     </g>\r\n    </g>\r\n    <g id=\"ytick_2\">\r\n     <g id=\"line2d_8\">\r\n      <g>\r\n       <use style=\"stroke:#000000;stroke-width:0.8;\" x=\"43.78125\" xlink:href=\"#mf27f3770a0\" y=\"184.951219\"/>\r\n      </g>\r\n     </g>\r\n     <g id=\"text_9\">\r\n      <!-- 0.2 -->\r\n      <g transform=\"translate(20.878125 188.750437)scale(0.1 -0.1)\">\r\n       <use xlink:href=\"#DejaVuSans-48\"/>\r\n       <use x=\"63.623047\" xlink:href=\"#DejaVuSans-46\"/>\r\n       <use x=\"95.410156\" xlink:href=\"#DejaVuSans-50\"/>\r\n      </g>\r\n     </g>\r\n    </g>\r\n    <g id=\"ytick_3\">\r\n     <g id=\"line2d_9\">\r\n      <g>\r\n       <use style=\"stroke:#000000;stroke-width:0.8;\" x=\"43.78125\" xlink:href=\"#mf27f3770a0\" y=\"141.463219\"/>\r\n      </g>\r\n     </g>\r\n     <g id=\"text_10\">\r\n      <!-- 0.4 -->\r\n      <g transform=\"translate(20.878125 145.262437)scale(0.1 -0.1)\">\r\n       <use xlink:href=\"#DejaVuSans-48\"/>\r\n       <use x=\"63.623047\" xlink:href=\"#DejaVuSans-46\"/>\r\n       <use x=\"95.410156\" xlink:href=\"#DejaVuSans-52\"/>\r\n      </g>\r\n     </g>\r\n    </g>\r\n    <g id=\"ytick_4\">\r\n     <g id=\"line2d_10\">\r\n      <g>\r\n       <use style=\"stroke:#000000;stroke-width:0.8;\" x=\"43.78125\" xlink:href=\"#mf27f3770a0\" y=\"97.975219\"/>\r\n      </g>\r\n     </g>\r\n     <g id=\"text_11\">\r\n      <!-- 0.6 -->\r\n      <g transform=\"translate(20.878125 101.774437)scale(0.1 -0.1)\">\r\n       <use xlink:href=\"#DejaVuSans-48\"/>\r\n       <use x=\"63.623047\" xlink:href=\"#DejaVuSans-46\"/>\r\n       <use x=\"95.410156\" xlink:href=\"#DejaVuSans-54\"/>\r\n      </g>\r\n     </g>\r\n    </g>\r\n    <g id=\"ytick_5\">\r\n     <g id=\"line2d_11\">\r\n      <g>\r\n       <use style=\"stroke:#000000;stroke-width:0.8;\" x=\"43.78125\" xlink:href=\"#mf27f3770a0\" y=\"54.487219\"/>\r\n      </g>\r\n     </g>\r\n     <g id=\"text_12\">\r\n      <!-- 0.8 -->\r\n      <g transform=\"translate(20.878125 58.286437)scale(0.1 -0.1)\">\r\n       <use xlink:href=\"#DejaVuSans-48\"/>\r\n       <use x=\"63.623047\" xlink:href=\"#DejaVuSans-46\"/>\r\n       <use x=\"95.410156\" xlink:href=\"#DejaVuSans-56\"/>\r\n      </g>\r\n     </g>\r\n    </g>\r\n    <g id=\"ytick_6\">\r\n     <g id=\"line2d_12\">\r\n      <g>\r\n       <use style=\"stroke:#000000;stroke-width:0.8;\" x=\"43.78125\" xlink:href=\"#mf27f3770a0\" y=\"10.999219\"/>\r\n      </g>\r\n     </g>\r\n     <g id=\"text_13\">\r\n      <!-- 1.0 -->\r\n      <g transform=\"translate(20.878125 14.798437)scale(0.1 -0.1)\">\r\n       <use xlink:href=\"#DejaVuSans-49\"/>\r\n       <use x=\"63.623047\" xlink:href=\"#DejaVuSans-46\"/>\r\n       <use x=\"95.410156\" xlink:href=\"#DejaVuSans-48\"/>\r\n      </g>\r\n     </g>\r\n    </g>\r\n    <g id=\"text_14\">\r\n     <!-- True positive rate -->\r\n     <g transform=\"translate(14.798438 163.283281)rotate(-90)scale(0.1 -0.1)\">\r\n      <defs>\r\n       <path d=\"M -0.296875 72.90625 \r\nL 61.375 72.90625 \r\nL 61.375 64.59375 \r\nL 35.5 64.59375 \r\nL 35.5 0 \r\nL 25.59375 0 \r\nL 25.59375 64.59375 \r\nL -0.296875 64.59375 \r\nz\r\n\" id=\"DejaVuSans-84\"/>\r\n       <path d=\"M 8.5 21.578125 \r\nL 8.5 54.6875 \r\nL 17.484375 54.6875 \r\nL 17.484375 21.921875 \r\nQ 17.484375 14.15625 20.5 10.265625 \r\nQ 23.53125 6.390625 29.59375 6.390625 \r\nQ 36.859375 6.390625 41.078125 11.03125 \r\nQ 45.3125 15.671875 45.3125 23.6875 \r\nL 45.3125 54.6875 \r\nL 54.296875 54.6875 \r\nL 54.296875 0 \r\nL 45.3125 0 \r\nL 45.3125 8.40625 \r\nQ 42.046875 3.421875 37.71875 1 \r\nQ 33.40625 -1.421875 27.6875 -1.421875 \r\nQ 18.265625 -1.421875 13.375 4.4375 \r\nQ 8.5 10.296875 8.5 21.578125 \r\nz\r\nM 31.109375 56 \r\nz\r\n\" id=\"DejaVuSans-117\"/>\r\n      </defs>\r\n      <use xlink:href=\"#DejaVuSans-84\"/>\r\n      <use x=\"46.333984\" xlink:href=\"#DejaVuSans-114\"/>\r\n      <use x=\"87.447266\" xlink:href=\"#DejaVuSans-117\"/>\r\n      <use x=\"150.826172\" xlink:href=\"#DejaVuSans-101\"/>\r\n      <use x=\"212.349609\" xlink:href=\"#DejaVuSans-32\"/>\r\n      <use x=\"244.136719\" xlink:href=\"#DejaVuSans-112\"/>\r\n      <use x=\"307.613281\" xlink:href=\"#DejaVuSans-111\"/>\r\n      <use x=\"368.794922\" xlink:href=\"#DejaVuSans-115\"/>\r\n      <use x=\"420.894531\" xlink:href=\"#DejaVuSans-105\"/>\r\n      <use x=\"448.677734\" xlink:href=\"#DejaVuSans-116\"/>\r\n      <use x=\"487.886719\" xlink:href=\"#DejaVuSans-105\"/>\r\n      <use x=\"515.669922\" xlink:href=\"#DejaVuSans-118\"/>\r\n      <use x=\"574.849609\" xlink:href=\"#DejaVuSans-101\"/>\r\n      <use x=\"636.373047\" xlink:href=\"#DejaVuSans-32\"/>\r\n      <use x=\"668.160156\" xlink:href=\"#DejaVuSans-114\"/>\r\n      <use x=\"709.273438\" xlink:href=\"#DejaVuSans-97\"/>\r\n      <use x=\"770.552734\" xlink:href=\"#DejaVuSans-116\"/>\r\n      <use x=\"809.761719\" xlink:href=\"#DejaVuSans-101\"/>\r\n     </g>\r\n    </g>\r\n   </g>\r\n   <g id=\"line2d_13\">\r\n    <path clip-path=\"url(#p91d09ac17f)\" d=\"M 43.78125 228.439219 \r\nL 49.095536 228.439219 \r\nL 49.095536 206.695219 \r\nL 54.409821 206.695219 \r\nL 54.409821 195.823219 \r\nL 59.724107 195.823219 \r\nL 59.724107 174.079219 \r\nL 65.038393 174.079219 \r\nL 65.038393 152.335219 \r\nL 70.352679 152.335219 \r\nL 70.352679 130.591219 \r\nL 86.295536 130.591219 \r\nL 96.924107 130.591219 \r\nL 155.38125 130.591219 \r\nL 155.38125 119.719219 \r\nL 160.695536 119.719219 \r\nL 160.695536 97.975219 \r\nL 171.324107 97.975219 \r\nL 171.324107 76.231219 \r\nL 197.895536 76.231219 \r\nL 197.895536 65.359219 \r\nL 245.724107 65.359219 \r\nL 256.352679 65.359219 \r\nL 309.495536 65.359219 \r\nL 309.495536 54.487219 \r\nL 314.809821 54.487219 \r\nL 314.809821 32.743219 \r\nL 336.066964 32.743219 \r\nL 336.066964 21.871219 \r\nL 346.695536 21.871219 \r\nL 346.695536 10.999219 \r\nL 367.952679 10.999219 \r\nL 378.58125 10.999219 \r\n\" style=\"fill:none;stroke:#0000ff;stroke-linecap:square;stroke-width:1.5;\"/>\r\n   </g>\r\n   <g id=\"line2d_14\">\r\n    <path clip-path=\"url(#p91d09ac17f)\" d=\"M 43.78125 228.439219 \r\nL 378.58125 10.999219 \r\n\" style=\"fill:none;stroke:#000000;stroke-dasharray:3.7,1.6;stroke-dashoffset:0;\"/>\r\n   </g>\r\n   <g id=\"line2d_15\">\r\n    <path clip-path=\"url(#p91d09ac17f)\" d=\"M 43.78125 228.439219 \r\nL 55.326078 57.364362 \r\nL 66.870905 57.364362 \r\nL 78.415733 43.6796 \r\nL 89.96056 43.6796 \r\nL 101.505388 26.198277 \r\nL 113.050216 26.198277 \r\nL 124.595043 24.421937 \r\nL 136.139871 29.115792 \r\nL 147.684698 29.115792 \r\nL 159.229526 45.778748 \r\nL 170.774353 45.778748 \r\nL 182.319181 10.999219 \r\nL 193.864009 10.999219 \r\nL 205.408836 10.999219 \r\nL 216.953664 10.999219 \r\nL 228.498491 10.999219 \r\nL 240.043319 10.999219 \r\nL 251.588147 10.999219 \r\nL 263.132974 10.999219 \r\nL 274.677802 10.999219 \r\nL 286.222629 10.999219 \r\nL 297.767457 10.999219 \r\nL 309.312284 10.999219 \r\nL 320.857112 10.999219 \r\nL 332.40194 10.999219 \r\nL 343.946767 10.999219 \r\nL 355.491595 10.999219 \r\nL 367.036422 10.999219 \r\nL 378.58125 10.999219 \r\n\" style=\"fill:none;stroke:#0000ff;stroke-linecap:square;stroke-opacity:0.5;stroke-width:1.5;\"/>\r\n   </g>\r\n   <g id=\"line2d_16\">\r\n    <path clip-path=\"url(#p91d09ac17f)\" d=\"M 43.78125 228.439219 \r\nL 50.919832 266.995469 \r\nM 76.089729 266.995469 \r\nL 78.415733 260.990837 \r\nL 89.96056 260.990837 \r\nL 101.505388 234.98416 \r\nL 113.050216 234.98416 \r\nL 124.595043 215.0165 \r\nL 136.139871 188.578645 \r\nL 147.684698 188.578645 \r\nL 159.229526 150.17169 \r\nL 170.774353 150.17169 \r\nL 182.319181 172.339699 \r\nL 193.864009 172.339699 \r\nL 205.408836 172.339699 \r\nL 216.953664 172.339699 \r\nL 228.498491 172.339699 \r\nL 240.043319 155.962645 \r\nL 251.588147 132.744573 \r\nL 263.132974 132.744573 \r\nL 274.677802 95.81169 \r\nL 286.222629 64.489459 \r\nL 297.767457 64.489459 \r\nL 309.312284 64.489459 \r\nL 320.857112 64.489459 \r\nL 332.40194 64.489459 \r\nL 343.946767 64.489459 \r\nL 355.491595 10.999219 \r\nL 367.036422 10.999219 \r\nL 378.58125 10.999219 \r\n\" style=\"fill:none;stroke:#0000ff;stroke-linecap:square;stroke-opacity:0.5;stroke-width:1.5;\"/>\r\n   </g>\r\n   <g id=\"line2d_17\">\r\n    <path clip-path=\"url(#p91d09ac17f)\" d=\"M 43.78125 228.439219 \r\nL 378.58125 10.999219 \r\n\" style=\"fill:none;stroke:#000000;stroke-dasharray:3.7,1.6;stroke-dashoffset:0;\"/>\r\n   </g>\r\n   <g id=\"patch_3\">\r\n    <path d=\"M 43.78125 228.439219 \r\nL 43.78125 10.999219 \r\n\" style=\"fill:none;stroke:#000000;stroke-linecap:square;stroke-linejoin:miter;stroke-width:0.8;\"/>\r\n   </g>\r\n   <g id=\"patch_4\">\r\n    <path d=\"M 378.58125 228.439219 \r\nL 378.58125 10.999219 \r\n\" style=\"fill:none;stroke:#000000;stroke-linecap:square;stroke-linejoin:miter;stroke-width:0.8;\"/>\r\n   </g>\r\n   <g id=\"patch_5\">\r\n    <path d=\"M 43.78125 228.439219 \r\nL 378.58125 228.439219 \r\n\" style=\"fill:none;stroke:#000000;stroke-linecap:square;stroke-linejoin:miter;stroke-width:0.8;\"/>\r\n   </g>\r\n   <g id=\"patch_6\">\r\n    <path d=\"M 43.78125 10.999219 \r\nL 378.58125 10.999219 \r\n\" style=\"fill:none;stroke:#000000;stroke-linecap:square;stroke-linejoin:miter;stroke-width:0.8;\"/>\r\n   </g>\r\n  </g>\r\n </g>\r\n <defs>\r\n  <clipPath id=\"p91d09ac17f\">\r\n   <rect height=\"217.44\" width=\"334.8\" x=\"43.78125\" y=\"10.999219\"/>\r\n  </clipPath>\r\n </defs>\r\n</svg>\r\n",
      "image/png": "[encoded data removed]"
     },
     "metadata": {
      "needs_background": "light"
     }
    }
   ],
   "source": [
    "def loocv(X, Y, hyperparam):\n",
    "    cv = LeaveOneOut()\n",
    "    print(\"---leave one out validation with best parameter set---\")\n",
    "    RF = RandomForestClassifier(random_state=0)\n",
    "    sampler = KMeansSMOTE(kmeans_estimator=KMeans(n_clusters=9, random_state=22), k_neighbors=2, cluster_balance_threshold=0.2, n_jobs=-1, random_state=22)\n",
    "    final_model = Pipeline([('over-sampling', sampler), ('clf', RF.set_params(**top_param))])\n",
    "    pred_probs = cross_val_predict(final_model, X, Y, cv=cv, n_jobs=-1, method='predict_proba')\n",
    "    Y_pred = pred_probs.argmax(axis=1)\n",
    "    \n",
    "    # ROC curve\n",
    "    fpr, tpr, _ = roc_curve(Y,pred_probs[:,1])\n",
    "    plt.plot(fpr, tpr, color='b')\n",
    "    plt.axline([0, 0], [1, 1], linewidth=1, color='k', linestyle='--')\n",
    "\n",
    "    # scoring metrics\n",
    "    f1 = round(f1_score(Y,Y_pred),3)\n",
    "    prec = round(precision_score(Y,Y_pred),3)\n",
    "    recall = round(recall_score(Y,Y_pred),3)\n",
    "    acc = round(accuracy_score(Y,Y_pred),3)\n",
    "    AUC = round(roc_auc_score(Y, pred_probs[:,1]),3)\n",
    "    conM = confusion_matrix(Y,Y_pred).tolist()\n",
    "    metric_cols=['F1','precision','recall','accuracy','AUROC','confusion_matrix']\n",
    "    print(pd.DataFrame([[f1,prec,recall,acc,AUC,conM]], columns = metric_cols))\n",
    "\n",
    "    # confidence interval bands with 5-fold cross validation\n",
    "    cv = StratifiedKFold(n_splits=5, random_state=0, shuffle=True)\n",
    "\n",
    "    metric_cols=['F1','precision','recall','accuracy','ROC_AUC','confusion_matrix']\n",
    "    tprs = []\n",
    "    fprs = []\n",
    "    for train_index, val_index in cv.split(X, Y):\n",
    "\n",
    "        X_train, X_val, Y_train, Y_val = X[train_index], X[val_index], Y[train_index], Y[val_index]\n",
    "\n",
    "        pred_probs = final_model.fit(X_train, Y_train).predict_proba(X_val)\n",
    "        Y_pred = pred_probs.argmax(axis=1) # get predicted value from probability of two classes\n",
    "\n",
    "        fpr, tpr, _ = roc_curve(Y_val,pred_probs[:,1])\n",
    "        tprs.append(tpr)\n",
    "        fprs.append(fpr)\n",
    "\n",
    "    # calculate mean and std from cross validation\n",
    "    fpr_mean    = np.linspace(0, 1, 30)\n",
    "    interp_tprs = []\n",
    "    for i in range(5):\n",
    "        fp = fprs[i]\n",
    "        tp = tprs[i]\n",
    "        interp_tpr = np.interp(fpr_mean, fp, tp)\n",
    "        interp_tpr[0] = 0.0\n",
    "        interp_tprs.append(interp_tpr)\n",
    "    tpr_mean = np.mean(interp_tprs, axis=0)\n",
    "    tpr_mean[-1] = 1.0\n",
    "    tpr_std = 1.96*np.std(interp_tprs, axis=0) # 1.96 stands for 95% CI\n",
    "    tpr_upper = np.clip(tpr_mean+tpr_std, 0, 1)\n",
    "    tpr_lower = tpr_mean-tpr_std\n",
    "\n",
    "    plt.plot(fpr_mean, tpr_upper, color='b', alpha=0.5)\n",
    "    plt.plot(fpr_mean, tpr_lower, color='b', alpha=0.5)\n",
    "    plt.fill_between(fpr_mean, tpr_upper, tpr_lower, color='b', alpha=0.3)\n",
    "    plt.axline([0, 0], [1, 1], linewidth=1, color='k', linestyle='--')\n",
    "    plt.xlim((0,1))\n",
    "    plt.ylim((0,1))\n",
    "    plt.xlabel('False positive rate')\n",
    "    plt.ylabel('True positive rate')\n",
    "\n",
    "    plt.show()\n",
    "\n",
    "    return\n",
    "\n",
    "loocv(X, Y, top_param)"
   ]
  },
  {
   "source": [
    "## 3. Feature importance"
   ],
   "cell_type": "markdown",
   "metadata": {}
  },
  {
   "cell_type": "code",
   "execution_count": 16,
   "metadata": {},
   "outputs": [
    {
     "output_type": "stream",
     "name": "stdout",
     "text": [
      "                   descriptor  importance\n28        MinAbsPartialCharge    0.187798\n4                  avg_kappa2    0.125205\n27          avg_acylindricity    0.115232\n26             MinEStateIndex    0.094314\n12                  LabuteASA    0.050541\n1   avg_smallest_principal_rg    0.046913\n14           NumAromaticRings    0.042237\n19               FractionCSP3    0.029633\n25        MaxAbsPartialCharge    0.026964\n17          MaxAbsEStateIndex    0.026801\n21          MinAbsEStateIndex    0.026562\n29                    MolLogP    0.025476\n5                      avg_rg    0.025367\n8               HallKierAlpha    0.023939\n6                      Kappa3    0.019097\n16                EState_VSA2    0.017849\n9            FpDensityMorgan2    0.016439\n3                        TPSA    0.016176\n22           MinPartialCharge    0.016039\n24                       NPR1    0.015461\n10              NumHAcceptors    0.010939\n7           NumRotatableBonds    0.010495\n15                       NPR2    0.008785\n0                        PMI1    0.007592\n11             NumHeteroatoms    0.005311\n18   NumAliphaticHeterocycles    0.003640\n2                  NumHDonors    0.002635\n23    NumAromaticHeterocycles    0.001616\n20    NumAliphaticCarbocycles    0.000945\n13     NumAromaticCarbocycles    0.000000\n"
     ]
    }
   ],
   "source": [
    "def get_importance(X, Y, clf, hyperparam, descriptors):\n",
    "    model = clf.set_params(**top_param)\n",
    "    model.fit(X,Y)\n",
    "    feature_importance = model.feature_importances_\n",
    "    # print(descriptors)\n",
    "    importance_df = pd.DataFrame({'descriptor':descriptors, 'importance':feature_importance})\n",
    "    importance_df.sort_values(by=['importance'], ascending=False, inplace=True)\n",
    "    return importance_df\n",
    "\n",
    "print(get_importance(X, Y, RF, top_param, descriptors))"
   ]
  }
 ]
}